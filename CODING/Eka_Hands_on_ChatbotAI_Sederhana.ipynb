{
  "nbformat": 4,
  "nbformat_minor": 0,
  "metadata": {
    "kernelspec": {
      "display_name": "Python 3",
      "language": "python",
      "name": "python3"
    },
    "language_info": {
      "codemirror_mode": {
        "name": "ipython",
        "version": 3
      },
      "file_extension": ".py",
      "mimetype": "text/x-python",
      "name": "python",
      "nbconvert_exporter": "python",
      "pygments_lexer": "ipython3",
      "version": "3.8.8"
    },
    "colab": {
      "name": "Eka - Hands on ChatbotAI_Sederhana.ipynb",
      "provenance": [],
      "collapsed_sections": []
    }
  },
  "cells": [
    {
      "cell_type": "markdown",
      "metadata": {
        "id": "za1gVNL5CRGY"
      },
      "source": [
        "# AI Chatbot in Python\n",
        "> Chatbot sederhana ini menggunakan konsep sederhana penerapan Cosine Similarity\n",
        "\n",
        "> Disini program Chatbot dibuat dengan sesuai kebutuhan pengguna, jadi kita bisa memilih apakah harus membuat program ini bisa bekerja pada topik tertentu, misalnya untuk Chatbot berbasis Covid-19, atau yang lainnya yang sedang relevan."
      ]
    },
    {
      "cell_type": "code",
      "metadata": {
        "id": "yE4rWjtACRGf"
      },
      "source": [
        "#sumber materi : https://towardsdatascience.com/making-a-simple-and-fast-chatbot-in-10-minutes-2d84a4ba35e\n",
        "#https://youtu.be/9KZwRBg4-P0"
      ],
      "execution_count": null,
      "outputs": []
    },
    {
      "cell_type": "markdown",
      "metadata": {
        "id": "YZW2gMYW-ZBR"
      },
      "source": [
        "# Tools scraping Artikel\n",
        "\n",
        "Pada program kali ini kita akan mengambil teks dari internet menggunakan tools newspaper3k, dimana tools ini memiliki beberapa kelebihan yaitu:\n",
        "1. Kerangka kerja dalam mengunduh artikel yang multi-thread\n",
        "2. Dapat mengidentifikasi URL baru\n",
        "3. Mampu mengekstraksi teks dari HTML\n",
        "4. Terbaik dalam hal ekstraksi gambar dari HTML\n",
        "5. Mampu mengekstraksi semua gambar dari HTML\n",
        "6. Dapat mengekstraksi kata kunci dari teks\n",
        "7. Dapat mengekstrak ringkasan teks\n",
        "8. Dapat mengekstraksi nama penulis suatu artikel\n",
        "9. Dapat mengekstraksi istilah yang sedang trend di mesin pencarian Google\n",
        "10. Dapat bekerja lebih dari 10 bahasa (termasuk Inggris, Jerman, Arab, China, dll)"
      ]
    },
    {
      "cell_type": "code",
      "metadata": {
        "id": "ye3nyhSyCRGi",
        "colab": {
          "base_uri": "https://localhost:8080/"
        },
        "outputId": "739d593d-cc91-4ddf-f423-8d66acfda6b3"
      },
      "source": [
        "!pip install newspaper3k #untuk scraping artikel pada web"
      ],
      "execution_count": null,
      "outputs": [
        {
          "output_type": "stream",
          "name": "stdout",
          "text": [
            "Collecting newspaper3k\n",
            "  Downloading newspaper3k-0.2.8-py3-none-any.whl (211 kB)\n",
            "\u001b[?25l\r\u001b[K     |█▌                              | 10 kB 35.6 MB/s eta 0:00:01\r\u001b[K     |███                             | 20 kB 44.7 MB/s eta 0:00:01\r\u001b[K     |████▋                           | 30 kB 37.1 MB/s eta 0:00:01\r\u001b[K     |██████▏                         | 40 kB 15.0 MB/s eta 0:00:01\r\u001b[K     |███████▊                        | 51 kB 13.6 MB/s eta 0:00:01\r\u001b[K     |█████████▎                      | 61 kB 15.9 MB/s eta 0:00:01\r\u001b[K     |██████████▉                     | 71 kB 15.0 MB/s eta 0:00:01\r\u001b[K     |████████████▍                   | 81 kB 14.1 MB/s eta 0:00:01\r\u001b[K     |██████████████                  | 92 kB 15.5 MB/s eta 0:00:01\r\u001b[K     |███████████████▌                | 102 kB 13.5 MB/s eta 0:00:01\r\u001b[K     |█████████████████               | 112 kB 13.5 MB/s eta 0:00:01\r\u001b[K     |██████████████████▋             | 122 kB 13.5 MB/s eta 0:00:01\r\u001b[K     |████████████████████▏           | 133 kB 13.5 MB/s eta 0:00:01\r\u001b[K     |█████████████████████▊          | 143 kB 13.5 MB/s eta 0:00:01\r\u001b[K     |███████████████████████▎        | 153 kB 13.5 MB/s eta 0:00:01\r\u001b[K     |████████████████████████▉       | 163 kB 13.5 MB/s eta 0:00:01\r\u001b[K     |██████████████████████████▍     | 174 kB 13.5 MB/s eta 0:00:01\r\u001b[K     |████████████████████████████    | 184 kB 13.5 MB/s eta 0:00:01\r\u001b[K     |█████████████████████████████▌  | 194 kB 13.5 MB/s eta 0:00:01\r\u001b[K     |███████████████████████████████ | 204 kB 13.5 MB/s eta 0:00:01\r\u001b[K     |████████████████████████████████| 211 kB 13.5 MB/s \n",
            "\u001b[?25hCollecting tinysegmenter==0.3\n",
            "  Downloading tinysegmenter-0.3.tar.gz (16 kB)\n",
            "Requirement already satisfied: requests>=2.10.0 in /usr/local/lib/python3.7/dist-packages (from newspaper3k) (2.23.0)\n",
            "Collecting tldextract>=2.0.1\n",
            "  Downloading tldextract-3.2.0-py3-none-any.whl (87 kB)\n",
            "\u001b[K     |████████████████████████████████| 87 kB 7.1 MB/s \n",
            "\u001b[?25hRequirement already satisfied: lxml>=3.6.0 in /usr/local/lib/python3.7/dist-packages (from newspaper3k) (4.2.6)\n",
            "Requirement already satisfied: beautifulsoup4>=4.4.1 in /usr/local/lib/python3.7/dist-packages (from newspaper3k) (4.6.3)\n",
            "Requirement already satisfied: nltk>=3.2.1 in /usr/local/lib/python3.7/dist-packages (from newspaper3k) (3.2.5)\n",
            "Collecting cssselect>=0.9.2\n",
            "  Downloading cssselect-1.1.0-py2.py3-none-any.whl (16 kB)\n",
            "Requirement already satisfied: PyYAML>=3.11 in /usr/local/lib/python3.7/dist-packages (from newspaper3k) (3.13)\n",
            "Collecting feedfinder2>=0.0.4\n",
            "  Downloading feedfinder2-0.0.4.tar.gz (3.3 kB)\n",
            "Collecting jieba3k>=0.35.1\n",
            "  Downloading jieba3k-0.35.1.zip (7.4 MB)\n",
            "\u001b[K     |████████████████████████████████| 7.4 MB 72.8 MB/s \n",
            "\u001b[?25hRequirement already satisfied: python-dateutil>=2.5.3 in /usr/local/lib/python3.7/dist-packages (from newspaper3k) (2.8.2)\n",
            "Collecting feedparser>=5.2.1\n",
            "  Downloading feedparser-6.0.8-py3-none-any.whl (81 kB)\n",
            "\u001b[K     |████████████████████████████████| 81 kB 8.2 MB/s \n",
            "\u001b[?25hRequirement already satisfied: Pillow>=3.3.0 in /usr/local/lib/python3.7/dist-packages (from newspaper3k) (7.1.2)\n",
            "Requirement already satisfied: six in /usr/local/lib/python3.7/dist-packages (from feedfinder2>=0.0.4->newspaper3k) (1.15.0)\n",
            "Collecting sgmllib3k\n",
            "  Downloading sgmllib3k-1.0.0.tar.gz (5.8 kB)\n",
            "Requirement already satisfied: chardet<4,>=3.0.2 in /usr/local/lib/python3.7/dist-packages (from requests>=2.10.0->newspaper3k) (3.0.4)\n",
            "Requirement already satisfied: idna<3,>=2.5 in /usr/local/lib/python3.7/dist-packages (from requests>=2.10.0->newspaper3k) (2.10)\n",
            "Requirement already satisfied: certifi>=2017.4.17 in /usr/local/lib/python3.7/dist-packages (from requests>=2.10.0->newspaper3k) (2021.10.8)\n",
            "Requirement already satisfied: urllib3!=1.25.0,!=1.25.1,<1.26,>=1.21.1 in /usr/local/lib/python3.7/dist-packages (from requests>=2.10.0->newspaper3k) (1.24.3)\n",
            "Collecting requests-file>=1.4\n",
            "  Downloading requests_file-1.5.1-py2.py3-none-any.whl (3.7 kB)\n",
            "Requirement already satisfied: filelock>=3.0.8 in /usr/local/lib/python3.7/dist-packages (from tldextract>=2.0.1->newspaper3k) (3.6.0)\n",
            "Building wheels for collected packages: tinysegmenter, feedfinder2, jieba3k, sgmllib3k\n",
            "  Building wheel for tinysegmenter (setup.py) ... \u001b[?25l\u001b[?25hdone\n",
            "  Created wheel for tinysegmenter: filename=tinysegmenter-0.3-py3-none-any.whl size=13553 sha256=6b87c41694b14a9d4d4402f8592c52a3dc511c145297a04b3a7312cf8f39c672\n",
            "  Stored in directory: /root/.cache/pip/wheels/df/67/41/faca10fa501ca010be41b49d40360c2959e1c4f09bcbfa37fa\n",
            "  Building wheel for feedfinder2 (setup.py) ... \u001b[?25l\u001b[?25hdone\n",
            "  Created wheel for feedfinder2: filename=feedfinder2-0.0.4-py3-none-any.whl size=3357 sha256=508906356f483fcde59852355a8b975ae672f0c6b56306c1a1873b42b5366fa2\n",
            "  Stored in directory: /root/.cache/pip/wheels/7f/d4/8f/6e2ca54744c9d7292d88ddb8d42876bcdab5e6d84a21c10346\n",
            "  Building wheel for jieba3k (setup.py) ... \u001b[?25l\u001b[?25hdone\n",
            "  Created wheel for jieba3k: filename=jieba3k-0.35.1-py3-none-any.whl size=7398404 sha256=53256a057f31086114b4e7c937eb04d6b27bbb4afb339a4cc7e7b7ae678d5540\n",
            "  Stored in directory: /root/.cache/pip/wheels/4c/91/46/3c208287b726df325a5979574324878b679116e4baae1af3c3\n",
            "  Building wheel for sgmllib3k (setup.py) ... \u001b[?25l\u001b[?25hdone\n",
            "  Created wheel for sgmllib3k: filename=sgmllib3k-1.0.0-py3-none-any.whl size=6066 sha256=0f071c10a89247c88d636fb8953bf78c3ef0d70e0a306cec8b5dd2d4dea382d5\n",
            "  Stored in directory: /root/.cache/pip/wheels/73/ad/a4/0dff4a6ef231fc0dfa12ffbac2a36cebfdddfe059f50e019aa\n",
            "Successfully built tinysegmenter feedfinder2 jieba3k sgmllib3k\n",
            "Installing collected packages: sgmllib3k, requests-file, tldextract, tinysegmenter, jieba3k, feedparser, feedfinder2, cssselect, newspaper3k\n",
            "Successfully installed cssselect-1.1.0 feedfinder2-0.0.4 feedparser-6.0.8 jieba3k-0.35.1 newspaper3k-0.2.8 requests-file-1.5.1 sgmllib3k-1.0.0 tinysegmenter-0.3 tldextract-3.2.0\n"
          ]
        }
      ]
    },
    {
      "cell_type": "markdown",
      "source": [
        "![import library.PNG](data:image/png;base64,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)"
      ],
      "metadata": {
        "id": "TthikshrYsSV"
      }
    },
    {
      "cell_type": "code",
      "source": [
        "# Import library\n",
        "from newspaper import Article\n",
        "import random #membantu dalam membuat list kata agar chattbot yang dibuat tidak monoton dengan respon jawabannya\n",
        "import nltk #untuk tokenisasi (library yang menyediakan corpus yang akan kita pakai dalam membuat chattbot)\n",
        "import string #untuk keperluan data bertype string\n",
        "from sklearn.feature_extraction.text import CountVectorizer #untuk ekstraksi fitur (atau vektorisasi) \n",
        "from sklearn.metrics.pairwise import cosine_similarity\n",
        "import numpy as np #library Python dasar untuk perhitungan matematis dan ilmiah.\n",
        "import warnings #mendeteksi program jika terjadi error\n",
        "warnings.filterwarnings('ignore') #mendeteksi program jika terjadi error"
      ],
      "metadata": {
        "id": "dvPwuOOXYXw6"
      },
      "execution_count": null,
      "outputs": []
    },
    {
      "cell_type": "markdown",
      "source": [
        "Note:\n",
        "\n",
        "Untuk menggunakan data tekstual untuk pemodelan prediktif, teks harus diurai untuk menghapus kata-kata tertentu - proses ini disebut **tokenisasi** . Kata-kata ini kemudian perlu dienkode sebagai bilangan bulat, atau nilai floating-point, untuk digunakan sebagai masukan dalam algoritme pembelajaran mesin. Proses ini disebut ekstraksi fitur (atau vektorisasi) .\n",
        "\n",
        "**Scikit-learn's CountVectorizer** digunakan untuk mengonversi kumpulan dokumen teks menjadi vektor jumlah istilah / token. Ini juga memungkinkan pra-pemrosesan data teks sebelum menghasilkan representasi vektor. Fungsionalitas ini menjadikannya modul representasi fitur yang sangat fleksibel untuk teks.\n",
        "\n",
        "**Tokenizing**\n",
        "Tokenizing merupakan proses pemisahan teks atau kalimat menjadi potongan kata yang disebut \n",
        "token yang kemudian di analisa. Tokenizing juga dibagi menjadi 2 jenis, yaitu tokenizing kata dan\n",
        "tokenizing kalimat. Tokenizing kata memisah sebuah kalimat dengan hasil potongan-potongan kata dari kalimat yang dipotong yang kemudian dijadikan token, sedangkan tokenizing kalimat digunakan memisah \n",
        "kalimat-kalimat yang ada dalam sebuah paragraf.\n"
      ],
      "metadata": {
        "id": "ouR9xArEnk74"
      }
    },
    {
      "cell_type": "markdown",
      "source": [
        "![download corpus.PNG](data:image/png;base64,iVBORw0KGgoAAAANSUhEUgAAARwAAAAjCAYAAABGr7UsAAAAAXNSR0IArs4c6QAAAARnQU1BAACxjwv8YQUAAAAJcEhZcwAADsMAAA7DAcdvqGQAAAVUSURBVHhe7ZpLbhQxEIbnEjlXJPZInGQ0y4hTTMQCJPasO4tkmwtEaOASWRAwdtnuLpfL7X6Nk4n+xSdNt992+Ws7sDudTub5+RkAAM4OhAMAaAaEAwBoBoQDAGgGhAMAaAaEAwBoBoQDAGgGhAMAaAaEAwBoBoQDAGgGhAMAaMZq4XT7ndntPNe3c+o6meOHuWVGeDqa693BdFra1lBbcdxnbvPuYHYfjuY0K+3e/Li6Mt+//Rbvz8jDZ/Pl6rN51NIm89t0n67Ml5t7Je11Od1e03of7vT090dnDmeI7c1OOE48qjyKIrhg4URatFmSCrV9bY5P4j3xRoXj8nz6an5pacR7FI6P8/nlXuyGN7bNnFbSozGXPnYLgXDW8GrCqc2dF86PBy3tTGwonKaiPDtLhTNwuv1nY+Dvpht/KsV9vZCKcNxkua+oO16NXyHyjvEynPhVlpsm5p+xgd1mTOpOy/Lr3tBuaRJZYLh6913/VXOok14Ujhh7JgyRbtvi5Xm7avniVaqC2/D29PDr20crB3uSEKcges9PFz+/mu+9RJzE7G9658sm8hDCiW1Q/bxMQkVQm+HXls9pGnfpSTGND75W+okyXa8hHtL4G1BjaYSScLq9sXX98enZ6cedkP6Jcfn88ZmX29m86r7b+KM6QThukkqSGNA3sWXSCccv6qyFoHpZAIh25HHQB4VPp99ik2fCsf3p89CzMgZ1bHKOwhyy9ro9L+PH3geKbEuRS3Gua5AU7EaPUiERfDTdT59eFw6XhDhFMeF42SgyqZ5wzgNt/GT++fzVhBPJ8xFivWTcJXHVv5vHmHBIFvsXJV9FOHdONoNkSm1s0X/OJOHwxvTNWlokS1U4x/mysWTtJe2ITUywsbggCWMY6mEBlW3yQrBpY5PCcBTnwDP0QVncrC8rAiDb8P4KE6VRF84gJ8fjDTshBeF0JdnEPK2Fo8x9GjvrhOPypmsh85XXy38E/amHI/OOCoe/f/prxxolMi4c9zttJ88f0edjGa8uHD/JymaukLWXCUfWycbi8tImtvnsaeNA43FlQvm1wknKWmQ+klIaZH4sSnCqfdEDuEpBOFEa64UTrkq8Ds67Ew6PYQ7Pp6zpTMaEw69IKWPC+WP7FK9SHF04pT2/hDdwwjn5OtU8ZerCkYvM37nfNq/dzK4OuuK48nFjrxXO2Dsqk/ZtGMsU4awI4IJwtjzhPIarVv+e806FM74W5TxbnHDWCGdqDBX39gLOL5xko3N83bGMK5+dDBy0WW2aaJP60ef3bfCNLuvL8x/M8dZiF8SluZNO38Ya4YS+DHORjtOXYXWF8SXzEPsR5CTnZXEAiA0v/9ZCz326F8eQPlU49jeJSvlXMnqf1jGLQiyMk8Zf3OTD/NXSI3oM+PwyBlKSNV3AcuEMUqE67HPM758LfyhOmCLV6awUjl8sCgJGtlgxUIi4aGIjhufselUMspg/lnF9yb9kQ7s8LZSNGzls7L4vFeHEoEzh9Yt5EX1P+mXbOSYC4WVtna5vQjh+TsaDXIWkEK49iUwi4f/BUJoVw8OSE05Ij22J65WXXKn9GmFu5HzU4PFn1yIT9lg6T+tJYzSLh6x/aTwkbU9gmXAs9IfhcF3av2T5o4R6lDb0j+pyKsIBbxMp64mIE87lET4U2cdnHplwQJGt5wrCuVTk1WwKFyyc/hSxUjYOCGcaNOdzT5MVIJxLJrv6Vbj4E842QDhTcNfA7a5SEQgHANAMCAcA0AwIBwDQDAgHANAMCAcA0AwIBwDQDAgHANAMCAcA0AwIBwDQDAgHANAMCAcA0Ihn8x8XBctoILtAHwAAAABJRU5ErkJggg==)"
      ],
      "metadata": {
        "id": "FHodiCJYZSt3"
      }
    },
    {
      "cell_type": "code",
      "metadata": {
        "id": "Sa8BD2nwCRGj",
        "colab": {
          "base_uri": "https://localhost:8080/"
        },
        "outputId": "34451a74-01e5-4004-f478-5ae5c021aa47"
      },
      "source": [
        "#ketikkan coding untuk mendowload corpus"
      ],
      "execution_count": null,
      "outputs": [
        {
          "output_type": "execute_result",
          "data": {
            "text/plain": [
              "True"
            ]
          },
          "metadata": {},
          "execution_count": 5
        }
      ]
    },
    {
      "cell_type": "markdown",
      "metadata": {
        "id": "LTnOWF68CRGk"
      },
      "source": [
        "# Proses 1 (Membuat korpus dengan mendownload artikel dari sebuah link)\n",
        "\n"
      ]
    },
    {
      "cell_type": "markdown",
      "source": [
        "**Corpus**, jamak dari corpora; Sebuah koleksi data linguistik, baik disusun sebagai teks-teks tertulis atau sebagai sebuah transkripsi rekaman suara. Tujuan utama dari corpus adalah untuk memverifikasi sebuah hipotesis tentang bahasa - misalnya, untuk menentukan bagaimana penggunaan suara tertentu, kata atau ragam susunan sintaksis. Linguistik Corpus berkaitan dengan prinsip-prinsip dan praktik menggunakan corpora dalam studi bahasa. Korpus komputer adalah bagian besar teks-teks yang dapat dibaca mesin.\n",
        "\n",
        "(Crystal, David. 1992. An Encyclopedic Dictionary of Language and Languages. Oxford: Blackwell.)"
      ],
      "metadata": {
        "id": "5wzx70-4T-Fk"
      }
    },
    {
      "cell_type": "markdown",
      "source": [
        "Hal pertama yang perlu kita lakukan untuk bekerja dengan NLTK adalah mengunduh NLTK corpora. Berikut langkah-langkah dalam mendapatkan corpora."
      ],
      "metadata": {
        "id": "bsdZVryFUhKR"
      }
    },
    {
      "cell_type": "markdown",
      "source": [
        "Link dapat diganti dengan link teks berbhasa Indonesia, tetapi kali ini kita mencoba menggunakan teks berbahasa Inggris terlebih dahulu. "
      ],
      "metadata": {
        "id": "3ulkBnTPUWD_"
      }
    },
    {
      "cell_type": "markdown",
      "source": [
        "![download artikel.PNG](data:image/png;base64,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)"
      ],
      "metadata": {
        "id": "i2IOIStiZ6Vf"
      }
    },
    {
      "cell_type": "code",
      "metadata": {
        "id": "otZH3R0eCRGk",
        "colab": {
          "base_uri": "https://localhost:8080/"
        },
        "outputId": "dbd66c3c-8a68-40c8-beaf-c30af1fe09a5"
      },
      "source": [
        "# Lengkapi ya codingannya dengan perintah diatas!\n",
        "article = Article('https://www.mayoclinic.org/diseases-conditions/chronic-kidney-disease/symptoms-causes/syc-20354521')\n",
        "#download artikel\n",
        "#menggambarkan syntactic structure sebuah kalimat yang tersusun dari struktur grammar formal."
      ],
      "execution_count": null,
      "outputs": [
        {
          "output_type": "stream",
          "name": "stdout",
          "text": [
            "Learn more from kidney doctor Andrew Bentall, M.D.\n",
            "\n",
            "I'm Dr. Andrew Bentall, a kidney doctor at Mayo Clinic. I look after patients with kidney disease, either in the early stages, or with more advanced kidney disease considering dialysis and transplantation as treatment options. In this video, we'll cover the basics of chronic kidney disease. What is it? Who gets it? The symptoms, diagnosis and treatment. Whether you are looking for answers for yourself or for someone you love, we're here to give you the best information available.\n",
            "\n",
            "Chronic kidney disease is a disease characterized by progressive damage and loss of function in the kidneys. It's estimated that chronic kidney disease affects about one in seven American adults. And most of those don't know they have it. Before we get into the disease itself, let's talk a little bit about the kidneys and what they do. Our kidneys play many important roles keeping our bodies in balance. They remove waste and toxins, excess water from the bloodstream, which is carried out of the body in urine. They helped to make hormones to produce red blood cells, and they turn vitamin D into its active form, so it's usable in the body.\n",
            "\n",
            "There are quite a few things that can cause or put you at higher risk for chronic kidney disease. Some of them are not things that can be avoided. Your risk is simply higher if you have a family history of certain genetic conditions like polycystic kidney disease or some autoimmune diseases like lupus or IgA nephropathy. Defects in the kidney structure can also cause your kidneys to fail, and you have an increased risk as you get older. Sometimes, other common medical conditions can increase your risk. Diabetes is the most common cause of kidney disease. Both type 1 and type 2 diabetes. But also heart disease and obesity can contribute to the damage that causes kidneys to fail. Urinary tract issues and inflammation in different parts of the kidney can also lead to long-term functional decline. There are things that are more under our control: Heavy or long-term use of certain medications, even those that are common over-the-counter. Smoking can also be a contributing factor to chronic kidney disease.\n",
            "\n",
            "Often there are no outward signs in the earlier stages of chronic kidney disease, which is grouped into stages 1 through 5. Generally, earlier stages are known as 1 to 3. And as kidney disease progresses, you may notice the following symptoms. Nausea and vomiting, muscle cramps, loss of appetite, swelling via feet and ankles, dry, itchy skin, shortness of breath, trouble sleeping, urinating either too much or too little. However, these are usually in the later stages, but they can also happen in other disorders. So don't automatically interpret this as having kidney disease. But if you're experiencing anything that concerns you, you should make an appointment with your doctor.\n",
            "\n",
            "Even before any symptoms appear, routine blood work can indicate that you might be in the early stages of chronic kidney disease. And the earlier it's detected, the easier it is to treat. This is why regular checkups with your doctor are important. If your doctor suspects the onset of chronic kidney disease, they may schedule a variety of other tests. They may also refer you to a kidney specialist, a nephrologist like myself. Urine tests can reveal abnormalities and give clues to the underlying cause of the chronic kidney disease. And this can also help to determine the underlying issues. Various imaging tests like ultrasounds or CT scans can be done to help your doctor assess the size, the structure, as well as evaluate the visible damage, inflammation or stones of your kidneys. And in some cases, a kidney biopsy may be necessary. And a small amount of tissue is taken with a needle and sent to the pathologist for further analysis.\n",
            "\n",
            "Treatment is determined by what is causing your kidneys to not function normally. Treating the cause is key, leading to reduced complications and slowing progression of kidney disease. For example, getting better blood pressure control, improved sugar control and diabetes, and reducing weight are often key interventions. However, existing damage is not usually reversible. In some conditions, treatment can reverse the cause of the disease. So seeking medical review is really important. Individual complications vary, but treatment might include high blood pressure medication, diuretics to reduce fluid and swelling, supplements to relieve anemia, statins to lower cholesterol, or medications to protect your bones and prevent blood vessel calcification. A lower-protein diet may also be recommended. It reduces the amount of waste your kidneys need to filter from your blood. These can not only slow the damage of kidney disease, but make you feel better as well. When the damage has progressed to the point that 85 to 90 percent of your kidney function is gone, and they no longer work well enough to keep you alive, it's called end-stage kidney failure. But there are still options. There's dialysis, which uses a machine to filter the toxins and remove water from your body as your kidneys are no longer able to do this. Where possible, the preferred therapy is a kidney transplant. While an organ transplant can sound daunting, it's actually often the better alternative, and the closest thing to a cure, if you qualify for a kidney transplant.\n",
            "\n",
            "If you have kidney disease, there are lifestyle choices. Namely quit smoking. Consuming alcohol in moderation. If you're overweight or obese, then try to lose weight. Staying active and getting exercise can help not only with your weight, but fatigue and stress. If your condition allows, keep up with your routine, whether that's working, hobbies, social activities, or other things you enjoy. It can be helpful to talk to someone you trust, a friend or relative who's good at listening. Or your doctor could also refer you to a therapist or social worker. It can also be helpful to find a support group and connect with people going through the same thing. Learning you have chronic kidney disease and learning how to live with it can be a challenge. But there are lots of ways to help you to be more comfortable for longer before more drastic measures are needed. And even then, there is plenty of hope. If you'd like to learn even more about chronic kidney disease, watch our other related videos or visit mayoclinic.org. We wish you well.\n"
          ]
        }
      ]
    },
    {
      "cell_type": "markdown",
      "metadata": {
        "id": "bGmRAQ9WCRGl"
      },
      "source": [
        "# Proses 2 (Tokenization)"
      ]
    },
    {
      "cell_type": "markdown",
      "source": [
        "![tokenisasi.PNG](data:image/png;base64,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)"
      ],
      "metadata": {
        "id": "1gCPIsLUaY4c"
      }
    },
    {
      "cell_type": "code",
      "metadata": {
        "id": "vh1UaZ3kCRGl",
        "colab": {
          "base_uri": "https://localhost:8080/"
        },
        "outputId": "e6193b10-641f-42cd-f78e-7b8dfa92b21b"
      },
      "source": [
        "# Tokenization\n",
        "\n",
        "\n",
        "# Print the list of sentences\n",
        "\n"
      ],
      "execution_count": null,
      "outputs": [
        {
          "output_type": "stream",
          "name": "stdout",
          "text": [
            "['Learn more from kidney doctor Andrew Bentall, M.D.', \"I'm Dr. Andrew Bentall, a kidney doctor at Mayo Clinic.\", 'I look after patients with kidney disease, either in the early stages, or with more advanced kidney disease considering dialysis and transplantation as treatment options.', \"In this video, we'll cover the basics of chronic kidney disease.\", 'What is it?', 'Who gets it?', 'The symptoms, diagnosis and treatment.', \"Whether you are looking for answers for yourself or for someone you love, we're here to give you the best information available.\", 'Chronic kidney disease is a disease characterized by progressive damage and loss of function in the kidneys.', \"It's estimated that chronic kidney disease affects about one in seven American adults.\", \"And most of those don't know they have it.\", \"Before we get into the disease itself, let's talk a little bit about the kidneys and what they do.\", 'Our kidneys play many important roles keeping our bodies in balance.', 'They remove waste and toxins, excess water from the bloodstream, which is carried out of the body in urine.', \"They helped to make hormones to produce red blood cells, and they turn vitamin D into its active form, so it's usable in the body.\", 'There are quite a few things that can cause or put you at higher risk for chronic kidney disease.', 'Some of them are not things that can be avoided.', 'Your risk is simply higher if you have a family history of certain genetic conditions like polycystic kidney disease or some autoimmune diseases like lupus or IgA nephropathy.', 'Defects in the kidney structure can also cause your kidneys to fail, and you have an increased risk as you get older.', 'Sometimes, other common medical conditions can increase your risk.', 'Diabetes is the most common cause of kidney disease.', 'Both type 1 and type 2 diabetes.', 'But also heart disease and obesity can contribute to the damage that causes kidneys to fail.', 'Urinary tract issues and inflammation in different parts of the kidney can also lead to long-term functional decline.', 'There are things that are more under our control: Heavy or long-term use of certain medications, even those that are common over-the-counter.', 'Smoking can also be a contributing factor to chronic kidney disease.', 'Often there are no outward signs in the earlier stages of chronic kidney disease, which is grouped into stages 1 through 5.', 'Generally, earlier stages are known as 1 to 3.', 'And as kidney disease progresses, you may notice the following symptoms.', 'Nausea and vomiting, muscle cramps, loss of appetite, swelling via feet and ankles, dry, itchy skin, shortness of breath, trouble sleeping, urinating either too much or too little.', 'However, these are usually in the later stages, but they can also happen in other disorders.', \"So don't automatically interpret this as having kidney disease.\", \"But if you're experiencing anything that concerns you, you should make an appointment with your doctor.\", 'Even before any symptoms appear, routine blood work can indicate that you might be in the early stages of chronic kidney disease.', \"And the earlier it's detected, the easier it is to treat.\", 'This is why regular checkups with your doctor are important.', 'If your doctor suspects the onset of chronic kidney disease, they may schedule a variety of other tests.', 'They may also refer you to a kidney specialist, a nephrologist like myself.', 'Urine tests can reveal abnormalities and give clues to the underlying cause of the chronic kidney disease.', 'And this can also help to determine the underlying issues.', 'Various imaging tests like ultrasounds or CT scans can be done to help your doctor assess the size, the structure, as well as evaluate the visible damage, inflammation or stones of your kidneys.', 'And in some cases, a kidney biopsy may be necessary.', 'And a small amount of tissue is taken with a needle and sent to the pathologist for further analysis.', 'Treatment is determined by what is causing your kidneys to not function normally.', 'Treating the cause is key, leading to reduced complications and slowing progression of kidney disease.', 'For example, getting better blood pressure control, improved sugar control and diabetes, and reducing weight are often key interventions.', 'However, existing damage is not usually reversible.', 'In some conditions, treatment can reverse the cause of the disease.', 'So seeking medical review is really important.', 'Individual complications vary, but treatment might include high blood pressure medication, diuretics to reduce fluid and swelling, supplements to relieve anemia, statins to lower cholesterol, or medications to protect your bones and prevent blood vessel calcification.', 'A lower-protein diet may also be recommended.', 'It reduces the amount of waste your kidneys need to filter from your blood.', 'These can not only slow the damage of kidney disease, but make you feel better as well.', \"When the damage has progressed to the point that 85 to 90 percent of your kidney function is gone, and they no longer work well enough to keep you alive, it's called end-stage kidney failure.\", 'But there are still options.', \"There's dialysis, which uses a machine to filter the toxins and remove water from your body as your kidneys are no longer able to do this.\", 'Where possible, the preferred therapy is a kidney transplant.', \"While an organ transplant can sound daunting, it's actually often the better alternative, and the closest thing to a cure, if you qualify for a kidney transplant.\", 'If you have kidney disease, there are lifestyle choices.', 'Namely quit smoking.', 'Consuming alcohol in moderation.', \"If you're overweight or obese, then try to lose weight.\", 'Staying active and getting exercise can help not only with your weight, but fatigue and stress.', \"If your condition allows, keep up with your routine, whether that's working, hobbies, social activities, or other things you enjoy.\", \"It can be helpful to talk to someone you trust, a friend or relative who's good at listening.\", 'Or your doctor could also refer you to a therapist or social worker.', 'It can also be helpful to find a support group and connect with people going through the same thing.', 'Learning you have chronic kidney disease and learning how to live with it can be a challenge.', 'But there are lots of ways to help you to be more comfortable for longer before more drastic measures are needed.', 'And even then, there is plenty of hope.', \"If you'd like to learn even more about chronic kidney disease, watch our other related videos or visit mayoclinic.org.\", 'We wish you well.']\n"
          ]
        }
      ]
    },
    {
      "cell_type": "markdown",
      "metadata": {
        "id": "A0kZDPHxCRGm"
      },
      "source": [
        "# Proses 3 (Bot Response)\n",
        "\n",
        "Bot respon digunakan untuk membuat sebuah percakapan awal antara pengguna dengan bot, jadi disini user dapat menyapa bot, nah untuk kata-kata dapat diganti sesuai dengan kebutuhan, misalnya bahasa indonesia. \n",
        "\n",
        "Pada percakapan awal tidak menggunakan ML atau metode lainnya, program hanya menjawab dengan kata yang di cocokkan sebagai input."
      ]
    },
    {
      "cell_type": "markdown",
      "source": [
        "![bot sederhana.PNG](data:image/png;base64,iVBORw0KGgoAAAANSUhEUgAAAoIAAAFUCAYAAACwf126AAAAAXNSR0IArs4c6QAAAARnQU1BAACxjwv8YQUAAAAJcEhZcwAADsMAAA7DAcdvqGQAAD4cSURBVHhe7d1LiyTXmf/xegmz0VuYt1PQexmDX8VsyrkwRnhhweyNszFYBi8GLNww3rh6IdFeGG28m0YqyRo0izHMYGbE/HWJf5xbxPM85xaZlVmVkfFdfKAzLucWkXl+faKq8ubrr78eAADX43//93+H//mf/xn+/ve/D//1X/81/Od//ufwH//xH8NXX301/Pu///umuTFwY+HGxI2NGyM3Vm7MSmN5CMY9OOcY4/QIggBwhdykK4PJf//3f0/c5LxFcgxkODllQNn6uMv+nmuMcVoEQQC4UmkCTsEEMzk2pbF7DFl2qe6tkONQGidcBoIgAFw5OSFjVhqrUyrVuTWlccFlIQgCAABsFEEQAABgowiCAAAAG0UQBAAA2KjLCoJvdsPN7ia6HfafFY55Bg8f3vo27d6U9wOHeRj273M/BffDzr3f398PD8X9AM7lfn9Zcy2ex0FB0N00YfJyH96nvnnChPAck6Pr1+2HD8V9zrMFQReML3KCJMg8zobG77P9cLvbDfelfR5B8KJc7GcODtf/nCEIwjkwCKYbxn14tz7cj9CdMM6nFwSfDUHwShEEcaEIgleEz2kssywIqke22hyg4v/sk/29LqPH11GaMPLVRxXc3HljXWnVTrcpMW2LH3TyHGVquzyv/L+m8D+q0jHuTeheyzIWToh+8pTlls4v9ykrq2SanEUZ5nw9NnO9ur8zdT1UWa4OMS5pv+zjNN6PGLNIt7t8zcrmD825j+Z88z6QH7CuXjcGcnz0B7C5Xma/vRfnfe683bCP+28/vPftPKRvxfs8jXnzejhhXLLzJrpf1c+Dydxu1a5iueO1l+1q3qNRVk5Z+gyRZajrpa51Ptb167XgHrbvb9lmV+/4WpavP8/M9cjeH7Xr0WHbNJHlm2tqrkePHrPl92+oVx+frl96Xb8eTusePvx9v3hMneK4xjH1+9y/xbg273F7rev9kp9D0tR21a5SuQfew6VjsBoHrAi6myJe6DR5iP33e3kThBtIvxnL7Bt4Mt3UnQ+B9CZNx/vXeVtab177oZLL2+D4totxCH1Jdac3aTovvD7oQ6QwzoEtK9alPuAapjdxapu5XmYMbT9TfcXrm7XZjF26Xql83xY9RkeP2VjWThybt7sl1T3X5z9M5X0ox7c0RuJcXbfthxk/U1Z4ra+Nb0ccuzRpLRoXNb6xT3JMmtfDjkG5H/Nrcx85vjzRtwI/Vtm9G/s9nWvK7vWrwx/vyo/1qutlys6uT7NP6T6qjaEdo/B6GsN0PdLxpu7yWCULrkePq684juVrX2+LMY7Z8e9N1w9xPUZuTKe2dO6xJfewfO/m10vXvZypy19LUZZvt6s7bTPXq3TtxZi1+zVva17/4tilMUntsmV3+oXVOSoItj+MAvVGXcLc9LPOh0D2waWPX/KB029r6cPAvGk9+cbL34RLxk3J+ia227HqfBgq8QNItk2Ogfu37pftf963Sed6hLbXyjrBmEmHjEmsW9VVG3+vcJ/Jc2XdWTl5n+39N18PUY8op3/PBtn978dfjEnzeri6zfjJvrg+mvFpjkNF+Rrbe073uduvDleWOl+005Wtx9bcl/5YfZ9Wj3XEmGXtNvvVv73CfVbr55Lr0ZPVL7bbehdc26qDzm3fC+3r0bmH4/Wqv+/d+cveaxnfLtnuUFbrPpL9cv/WfZLj0OuXU7gXreJ1yM9T91GvX1idRUHQf2iOFzonbiD/QaH3H/TmKX3QePLmD9SHQHbz6+N92zsfhKq8orwN5W3yDdR5My2R9a2xvfiGrmgeGz8YzbWshwWjcz2qffIeO2alti8ck1afovx9MPcra6cc46zPsq5yvfM9KcZPlNO/ZyN3jmhn9n5oXQ/fB9vnUTrel13YXxuHivI1zt9fqs+9fnW0xs+XVeiXukay79VrK48NY1Dsq7wG8t9eeRxS3aoPsk3SAeOS19/YfshnzqPem517wZF9l+3s3cML3ve6jKVtdly77T0rzm+OX2m8nDgO3X7NZfT7ZtuQn6fv206/sDrLVwTFB0H2Jow3pbxxWh+0RdWbacGEoG5+ffySINFva96G9GbQbzK5rfdmWiDrm9hux6o6fgULPoB0v6zGMZ3rUe2T97gxc9dRld3sp9Xut2+HKqtzn8m6sz7LusK/9f0nt4l6RDmL31/xvTlPFmY8WtejN37NaxktuAbla2zum5Hqc69fHa3xWzy2kb7vCveRGCffVzNmals2pvk4zNw+0dYl16OnVobbXrp3Fo67HqPRgvti1rkXDFVXt572+97KPwdaQtnzPWrqabat065F47egb8Vy8vP0e7TTL6zOYUEw3gjujZbf0OKN6j8gDvswrX+ohA+7VF94I7Y+/MyHhm9b+0YtfThr5Q9j++Gmy+m9mRaw4zoxE0Csa/F4dz5Ewhi3P2R830t9UdcxfWCYe6M61o8bM92mVHe7H7O8bsneI74u0a+snXKMzXUM59p7WrRTjaG498TYuTKWXO/ucQuuR3387X1YEo7pvv+yOvL3nOzL0v7XNM/346/rbtH3hr2PzBhln0dmfLLrkY/DLNQ198PUdYwzfea48T7+vanHKLxf6nWXrkf9HrbXq0O9Nzua763Roz6He/0K9LgXFNuQj4l6j/b6hdVZHATnG6H8xvE33Pjm9MabZH/oB3XrDeb3xbLHNqgP8eymLHxwxg9f2T59E8c3lajDb5f1TvLJad4n2995My0UPgxK5YcPx2nfIeV2PoAcXe8oGzNdv7zWckx2b8z1aH6IPHLMzHXefdjv56x8X89sf/eqX1k7zRjL8XRj5cYo6+dUvrzHxPiJsVPvgRZ773tiTJrXwzHvjZGu19yHo2wM1fso9S0v15vG0Nw3I9XnXr86uuOXvffL19Lu64/XyLRd7c+uhxyHwphl740F16ND90/2zZR98GfOfO5h782RvB5jvfL6ta+H07omYV91jLL7QN+TbeV7fKrLfEaUZH1T98aCe81cs/qYOakt+Zj446fr3ekXVueAXxYBsDalwOO2HTSJX6DL7VcnWGA7slAftx0SgC/RtfZrwwiCwNUKoUQHprBCkK8crMkl94sgiMCvopnA5P+zYkPUylxrv7aMIAhcs8Ij1HWHwOhi+0UQRBLuBXmPXkdYutZ+bRdBEAAAYKMIggAAABtFEAQAANgogiAAAMBGEQQBAAA2iiAIAACwUUcHwfu7Ybh9+U1xX903w/7FMNzcRHffFo5Zn09+8Y/DP/3gR8Mfvizvx3k8vLwd76HL+cPI93c3w+51eR8AAJfoSYPgw8vvh5sX363r7w19+evh5z/4yfBJaV9EEHwGr3fjfyYKf8n+o18ON+/+7jz32Ke/G27/4Zf1v57/dj/c3twO+7eFfQAAXKAnDYLHrSI+swVBEE/tftjdVFbfnjMIOi6gvuCPqwIA1uGAIGge6450qPt2nJxr++bzjwqCPoy5VTcphrMpqL0ZXqZ9P/718IU4/4vf/yg/b/Ll8Icfp32jX7yJ20V5ilj5U+0qleuOleWYY1r96nCrkD///Zeqby//LI/R7XfHyvO//vNPpn12vyvTvQ4rnYEq27Z7GrORK3d8Ldtl69bXw7a7dj1mxUfCPqSNISwjg9vnw/5dse+nf5rPdwFy3Lb7yBzrQ+Wfht1UnvT+sP80HZ88jPd5JaT6FcOb8T1wBd/sAQC4CouDoFvNkz/Tp1f3bMgLoTBMhjogzr5f+AgtBIMpTPgAUwpjaVsIQFO48MfP4cqHEBEUfdiZwoapy5mCZnxdUjwmBZrULlt2p18dU0iLbdf9snWZMfGv63WloKbblvpXKsseK8bUjH9vPLvXoxW0nMaK4P1Px/A2hb8Q9G4/+Hza//DB+2O4C8HR/9uWs2RFcFT92UWCIADgwiwLgm+/Gyew79UEqIKg229+9s//PKD6ZZAjVwR9cJChxQSRGATlqlJaLUv/lvt0CHL/NqHEBRe5ovjIICjr9gErhZxevzp8YKq10/27tCo6BSwT3gx9rDOPmQ6ckRwzO35qvEe+nbV+Lrge/rFw4+fwqkHQreqZEFc41oXF2w9+Nx5bWO1bGAR5PAwAWIvTBMHXY+grrfqdIgja0HLQClMIY9NjxkkMJjGUZPtl8GiWHxWP6QTBXr86ZNjN+LIK/ZLhTvVd11sOgqEv+b6RDGtZcDNBMB2T6s7GOrVJkMf0fiGjFgRrj46zY8NjYLlSOFkaBH0bC7/IAgDAhTldEOz+NvCxQTAPc2o1qRnU8jCmHB3yjOIxvSDY6VdHNwiqMNbm2yXaXw6C9RVBtW1JEBTUyuaSsT52RXBRiAuPi3cfhTA4/7xgxIogAODKLPwZQfkzf/Gx7/h6DnVhfzvkHRkEe6GmEx5syNFiGLMrXMq8GlbePzomCB4Y1qxmEIxtru83/ApdPQjmYU32y4zPgUFQB8sl16PzM4I+rJV+iSP+8of8BRFD/VygC5RZ6KsERIOfEQQArMXiXxZRj3/vvvVhUIe6/JdC9GR9uhVBtXq2YBUphEFxvgoqeflZgPJBKe2fQ01Wrpfa0gmCvX51tIOgEwJasWzVH0cHtfZ4jWIYTPtVOzpBMB+zcoCWx9h++qDVWHELv/SRHv/KMGd+a3iUHgGHc2SATMeaMOgDYjqf3xoGAKzb8iD4XLJgEbd1wt/Fu+B+6cB6iRp/R/C58VgYALAiFx8EfSgxgUk9qlypS+7X5QfBUe2bRZ5T7xdZAAC4MJe/Ilh6hLryEBjU+5U/PpXqP293KqsIgiO+axgAgMdZQRAEAADAORAEAQAANoogCAAAsFEEQQAAgI0iCAIAAGwUQRAAAGCjCILIxW/AuPEu7G/1CaU/H8OfcAEAYLmVBMHO98s+kgsPz/O1X+fs1wnK9oHwQoNg7Q9K80edAQBYjCA4IghWXGwQ7HzFHF/zBgDAIhcfBF1IC48oNRXc/OpQ2idXg0IYUqEgHutChH+0OJ0nPMG3VSzpl26fCGTx0a08NpQXjlk0ZkvUgmCsfyo7jVfteBPMqv0apVAuj7GBr/RIWDvvfxwAALgW618R9OFDhL/skWFYPQohqLySlMKH3PY0Gv0y/fDhJwu0sd9Zn51zrQjaMbTjW3gsK4Ngp19TiI1BL+v3wn71wyIAAFh9EHQTvg5xhWNjoNlXwsGxQbC88nbIz6fV++XK1tvzkBXCzr5SxnmCYB7MRlPQc3XGNopzZSjr9cuPqSw/a0MlbFoyfAIAgKLVB8FyGMuP9WHEhJrElXFZK4Jhe94vG4DiccWVr/qYLVYLgrY+EbpS0Ht4uRt2d2P4Htvrzgnj2+9X91r4Ni0IgoW2AwAA7SqCYDfExaByX1rNGh0bBN15rVDTV+vXshAX2n3vj83bf8YgaMZQbguhz7VpPG88fze2y7UztKPfpv61YEUQAIBTWUkQjKGrtPLlJvxmMHDBQQcRGzRK4eap1Prl29Ra0fL9jvsrq2TVMYv8/mlsCkqran6bPEeObwqCYwD09Y77xkC4S4+L4/5Wv/pBcFnA9fU0+g4AAFYUBFPgSCtvKiz4UDTvm4NGPEcGgnisDhshXEznP2mAqPcrhCbRrhRWYx9kGAqhzobBxphN5+ShKqvXE+EthsG0r3QtUpmhDh38qv2Kx9t2Wv78ZnA/wWooAAAbsKIgCCQh4FaDngujPBYGAKCLIIh18iuPhUfMlcfkAAAgRxDEapV+DtA9WuaRMAAAyxAEAQAANoogCAAAsFEEQQAAgI0iCAIAAGwUQRAAAGCjCIIAAAAbRRAEAADYKIIgAADARhEEAQAANoogCAAAsFEEQQAAgI0iCAIAAGwUQRAAAGCjCIIAAAAbRRAEAADYKIIgAADARhEEAQAANoogCAAAsFEEQQAAgI0iCAIAAGwUQRAAAGCjCIIAAAAbRRAEAADYKIIgAADARhEEAQAANooguGEPH94ON7ubYfemvB8AAFy3lQTBh2H//u2w/2z892f74Xa3G+7jvhRmZvE4dX7b/f5muP3wobhvvdyYtUMeQRAAgG1bURCM4c8Fwff3w0Pc58NM4/USWw2CAABg2y4+COYrfjMXcrLgZ1YMHRf05vPmFcNq2fv76dyv3+zUvsMC4/2wE+cGqf45qM3tM6uZqm670hnOn/aLNuv+zua2y3blK6huXNyxshwVKP0Yz/sCPeZVrk/uesky5Hg3+hWYMTX/CWi2u3Fu2Df2QbbL/oeieT0AAFifdawIilVAH95EOLBBcNH+QlAsBzwXDo6f8H0gSW2JAWMOJnPgSXXnx4u6fQiZ262OjWXpPsxBc95mlfsXxmguT4+hqcu364AxmsJU7IvpZ69f9WuVt1uPmS0rvJ7rSiExHR9eT+PXuR4AAKzR6oKgDQJp8p/JydlM5l4ekOrhIpxfCx5ttu5eEBm5cCECr65XttuVbUKIODc/vsaVUwmCsl0+BMX6bCAqjnGDD1Dy/MP65YOi6ucsa7fsXym4yX4VxkLeF+3rAQDAOl14EIxhyQc8QwQmFQxU0CgFnXwCb60yhbCQ6jVBoim2PQWTLEC1g4QPPLK/kT9etUl4iiDozxHjVQpYLSbYKQf0K+2T/SsHwXhMqd6sX/Ug2Lwe8XgAANZmFSuC8wSfh5ssCKpjRBCY9ufbmkFQ8HUdEHpseDhkRanZJhVgas4VBHUQc9p1GN0geECojMEx1V8OgrF/pcCqtvWD4JJ7BACANVlNEAyTsAsherLOgqCZ8H0YE/uz4yvbikphoqYbajpBzdeVh7QghjEVenK+781jjgiCrl1Lxqqmef6yfs10qLft1tc+HDuHuVDX/LodBNvXAwCAdVpFEJwn5Hyy9pN/XJkK8snaB4JpfymcxQCSjklhwk/+YvuBQUDXG9gg0lxNy+qXbTdtHs1lJyH8ZPuzcp25b80gWKjXWbwq2AyCTqtfuj96X+FeyOox56vA2QmCTvN6AACwPuv4ZZE1Kq0I+m2HhcmLUwpyPiA9fyjKAiwAAGgiCJ5LIRyFFat1ryL5Ppgg6Fc+m6t8T4MgCADAYQiCZ5Q/Gr6GR4mFR8MXEAIdgiAAAIchCAIAAGwUQRAAAGCjCIIAAAAbRRAEAADYKIIgAADARhEEAQAANmoFQfB+2N3cDvu3pX1b58bmZrh5cRl/vuVU7u/GPrl+Vfv20fDqnXeG3/7mC7X989+8O/zqvY/UtrP59IPht+/8bPiktK+q3O6lfP+yOr8Y7n/4zvDqY7mtwLf3ner4lMteqtKvj382/OqHHwyfy20H+OS9sb2uzcUxC3WG/e8O95/KfUuFsTv2nnnU9ag6Rb/q99nDy9vOewvA1mwjCL7erfNDr9vu6w2Cty/t1+VJ5YmOINiwwiCYuEBYHzNX9zUFweQx/Vpwn631MxHAyREEL9lGP6yXBkE72a4lCB4bEnz/smB1muBRLnupSr9WEgQfFczPdD0e168F9xlBEEC0niD4ej/cVh5pqMcdo93ruO+tOEdZ/g0ftmzvLn57RfowlfWkfd7DsH9ROG8SV/SiKfwsaLdqV7Hc8VhZTmfMbDnVMX0C/SBYloKgfKSoJ8MwQaZ98yRem7zNZOyCjTx/CoKliXfBZHwSqe2ybzqgth+xnlEMgp+461Kp31+zuK+2InlsEJT9Pv4x66H612NanU2K/3mp90uP2ZH9IggCiFYSBF0YSSEohKspKLgPNBns/Guzgnjsh54PUnNZ/mfXZDm+LtG20vFTuDLtzl6HfqrAtaDdPrBVA2YaF1N2r19+vxjTJ/aoIDhOjik06BUbu/oTXqdJuBw2xGTsJ28x6ZoVQR865ITuQ2M52JxW7MfUNtvPWTtQnUEKzmlc7JiY1/p6zY4JgrascG9cwvUIAXH+D0J43bz35Pbxvnsljq2NWdexn4kArs4qHw378OM/xGyYCrIgceSH3lxP3OaDXyt0hvaEwOXabcKUbIcLW6ZNWahb0O56ENRjJsek2y8fBI9bBfRl+xCqHVLWo4KgDGMyrJWCmdjvzg2TcZi4/UQt9mdhxARB+/rpQpdob9yWjUP0LEFQhRQdblx78lXUPPwcHgRDuNJl5+N0Hu3rUQxu2Tg5lSBo2ftwqQWfLQC2YZ0/Izh9iMngNTtVEAwByaycLQ1qMUxloSgd78su7H+CINjt13RMbNMxY/cIZwuCdrK1+92547ZX7/0srLq4/fGcbhBUAcBN4kdMzkdZaxAM7Z4fcSanCoJ22wUFQXttDgqCpXEjCAI43npXBH1wKa0IFrYd+6GXhbnGCp/Ve7y6pE0LjjkqCPb6ZfiguHD8VrUiKLfF0Od+nu3Vx+Nk+944MadwOO7vB0FRvzjv/NrBQ7rEILgkmB0XBG3ZpW3nsCAImtBX2lYLgm4s1LGF+3ARgiCAaIVB0L2eg0UIHiLIuA84G2x88NHBaIluIGl+mIZAmoe0JPSjWf6Cdh8TBA8NWr6OJ5w0zhIEYxCYA0WYsKfXMQjevxeO/+S9MRCO0n49WYey8pWYMHn/9oellZw+1+9DQ/OTBMH0H4dD74FmEIztXBBiDg+CeWAqh60O/1nSeg+XdK6Hvyfl/nAv5QG10a/p2oa6WBEE8Bgr+mWRmZ0o9SpUOTjpY9orYJNs5cyc2/0wjWFQnK8DzqF9S3Xn5XrThNUOgr1+6Tr1vqdwniDohEl3eqSmwlLcl7b51UI5QadJ13ETtDs+n4CzFZtDxOBxWN97QdD0OTosEKb77cD7oBMEnRAGRdum4zvtjtdH02X7azHtOyIspffnQYFpQTCPYTC1TV2LXr/Mua9+Y+/xhQiCAKIVBMHnUwokftXmoBWCy3Pp/To2CF6C9upVRwzoh60IPg1/f2wuOPRW9VeMIAggIghWhUlAB5KwQrDWkBJcfr9WGwT9as4xK0/zCu/FhcC4Srm10DCtil9jCHQIggCiDQfB/LGs4iaAwiPUdYfA6ML75VefUtvWMFlNj/Pyn+kCLon6sQ+CIIARK4IAAAAbRRAEAADYKIIgAADARhEEAQAANoogCAAAsFEEQQAAgI0iCAIAAGwUQRAAAGCjCIIAAAAbRRAEAADYKIIgAADARhEEAQAANoogCAAAsFEEQQAAgI0iCAIAAGwUQRAAAGCjCIIAAAAbRRAEAADYKIIgAADARhEEAQAANoogCAAAsFEEQQAAgI0iCAIAAGwUQRAAAGCjCIIAAAAbRRBE1f3+ZrjZ3Q77z8r7AQDAuq0kCD4M+/djIPlsP9zudsP9tP1muP3wwRxrtyGjxrGMIAgAwHVbURCMocUFmPf3w8O0nSB4lAVBEAAAXLeLD4IPH94ONzu3MpXbvVkWBG0Zuzdz+en4af/+ft43haX7YZf2TyE0aJfd4cufzw1E4G3W3Wi3J84bzeOht8/Eyp9qlw2L7vxxmzymMyZe1j4AAPDc1rEi6EJHDBs+ZEyhYkEQnAJV2q/5x5+18qawk0JSCFFT2OuU3WbqerMT9Yw6dTfbnb027XaWtL14TAqSaXtpTOZ++HaaoAgAAC7D6oKgCxb1wFPYFgNVeaXOhRgTdFwgS8GlcK6qv1l2hwlM5UBVq3tBu0340gE6HnN0EJTt1mPi65F1+4DbqQcAADyLCw+CIdRljxkdHzYWBEHHhxF5Xtwew5YqVx6zJCzVyu4KwW9qpw1Mrbp77ZZtkp4gCIa6zYqgrBcAAFyMVawIzqtZIeRVV+i8/BjJB5OlQW9JWBJU2V15yFVtbtXda5cLY712LOlb8ZhOEPTnyH4tHz8AAPC0VhMEQ9Bw4UmHkEMfRerjYxirrVgtCUtC1paWXlhr1t1pt11tLArH1AKzd0QQzIM5AAC4VKsIgnO4yENI2j+vQBWC4rTPscEmX5mbgkwnCPbLbsnrdaZg1g2hjXZ7IejJ/VnoU4+Q53HL++WktrSDYGh37VwAAHBJ1vHLIteotCLYWc1cg9KKoA/q/JwgAAAXhyD4TEqPkX1gWvpo+SKFVcrSyqQNhwAA4PkRBJ9N4dHwqkNgVHg0TAgEAOAyEQQBAAA2iiAIAACwUQRBAACAjSIIAgAAbBRBEAAAYKMIggAAABtFELxmb/fD7c3NcHN3TX/M+WHYvxj75PpV6dvnv3l3+NU7Pxs+Udu/GO5/+M7w6mO5reDTD4bfvvPO8Kv3Pirv//hnY9nvDvefFvZ1fTS8Gsv+7W++0NtdmT/8YPhcbju5St2LhLHLx8SVeexYjNJYe/Z6fT188l7ad2y7a/fCUo8Zs2fUu4fP6VHvj9p9tnb1fj28vJ0/y15cwZ8PwyoRBFfs/u5muH3Z+Bt9VxwEd69L+wKCYMkFBsHEj3k9rLlASBAUevcLQfDCLOjX6x1BEM+GILhi3SB4lRYGwWyiXBgEe/xE97hgkbXhCYPgcf0PY5cHopUEwaPH9jFjdkZPcr8c6VHvj9p9tnYL+kUQxDNaQRC8H3Y3t8P+7bwtC0DuTZSW10c2HKnl9xv9Xb6pLHlMK2RY7vy57CDV3y/b9S0/L6m1W28XxMqfbJct14/XeKwsxx7T6pdt99N+gPWDYFkKgmFyLz2OPMWjyKPEif0Tv3pVrj+sbBXaXZp4HzUZHyIGwY/jCpRjA4pvS2p3JTQeGQT1mDxtYJP3SpLamNor26fbJu/BQt9qY5ZW+jLz2DXvYVfuex+pdtljWv1K76F531PcY+l9a7eb/4SoMbPH99qtr4e6h1256p7W9bqxdOMjx+2o+5AgiGd0BUEw36/4kGhClHjDTYEnhii7v0mVHX92rRTGimWH4224mgJOp92OHoey4jG+bNFWU9eSfvXqPZ/HBcF5Yg2vs8lylCZyu/1s0iSWHh3512KyMq/9RD5NTmESk5OPn5Se5PFamkBT20xbfHCxk3UhPBwTBItjJOo6J1V3vK/EeE+hIG7T18ved0eMmdtmA7dRHzPRVlt2p1++H09yX2nl96MMZOO/ZbtMv3rtLpcfZWMt641lj2M6nW/HdCn3mUsQxDO5kiBYDybu2HwVbi7P7VdvQP9zdSIUNfhzRUAqhsxa2e7f5o3vz4/l9dqdjjk6CKq6C2NySL8O4M91IVRpBPnMY1cE5221CaI5MZxDZ7Jx7dGrDIXJaOqH3ndeeV1y7Fy79Djm18A7OAjaMFU77jxcPVlAEtfP75fXU/bP/duEOHn9Fo1Zdr/kimOx4D5r9cu/PibkPNI8JmIsmvdM4f3Rub+q47kkCKrPkCPffwRBPKPreDScfinCkyEurmap0OHo0NMLUzU+IJmVM1lWs2y/6lZomw9g/XY7S9pePKYTBHv9su07PJQ9Rqh7O0EwtNuv5ChispGToiur0KfzyCc9OXZ+gs3afbogaMt5quumg0Voi6y32Q53fQpjkq7ZojHL7pdcsQ1LQk2jX45s31OMtZfu6fE+efXez4ZXrl4TqPNxy+/Lerv1e6w91kuCYOEe7yEI4hldRxAUSiGmFRoeEwSzMGfeyN0gWH3jLws75wqCvX4pMYQvDWauPapsT1/ftm0GwfbEMh/j2n7wJHS0fhBcNI5HBsH+tjNx1yuGBs+Esma/s2utLRqzThlOsZxOqOn1SwuB50nGO4Y+9zO0rz4er/N7Y7tcW+N7VwdYJ78vZ512+3tRvIc6Y1YOgrW6GwiCeEYrCYLzxB+CXidgiVVBHQxzxwfBx4bM0K/a/l67HX9M58Pj8CB4aNDS1+f8LjkIhrYdFmxHSyabRlDyfBnvZo8dlzmy3YVJT42dDxYLJsWDg2BhTHxdnTGy0pOEgybg/D6y2vdPJ4gsGTM/Xu1jDg+C/X5pxwTvI++zGATv3wvX95P3xkA4SnX7e0H0y/W9Poa9dofro4LgdF+Fc2XZ9jPE133Me5AgiGe0giA4kitUd/c63Mh9Xv4hk8LjRLzhjg+Co6zuQ8sOIUqeLwNOq91B+mCNpp/ry8t11JipsmQQjPvt+dPxedlHj99RzhUEwwSgVkRGh0108zU7qH3NCToIwUe0LZtsOgGj46h2F9qZBRA/kYp2i7CW9Unt718PfX5t4m9J75/2f7gyWZ9GJoi0r0PeNxXAGmOW6L4vHLPefdbsVwpBQuE/UT3H32eivtjOecx0v3/7mw9Ev3rtzsfMXrsQLIPwVwfmMeu/LxfKPpOBp7OOIHiRSoEkbHvaYHRql96vUvsuiA/Rh66snYKZ1A/1bO1+Xu4/a4dNwPl/KNK2dvi7dE/Uryu7z3wQPCIQZwiCeEYEwaMVHoke+PNyl+nS+3WpQTCtlD7PJOdXLY6akJ633c/GB5JDQ6ATVpBUYLI/V7ZK5+7Xdd5nBEFcA4JgRfZYVokfZmkyEdYdAqOL7lcIglPbxJ+52aLpsdWxj6RwuMIj1HWHwOha+3VGjw2Cap4hCOKZEAQBAAA2iiAIAACwUQRBAACAjSIIAgAAbBRBEAAAYKMIggAAABtFEAQAANgogiAAAMBGEQQBAAA2iiAIAACwUQRBAACAjSIIAgAAbBRBEAAAYKMIggAAABtFEAQAANgogiAAAMBGEQQBAAA2iiAIAACwUQRBAACAjSIIAgAAbBRBEAAAYKMIggAAABtFEAQAANgogiAAAMBGEQQBAAA2alVB8MuXb4d/ufm36GH4S+GY9XoY9i9uht3r0r6ab4fdzTDcvPhueCjuh/Tw8na4ubkJ7u6Lx3z9dj/ctvYvcj9el9th/1Zsc+W+2HOdAAAXZT1B8O1fh1c3b4c3cnK9KhcWBF/vxnLPFFzOWfYCPhAeEwT9vt1wb7cr4TrevnzI9t3fPTZgAgBwWusJgq8fhn958dfhy9K+q3BMEDyjrQbBlgVB0Jdd7duFXWMAwOatJgj6x8KVIKgfGf/b8Ec50aYA6VcU4zF3X6nzi2qTvgkxfpUnPW40jwPdPrcyJB9J6hDgHiHK85eHhIeX34/HD8Hdt2a/Wyn8frh/+93Yh3jM0lXDtCKWkWMRAs20T4SqMB7i2FieXyFbVHaPGTNxLdw4u3rkNSmNZy0IyvP0il5+nQLz+Lf0SNhqhOBwn3TOBwDghC4+CP7lbg540quXfwvHuKAnf17QvxaPkP1rd048ZvEj5sqkLiZyu/oTJvI51EzBIoYOfbx9hHjcapEPhMUg6ALgGAbF64PKbgQW368pSJX7EfbbfdEjVgRd3Vl5URh/sd/VUwiZ/rhCEEyqdfRWBBf1qx4WQ/sJggCAp7PyFcG/DW9eiFAYufCog6IMfuEctWpY5EJMnJRFAJhDRFgl0uFKhzkfmGQwkEEiCw363KXqQfB7FSju74Yx3HwjjumohhrXbxOGsmNj2HlZKWNRYCrLxlTIA145dJ0rCPbKDY67zgAAnMNVBEEb6rIgeOTPFrpA4CbshzHQ7O52PlC4yT6EhFLIyINgbfVqtUGw9njXHuvOr61uPSIIpnFK9crxKgfBfEzPFQR9SO0Gwc59AQDAE7rCFUGz7RFBMIS++zF4jJP/GAJ24+SdwmE5ZOht1xsE62HIS8f4MFg49lFBUIihNI1ZOQiyIggAQM3qf1kk/KKI/RlB8/pRQXAMgH5yH0PFGAh36XHxuN+vAIlA44OAeN0Mgj5UmLIKq1c9ZwuCpn2zuCJXDTxhf+q375c9tlp2FANePyzq4G2DmL0+ydFBsBj+hUUBtxxOHd+u1rgAAHBiqw+C077pF0nML4I8Igj6iV1M/CGs6RWhFOCCfF81CI7CxB/Odce545cFwW/GsBV/G1iaAuEJguBItk/3TT+eTe2ftsswlEKdCV71ssU5WagKQSyvN+zXZY7U+XmbvaldedlOdv3iPRHY0NYJik4jLBIEAQBPbTVBEOjxQaqx0vcUfBuqq4IhjC4L+wAAnB9BEFfjEoKgfTQu+dXjZ28fAAAzgiCuxmUEQafwc4DucXd1pRAAgOdBEAQAANgogiAAAMBGEQQBAAA2iiAIAACwUQRBAACAjSIIAgAAbBRBcIH0zSV/rP4h4K+GP07fbGK/+/gSHPeHjN23kdyYbyjB8wnfYsM3jwAATocguEAvCP7lbgyAd18V910GguDF81+rZ75qzyAIAgBOjSD4aH8b3rxorRZeAr7a7OItCIIAAJwaQbBJPvJ9O7wprsSEYw4LgrVgpr+Rwn9Txo1bBQrk8W51yH2NmTxGl+fKms/N9ze8/W4MJW41MKwI6nDy7VjuuE0e8+K7xd+YkX37RxaAwtjM7bbhSPdLfZXb6134nl9fZjzmkG8akedNYv1TO0X95ptC9PVa2u78OgVi5U+1y5brxssdK8sxx7T6NWrdZ0Esm6/HA4CrQxBcxIU9EwTf/nV4NYVE6WH4izq3LAU5vd1NuDEAuFAjJ3T/eg4H4THhPDn7yXwKJiFMzeUfuSLow14pCMqAGF4vLbsXBLP9iu1XCChT3X6M3LjE8nzZIlA1mbLNeM9hKm0r1W36Ub0e5lzHjENR8ZhQ9twuW9eSfnXqJQgCwNUiCC5SCIJq3+GPhl1QCJNzmKh9KJgmZTuZBzI8+iAoV6TkhO4me7VaJeqYti1QDYL65wbdzxLevvxGHFO3KAjWgok7trQKl8qzIeeQfvt2yHNNWPP7dVn2euh63PmxvF67HTMORcVj8j6qso/oFwBgOwiCi5w+CPrQ4ibrcSLe3e2GnQsUblL2gaEcYGzwsEFxsuIg6PiQ61agRqqPPujN+yYyCJrAtVwISFN9vi7RrkI7Z2F887bFANZrt9MsPyoe0wmCvX5N22Kbjh4/AMAaEQQXOUMQjKHvfpy0d6/HyfxunIDdhOwn8DC566Cnt11zEJwVQkwrqPT2N4UxkkFNjdeCIFgd3yXtOlsQ7PTL8CH86DEEAKwNQXCR8wXB/V2Y2O/vxkA4SqHHT+Zy0ndhQrxuBkEfGObHgWmF7WKC4BQ0QtCrPgqOIWbupwmG1mOCYO/cTlDLrpfSabcXjmleo2OC4IFjoq9PEq+TDPAAgKtAEGx5/VD4ZRAbCI8MgnZy9UGvMKG7Yzz5c16dIDiS57rj3PFLg+DDy+/H89JvDSfyl0OOD4J6hWrs02sZbvLVqzx8xHETpn49JgiW6pZld4Kgo6/XSLWl0e4k3gPBfL2zcj09Ztl901gRdNLxedmlPhIEAeBaEQQBpxQifTBrh7+Ld639AgCcBEEQGPmVMROYruHn5a61XwCA0yAIYgPyx7KKf+RZeIR6FWHpWvsFADgFgiAAAMBGEQQBAAA2iiAIAACwUQRBAACAjSIIAgAAbBRBEAAAYKMIgrhepT+m/Czcn6/R3wxzjPBVgY8vp862M//WEszOfz1K3DXij4EDOB2C4NX62/DmxTFffXdFCIIHCKFPf23hCYLggq/mu0gL2v08QbD8R8IB4FgEwatFELy2IHhO5XBBELzUdrsQ2vqucQBYiiB4qd7+dXh18zD85euvhj/e/NvwL86Lvw5fTseEoOe3O3dfTef+5U5sF169/Fs45vWDKcvV8XZ4k4JK2u/bEM+fynfHju2S+1RZHSmc+YnWraiM/Dd7pGPMN2GocBIfi8lzTXjxgSbtK55f3ufOu325j/vHOvz38Y7/Vm3rqZUfg+Dr5e1W4Uv2txZOUnsjHRJ0u/IAEduXBdUUBOX5pn7VttE0XmYsJgcEYlu2F+v3+9y/RT3NMbXjZu6zQ9rdvB6uXHfsAWNmj2ley2jqv9kOAAciCF6qKWilgBYCYVrh82FvCmchFE5BT2wrrgguCYK+bhdEx9e+Lbod0z7Trq5pkouTmJ/Q5kn24eVOBIUwWc8TYZpc0wQYXk+hyZdtJtQpHNiyYhCIASCEBteOuN2dd9BkG9pSnLSPaXcpMNXaUzveK4+hCppqnKQ4FqJs/zjUhKa5rMIYHB1YTLttH325sm3tMfXXV/RR98OO0WhJu4vH2DGzZXf65fshX9eEctR1BIAjEAQvVQyCMmC58BfCXlyVk8dn4e6xQVC8VmWZY0dzu+ZtVdnE157Q/ASugoeeJOdHZIVyZMAxwcATE/lcjyjngBBjg4bWb7cKIWr/vK0VPLJjE3eOaZce0/z1rDKmcsxsn+WYOweMoeLPswFJtMXv122TY+b+rdqtroH7t2nTMe0uHpOPmRrfXr/i6+r1FIr3CAAciCB4qXwQNGFP7XOrcsYpg6DaL50gCFYD0yhO8PLR2MmCoK1XTOTzZC3KWRIGIteOcphyDmy32i+2F9tjg4Th+m3H0xFtrbe90LbimIn9xwSqIhOIfD9EOc1yQ7vzfsdr4M8t7H+KINjrl6PaV29DcfwB4EAEwUvVDYKVfZM1BkEzSY7ySfQRQdBOqmLbY4Nge1Lut1v2ubxttDB4KM3xDuptb4+pP8+UnW07YAy1ULcMaqodzXI7Y7KkTUcfk9etx7fTL8OfW2lH8T8LAHAgguClaoa9EPLkL4iU6J8jFPyj31R2LOuCguA0MfqJdpwsFwVBs7KVzp3qsiEzTMjp9TxZi4m8MNH7OkqTd6yvPKm3251N9qXQ6hSDRzss5P0uqF4TG2r0mOV9Ntevum2BXoCtjEXSHpMYxorhN1nQ7mIb7JjJe2t83euXVbsXCvUAwDEIgpequ+qXAtwsD2MutJX3+5AYt//x9aWsCKYJPIQtNwHu5STaCVRp8k7n+t8uVnXJ/SMRBObJWkywhYm+GgSdGIym8qe6e+22/dbH6n2Jbpc9Rgc/0++Rbn/Yn/cpBiZxXhYoTZ+z/Y4PM+kY3be6vG5namMxhGnZuKl7YUHfKu1uX488oPnjp3ut0y9Vp1MZrwX9B4AlCIIAQlg5ZKXq3Er/YfAhaeXh50T9sv+RAIBjEQQBjMJK1aWEi1Iw9auxlxRWj3CKfl1caAewagRBAFH+CPs88kfVinhEr7ZfRfh5bL/c2PFIGMDpEAQBAAA2iiAIAACwUQRBAACAjSIIAgAAbBRBEAAAYKMIggAAABtFEAQAANgogiAAAMBGEQQBAAA2iiAIAACwUQRBAACAjSIIAgAAbBRBEAAAYKMIggAAABtFEAQAANgogiAAAMBGEQQBAAA2iiAIAACwUQRBAACAjSIIAgAAbBRBEAAAYKMIggAAABtFEAQAANgogiAAAMBGEQQBAAA2iiB4iM/2w+1uN9yX9gFndr+/GW52t8P+s/J+AAAOtZIg+DDs348ToA1jb3bj5OgmyOSMEyVB8AK4e+Fm2L0p7VuxBfcWQRAAcGorCoJxknQT5vv74SHtc0FQvH748HacLM8U1giCF2C7QRAAgFO7+CAYgp1c8Zv5MGCCYFgh1BOqLkOuqKSVxvthN+03k3G24qj3h1WaRJTtztvvfWjx29+4iX78t2xryxQMRNvUuSEQTXXv7/X58jx7rm/bvRqX2w8f1PnVfvlyx3b59sX9tk9mzGzZ+nqY8W7QbZrJ8uvtXkD2aRLb170evX7p6zG32VyniWi7apctt38PF99D2f0CANiidawIuokwTrp+UpOTmAsdYkL2QUBO0OO5OxEU/PnT/hSm0qQbXk+TtJ+A7YQ8T7K6rDThxv0xDLmwGsKJ2+4m64XhZJr80/Fhok8rYb7MaRxMu+N+G8AmKail800/m/2agot+Pa/Qdfro666PYV/oa2lFsN3uHjOGvp322tevR7tf9vrYMRuZe6uoeEwoe+k9nL0/AACbtrogmAWcFGqS3kqHmkzzUOEn8FhGVpc6tzCZy/Jcu7I2d0KS5OvS5etyTCAQ9aVjqxO+OVaPQ6dfhT7ocQrnq3ET3LG67APGxMuvWdBrd4cJTFl5zevR6Zc711wLeZ956t6qKB6T91GWrQPpyARWAMC2XXgQDJOcCnpJmtxkqClOcqUy0jHtSVQHnJGaiEsBRpQn2jWXc0DoaQUDv8/2aaTChu63CimVIFhvoxynfH95nFLdsg+6TbOFY+LJtki9dve480U/7L3Uuh69fvmyCvufIAiGuudxcddK1QsA2LRVrAjOE1thYlehJuyXocRPfDL0qMm0PYn2g6ANGWKbaNd5gmAnNEj+eNFWNWaOHIdOvwp9yMZJ8OPZGO/D1crotbsnlCuDmjqvOeadfmXjXbDkmhaPyetWQTBe+7lfB9w3AICrt5ogGIKGm/RMkLKTrHstJju9ApIm+7S/PYn6f09lh1CRlS3qVsefMwimfkz96jGByIyZb/fSfhX60AqC9nrYuo6hr6nZXm13h72PrE5Qa/crjH91jDxzjUqOCILNawMA2LxVBMF5MisEqWwCNyHJrIjsPpSTaXsSncry57p6Xf16IvbhYypf7DtrEHRk24J5wg+horxv5MOZ3J/XU+1XoQ8qbGRl5/0NoUkcszSsTXT/ZN/q7e7Jx9OZ7o3u9ej1K78mWehTYzePW1aul9rSuYfN/a/PBQBs3Tp+WQSnlYVnFMfEB7N1hyYV0sW20ooqAGB7CIJbRBDM+FU0MyY+MK16nMJqoQ6CYWXShkMAwDYRBLeIIFhQeDR8DWNUeDRMCAQAJARBAACAjSIIAgAAbBRBEAAAYKMIggAAABtFEAQAANgogiAAAMBGrTAIfjPsXwzD7nVpX8u3w+5mGG6i25ffFI65PF/8/kfDP/3gH4eXfy7vP4kvfz38/Ac/GT4p7cMR7sd77XbYvy3tewZv98PtC/5cEAAgt5kgeH83BsC7b4v7ns+Xwx9+3A55rSD4yS/+cfj577/Mth+MIHhCD+P9eTP+R8P+rb7Ph/27u2H3kdx2Ovc/3Q23H3xe3Ofc392M9z/fJgIA0DYSBI9dRTy3fhBsIQhenoeXt8NNcfXteYNgCqiX9x4AADynlQRB/VjXURPa6+/Fvu8Lj+TC+cdMgmlFTvnFm7D/zz8Z/unHvx6+8EHK7PNC0JvOc8fGfS7ETduFOdi9GV5O2380/OHLVGalTc5UtztXn5OFRtd2db4OgrqOA0LiFCpF+0W/nXbZZszUflfm+FqOtylbj6scA1euey3H1dYt941M2XrM9PgG5UfCLqTd/ENOBbePfin2vT/sP03nhwB58+7v5nAZj3Wh8uGD98V5wk//NJedvB63Vx4R+xXDm3V/rzIA4HArCIJhNW/+mT6zuvf2u+FWhj8fCr8PE5rfpwNkCouLJjwfOOYJ34cMGQ6mYBADhTn+i9//xAQRu4K3ZEUwD3VJfUUwP0cda9qZrQj6fs2vfXCzoahmCmmp/BCupj52yvavVZiWUlBL5+sxLZZljp3blV+P+niO7JiZfniNoNVcEfz0d8OtDH8+6P1S3KN/GnZjuAvBMfzbltNfEXTqP7tIEASAbbr8IOiC3YvvxOSqg+DDy+/NL36UHgMftyKYBSA7+fvXMnC1g10ecp4nCGbnmSDo9us21duQiUFQnm/rbpWtw5uVt2MeU7fPli3HNx9rez1c22qB1x2rxzovzz8Wrv4cXj0IulU9HeIKx/qw+Mth71YAC6t9y4Igj4cBANrqg6D/JZBsxe80QdAGPR8UZJBz+1srZdPqmHDxQTC0SbXZK7chY0KltqxsP85xn+5fJQj6a1AaJzm++VjbIGjbJ4+VbZLkMe1fyKgHwdqjY3tseAwsVwpny4JgaGP+iywAgK26iiDY/1MwRwbBLMiZgNMMgmGFSgaZWvC4xCDYblPDgiC4vGw7hnm/5jENx+qy5bYlQVCI1z4dXx/r2bErgotCnHtc/O7vhnsXBuXPC0asCAIAjnH5QdD8DGBaAZwms/gzgaWfe5odFwS7k/+CIDgFjxQqTfBwdVTDiJeHn2ReDbP7dN3+uPF16os+LxwrQ244vhbmOppB8NCyQ3irBsFCWJPjoft5YBC01y/7MYCC5s8IhrBW/CUO/zOB8hdELPlzgSFQ2tDnVwsLAVHjZwQBANoKflnErbS4sBcCoFv9c2FQhTofBuWjYfvLIKdaEdSBqfdoOISe+bw/FINHCmLBFHp88Ji3BzaIhHAz7Zdly/PH7TrUyvNcma4NOpzpto8a/VQ6QdCpl23646jx0mPlyGDn+DA47Zft6AXBvOzsPwHZNbH9dEGrteIWAl169KvCnPqtYSc9Ao7nyAAZj9VhMATE6Xx+axgAsMAqguBzKa0I9lfwcD4urHVW5Z5Z/e8IPjceCwMAcgTBqrCCpINgWDXKVorwRC4/CNa/WeR5tX+RBQCwVQTBlsKj4U2HwOKj8tn5x2YNQdDhu4YBAOtAEAQAANgogiAAAMBGEQQBAAA2iiAIAACwUQRBAACAjSIIAgAAbBRBECcWvl3jxrugP6Filb5lgz+zAgDYGIJgjwsHZ/vqrcd924P7I8Fn+8PFne/N7buwv6Un+Wva+M5d/vAyAGAjCII9BMHy/q5LDYK9b/7gq9gAANtBEKySjzglHW78d8tO+0Rg9AFSBw75xf7h37klwU7XKaiVLN3+Wjv8NtnW+G9VrndoGK4HQd33+ZhysLXBrN6vKbzKPtjVvSUB99EhGACAdSAI9rRWBF1gEPt8QJMBwu+PQcccG5xrRdCueoXwNNcT9oeQZI+NHh2GykHQjlEItWFc/L+zx7JyjDr98mPsAmAcZ3/tdBvqYybVQywAANeEINjTCIIuVOgQlweIEG72IsxIMuRoetUsWRhqXJtNiMtDVmzry0rgO0sQNMHNE2Pg6oxtnPsmyun1ywdBWacd3/p4a0uPAwBg3QiCPdUgGMJCL6xNx2UrXfO+YwNHNQhOK2OGbUMWnMy+swTB8vj4MZiC3njc3W7k2uvOiePf61e3za6sZeNdHVsAAK4IQbCnEwR7oSIEint/bB4s6mW48/LQo0NUMwj2Qlzqlw9Xhf6dLQja/sptMfSNdbt+3Y9h8F6uAvba1G3z0uD9uIAOAMBaEAS76qtI8ufb7D5PhiwfvPLVNx/4iquFfb7+YvAJba6vaIWgk/YX21Bp78T3rdV214ZKf0WbdR9CEHSPq915bp9bGZzr6PSrGwQb4Vkptx0AgGtDEFwihR5PB4QQBtM+EXLiOTJA+hCUBYwQbtL5/ZAihUA31a1CmS7XCW2J58jA5EOfPd/2zQTeWhBUY5XoPodxSGS5pm2xXXpMav0aLQiCoX2N8O4sKQcAgCtAEMTG6NXQ2n4eCwMAtoAgiO1pPPYuPiYHAOBKEQSxTaXHvy4g8kgYALAhBEEAAICNIggCAABsFEEQAABgowiCAAAAG0UQBAAA2CiCIAAAwEYRBAEAADaKIAgAALBRBEEAAICNIggCAABsFEEQAABgowiCAAAAG0UQBAAA2CiCIAAAwIV5/fr/hn/9V6103GMRBAEAAC6IC303N0Pmn//5/xWPP97Xw/8HJ5sa9C0cr10AAAAASUVORK5CYII=)"
      ],
      "metadata": {
        "id": "PVrDslM8a0cm"
      }
    },
    {
      "cell_type": "code",
      "metadata": {
        "id": "qII0gu1dCRGm"
      },
      "source": [
        "#a function to return a random greeting response to a users greeting\n",
        "\n",
        "    \n",
        "    #Bots greeting respone\n",
        "    \n",
        "    \n",
        "    #Users greeting\n",
        "    \n",
        "    \n",
        "    for word in text.split():\n",
        "        if word in user_greetings:\n",
        "            return random.choice(bot_greetings)\n",
        "        \n",
        "    #Random response to greeting\n",
        "    \n",
        "   \n"
      ],
      "execution_count": null,
      "outputs": []
    },
    {
      "cell_type": "markdown",
      "metadata": {
        "id": "AZEgMQCr_HtI"
      },
      "source": [
        "1. Pada list kode bot_greetings itu bentuk kata sapaan bot terhadap sapaan yang kita berikan, dan dapat diganti dengan bahasa Indonesia atau lainnya.\n",
        "2. Sedangkan, pada list user_greetings itu kata sapaan input dari user dan dapat diganti dengan bahasa lainnya."
      ]
    },
    {
      "cell_type": "markdown",
      "metadata": {
        "id": "oTHbuHoO_SXL"
      },
      "source": [
        "# Sorting List"
      ]
    },
    {
      "cell_type": "markdown",
      "source": [
        "![sorting.PNG](data:image/png;base64,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)"
      ],
      "metadata": {
        "id": "Nda_e_SJbJav"
      }
    },
    {
      "cell_type": "code",
      "metadata": {
        "id": "ZQnYG5nQCRGn"
      },
      "source": [
        "# Lengkapi ya codingannya dengan code diatas!\n",
        " def index_sort(list_var):\n",
        "    length = len(list_var)\n",
        "    list_index\n",
        "                \n",
        "    return list_index"
      ],
      "execution_count": null,
      "outputs": []
    },
    {
      "cell_type": "markdown",
      "metadata": {
        "id": "tIuiijdc_YZ2"
      },
      "source": [
        "# Chatbot Respon Menggunakan Cosine Similarity\n",
        "\n",
        "Pada respon bot menggunakan teknis Cosine Similarity untuk menghitung kata yang cocok dengan yang di input user terhadap respon dari Bot"
      ]
    },
    {
      "cell_type": "markdown",
      "source": [
        "![bot respon.PNG](data:image/png;base64,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)"
      ],
      "metadata": {
        "id": "oHH6-Vu1bdLa"
      }
    },
    {
      "cell_type": "code",
      "metadata": {
        "id": "VrBJ58bvCRGn"
      },
      "source": [
        "# Creat Bots Response\n",
        "def bot_response(user_input):\n",
        "    user_input=user_input.lower()\n",
        "    sentence_list.append(user_input)\n",
        "    bot_response= ''\n",
        "    cm=CountVectorizer().fit_transform(sentence_list)\n",
        "    similarity_scores=cosine_similarity(cm[-1],cm)\n",
        "    similarity_scores_list=similarity_scores.flatten()\n",
        "    index=index_sort(similarity_scores_list)\n",
        "    index=index[1:]\n",
        "    response_flag=0\n",
        "    \n",
        "    j=0\n",
        "    for i in range(len(index)):\n",
        "        if similarity_scores_list[index[i]]>0.0:\n",
        "            bot_response=bot_response+' '+sentence_list[index[i]]\n",
        "            response_flag=1\n",
        "            j=j+1\n",
        "        if j>2:\n",
        "            break\n",
        "\n",
        "        if response_flag==0:\n",
        "            bot_response=bot_response+\" \"+\"I apologize, I dont understand\"\n",
        "\n",
        "        sentence_list.remove(user_input) \n",
        "\n",
        "        return bot_response"
      ],
      "execution_count": null,
      "outputs": []
    },
    {
      "cell_type": "markdown",
      "metadata": {
        "id": "2fvjGhBU_nyk"
      },
      "source": [
        "Pada listing kode >bot_response=bot_response+\" \"+\"I apologize, I dont understand\" pada list kode ini kata I apologize tujuannya untuk memberikan respon karena sistem tidak mengenali kata yang kita input, jadi sebagai bentuk respon bot kepada user. Kata tersebut bisa diganti dengan bahasa Indonesia, misalnya \"Maaf saya tidak mengetahui arti atau tidak mengenali kata-kata yang di input\"."
      ]
    },
    {
      "cell_type": "markdown",
      "metadata": {
        "id": "8-C33RGuCRGo"
      },
      "source": [
        "# Proses 4 (End Process, Making chat box)"
      ]
    },
    {
      "cell_type": "code",
      "metadata": {
        "id": "7GTB7h9TCRGo",
        "colab": {
          "base_uri": "https://localhost:8080/"
        },
        "outputId": "20882966-e265-456a-83da-1447521d1421"
      },
      "source": [
        "#Start Chat\n",
        "print(\"Doc Bot: I am DOc bot and I will answer your queries about chronic kidney disease, if you want to exit type, bye  ?\")\n",
        "\n",
        "exit_list=['exit','bye','see you later','quit']\n",
        "\n",
        "while(True):\n",
        "    user_input=input()\n",
        "    if user_input.lower() in exit_list:\n",
        "        print('Doc Bot: Bye Bye See you later')\n",
        "        break\n",
        "    else:\n",
        "        if greeting_response(user_input)!= None:\n",
        "            print('Doc Bot: '+ greeting_response(user_input))\n",
        "        else:\n",
        "            print('Doc Bot: '+ bot_response(user_input))"
      ],
      "execution_count": null,
      "outputs": [
        {
          "output_type": "stream",
          "name": "stdout",
          "text": [
            "Doc Bot: I am DOc bot and I will answer your queries about chronic kidney disease, if you want to exit type, bye  ?\n",
            "halo\n",
            "Doc Bot:  I apologize, I dont understand\n",
            "hai\n",
            "Doc Bot:  I apologize, I dont understand\n",
            "bye\n",
            "Doc Bot: Bye Bye See you later\n"
          ]
        }
      ]
    },
    {
      "cell_type": "markdown",
      "metadata": {
        "id": "WavLomgtHxRI"
      },
      "source": [
        "Doc Bot ganti dengan ini atau sesuai dengan topik yang lagi di bahas, print(\"Doc Bot: Mau nanya apa kamu tentang kabel laut?\")"
      ]
    },
    {
      "cell_type": "code",
      "metadata": {
        "id": "WWdOizj-CRGp"
      },
      "source": [
        "#buat pertanyaan pada kolom diatas seperti : what is chronic kidney disease?, dll."
      ],
      "execution_count": null,
      "outputs": []
    },
    {
      "cell_type": "markdown",
      "metadata": {
        "id": "zJ5gxzVCgftf"
      },
      "source": [
        "---\n",
        "# AI Chatbot Versi Bahasa **Indonesia**\n",
        "# Proses 1 (Making Corpus with Download an Article)"
      ]
    },
    {
      "cell_type": "code",
      "metadata": {
        "id": "FYT3-ERtgjjS",
        "colab": {
          "base_uri": "https://localhost:8080/"
        },
        "outputId": "4d8f636e-eb04-4d17-99bd-6c6a1407d3a9"
      },
      "source": [
        "article = Article('https://warstek.com/kabel-laut/')\n",
        "article.download()\n",
        "article.parse()\n",
        "article.nlp()\n",
        "corpus = article.text\n",
        "print(corpus)"
      ],
      "execution_count": null,
      "outputs": [
        {
          "output_type": "stream",
          "name": "stdout",
          "text": [
            "Telkomsel, Indihome, dan Kabel Laut JaSuKa\n",
            "\n",
            "Pada hari Minggu lalu (19 September 2021), terjadi gangguan jaringan internet pada Telkomsel dan Indihome. Gangguan tersebut menyebabkan penurunan kualitas layanan TelkomGroup baik fixed maupun mobile broadband di beberapa wilayah Indonesia. Di masa pandemi yang menuntut orang untuk berada di rumah seperti ini, gangguan internet tentu menjadi masalah besar. Berbagai kegiatan penting seperti Seleksi Kompetensi Dasar (SKD) CPNS mengalami penundaan. Netizen pun banyak berkomentar negatif terkait hal ini. Saat artikel ini dirilis, gangguan tersebut mungkin belum benar-benar terselesaikan.\n",
            "\n",
            "Gangguan tersebut disebabkan oleh masalah pada sistem komunikasi kabel laut JaSuKa (Jawa, Sumatera dan Kalimantan) ruas Batam-Pontianak. Telkom memperkirakan proses perbaikan kabel laut yang terganggu akan berlangsung sekitar sebulan. Meski begitu, Telkom mencoba berbagai alternatif agar jaringan internet tetap dapat berjalan sebaik mungkin, meski tentu tidak sebaik ketika kondisi normal.\n",
            "\n",
            "Bagaimana pun juga, gangguan ini membuat banyak orang bertanya-tanya, “Apa hubungannya kabel di laut dengan internet?”, “Kenapa jaringan internet itu malah lewat kabel laut?”, “Kenapa nggak pakai satelit aja?”, “Kenapa jaringannya tidak segera membaik?”, dan lainnya. Artikel singkat ini akan mencoba membahas sedikit terkait hal itu.\n",
            "\n",
            "Ya, Internet itu ada di Bawah Laut\n",
            "\n",
            "Internet sering diasosiasikan dengan kata cloud atau wireless sehingga kita merasa bahwa internet itu dibawa oleh udara di sekitar kita. Ketika kita mendengar kata “jaringan internet”, yang terbayang mungkin gelombang antara menara pemancar di Bumi dengan satelit di angkasa. Itu tidak sepenuhnya salah. Internet memang ada di sekitar kita dan satelit memegang peran penting untuk itu. Namun, persepsi itu membuat kita melupakan bagian lain dari internet. Bagian terpenting yang sangat vital namun tidak akan pernah kita lihat, yaitu kabel laut. Sebelumnya, perlu kita ketahui bersama bahwa:\n",
            "\n",
            "99% Komunikasi Data Internasional itu Melalui Kabel Laut\n",
            "\n",
            "Itu adalah kalimat yang sudah banyak disampaikan di berbagai media massa, namun sepertinya masih belum banyak diketahui masyarakat umum. Lebih detailnya lagi, hanya sekitar 300 kabel bawah laut yang bertanggung jawab terhadap 99% lalu lintas komunikasi data internasional.\n",
            "\n",
            "Jaringan Kabel Laut di Dunia – www.submarinecablemap.com\n",
            "\n",
            "Gambar di atas merupakan jaringan kabel laut di dunia yang dapat diakses di www.submarinecablemap.com. Di sana, kita tidak hanya bisa melihat jaringan kabel secara keseluruhan, namun juga melihat lebih detail terkait salah satu kabel yang ada. Dari gambar di atas, jaringannya memang terlihat sangat banyak dan sangat rumit. Namun, kita perlu ingat bahwa komunikasi yang senantiasa terjadi di internet itu juga sangat banyak dan sangat rumit, jauh lebih banyak dan lebih rumit dari yang bisa kita bayangkan.\n",
            "\n",
            "Ketika kita mengirim satu chat ke teman di samping kita misalnya. Bisa jadi chat kita akan menempuh perjalanan yang amat sangat jauh. Mulai dari puluhan kilometer jalur darat secara wireless, kemudian melalui ribuan kilometer kabel laut, menuju ke data center di China atau Amerika, lalu kembali lagi ke Indonesia melalui kabel laut, dan sampai ke teman di samping kita secara wireless. Itu salah satu skenario yang mungkin terjadi, bisa saja jauh lebih pendek atau jauh lebih panjang. Sebagai mahasiswa Teknik Elektro yang pernah sedikit mendalami internet, yang bisa penulis katakan terkait internet adalah “It’s never been simple”\n",
            "\n",
            "Mengenal Kabel Laut\n",
            "\n",
            "Ketika mendengar bahwa 99% internet itu melewati kabel laut, apa bayangan kita terkait bentuk fisik dari kabel laut itu? Ukurannya mungkin memang sangat bervariasi, namun gambar berikut bisa memberikan gambaran bahwa ukuran kabelnya bisa jadi hanya sekecil ini\n",
            "\n",
            "Isi dari Kabel Laut – 99percentinvisible.org\n",
            "\n",
            "Hampir seluruh luasannya digunakan sebagai pelindung. Bagian yang mengalirkan informasi adalah fiber optik yang ukurannya tidak berbeda jauh dari sehelai rambut kita. Meski sangat kecil, dia mampu membawa informasi dengan sangat cepat, mendekati kecepatan cahaya. Itu karena informasi dibawa bukan sebagai sinyal listrik seperti kabel di rumah, namun sebagai sinyal cahaya. Kapasitasnya juga sangat besar, satu helai saja bisa memiliki kapasitas 100 gigabit per sekon. [Baca: Dasar Komunikasi Fiber Optik dan FTTH (Fiber To The Home)]\n",
            "\n",
            "Dengan itu semua, kabel laut jauh lebih cepat daripada satelit. Itu karena satelit yang biasanya digunakan untuk internet berada puluhan ribu kilometer di atas kita. Sementara itu, jalur melalui laut tidak akan lebih dari belasan ribu kilometer saja. Kapasitas transfer data dari satelit juga jauh lebih sulit untuk ditingkatkan dibanding kabel laut. Maka, meski keduanya memanfaatkan kecepatan cahaya, secara umum kabel laut tetap jauh lebih cepat daripada satelit. (Baca: SpaceX Luncurkan 60 Satelit Penyedia Internet Starlink)\n",
            "\n",
            "Namun, kabel laut juga memiliki banyak masalah. Banyak pihak yang menyebutkan bahwa kabel laut yang menjadi tulang punggung internet kita ini sebenarnya sangatlah rentan. Kabel laut dapat mengalami masalah akibat faktor alam, namun ini hanya mencakup 14 persen saja. Association of Sea Cable Communication Systems menyebutkan bahwa sebanyak 47% gangguan kabel laut disebabkan oleh jangkar kapal. Sementara itu, 28% disebabkan oleh sektor perikanan yang menggunakan FAD (fish aggregating devices). Di Indonesia pun, jangkar juga menjadi penyebab gangguan kabel terbesar. Hal itu mengingat lautan Indonesia juga sering dilewati banyak kapal.\n",
            "\n",
            "Jaringan Kabel Laut di Indonesia\n",
            "\n",
            "Kabel laut yang ada di negeri kita juga cukup banyak. Hal itu dapat dilihat pada Gambar berikut yang juga didapatkan dari www.submarinecablemap.com. Pada Gambar ini, jaringan kabel JaSuKa yang dimiliki Telkom Indonesia terlihat berwarna biru tua dan menghubungkan berbagai titik di Jawa, Sumatera, dan Kalimantan. JaSuKa memiliki total panjang hampir 11 ribu kilometer dan disebut menjadi salah satu yang terpanjang di dunia.\n",
            "\n",
            "Jaringan Kabel Laut di Indonesia – www.submarinecablemap.com\n",
            "\n",
            "Kabel laut memang jauh lebih murah daripada satelit, namun tetap saja tidak mudah dan tidak sederhana. Baik perencanaan maupun pengelolaannya memerlukan banyak pengorbanan. Ini wajar saja mengingat dunia bawah laut sangatlah kompleks dan penuh dengan berbagai hal yang tak terduga. Perlu diketahui pula bahwa setiap beberapa puluh kilometer, perlu terdapat repeater untuk menguatkan kembali sinyal cahaya yang telah melemah. Melihat kompleksitas itu, wajar saja jika perbaikan gangguan tidak bisa selesai dalam satu malam.\n",
            "\n",
            "Meski demikian, sistem yang besar umumnya memiliki berbagai alternatif jika sistem utamanya gagal. Hal ini juga kita dengar dari pihak Telkom, bahwa jalur backup dan alternatif telah diaktifkan untuk destinasi utama tertentu. Berbagai hal teknis yang tidak akan dipahami masyarakat umum pasti juga telah dilakukan.\n",
            "\n",
            "Bagaimana pun juga, gangguan ini menunjukan pada kita semua bahwa sistem internet di Indonesia sebenarnya masih belum kuat dan sangat rentan, apalagi jika kita meninjau Indonesia Timur. Di satu sisi, masyarakat umum perlu menyadari bahwa sistem internet secara fisiknya memang sangat kompleks dan sangat rentan terhadap berbagai gangguan serta tidak bisa diperbaiki dengan mudah. Di sisi lain, berbagai pihak yang berpartisipasi langsung di dalamnya perlu terus melakukan evaluasi dan pengembangan agar sistem internet di negeri kita dapat menjadi lebih handal. (Baca: Analisis terhadap Kualitas Jaringan Internet Indonesia yang Memburuk)\n",
            "\n",
            "Referensi\n",
            "\n",
            "Nur Fitriatus Shalihah, Sari Hardiyanto. Kronologi Gangguan Indihome dan Telkomsel Selama Beberapa Hari. Diakses dari Kompas: https://www.kompas.com/tren/read/2021/09/22/100958665/kronologi-gangguan-indihome-dan-telkomsel-selama-beberapa-hari?page=all\n",
            "\n",
            "Conney Stephanie, Oik Yusuf. Telkom Sebut Perbaikan Kabel Laut Jasuka Butuh Waktu Sebulan. Diakses dari Kompas: https://tekno.kompas.com/read/2021/09/22/19534287/telkom-sebut-perbaikan-kabel-laut-jasuka-butuh-waktu-sebulan\n",
            "\n",
            "Submarine Cable Map. https://www.submarinecablemap.com\n",
            "\n",
            "Kurt Kohlstedt. Underwater Cloud: Inside the Cables Carrying 99% of Transoceanic Data Traffic. Diakses dari 99% Invisible: https://99percentinvisible.org/article/underwater-cloud-inside-cables-carrying-99-international-data-traffic\n",
            "\n",
            "Dedi Dinarto. The Security Challenges Facing Indonesia’s Submarine Cable Communication System. Diakses dari The Diplomat: https://thediplomat.com/2021/06/the-security-challenges-facing-indonesias-submarine-cable-communication-system\n",
            "\n",
            "Setelah selesai membaca, yuk berikan artikel ini penilaian! Klik berdasarkan jumlah bintang untuk menilai!\n",
            "\n",
            "\n",
            "\n",
            "\n",
            "\n",
            "\n",
            "\n",
            "Berikan penilaian Rata-rata nilai 5 / 5. Banyaknya vote: 3 Belum ada yang menilai! Yuk jadi yang pertama kali menilai! Baca juga:\n",
            "\n",
            "\n",
            "\n",
            "Bagikan ini: Cetak\n",
            "\n",
            "WhatsApp\n",
            "\n",
            "Facebook\n",
            "\n",
            "Twitter\n",
            "\n",
            "Telegram\n",
            "\n",
            "\n"
          ]
        }
      ]
    },
    {
      "cell_type": "markdown",
      "metadata": {
        "id": "6KQ3Or6fiKxv"
      },
      "source": [
        "# Proses 2 (Tokenization)"
      ]
    },
    {
      "cell_type": "code",
      "metadata": {
        "colab": {
          "base_uri": "https://localhost:8080/"
        },
        "id": "qsID-u6Gg012",
        "outputId": "a4057a9c-2321-40bd-e65f-2d8aaea32917"
      },
      "source": [
        "# Tokenization\n",
        "text = corpus\n",
        "sentence_list = nltk.sent_tokenize(text) #A list of senetences\n",
        "\n",
        "# Print the list of sentences\n",
        "print(sentence_list)"
      ],
      "execution_count": null,
      "outputs": [
        {
          "output_type": "stream",
          "name": "stdout",
          "text": [
            "['Telkomsel, Indihome, dan Kabel Laut JaSuKa\\n\\nPada hari Minggu lalu (19 September 2021), terjadi gangguan jaringan internet pada Telkomsel dan Indihome.', 'Gangguan tersebut menyebabkan penurunan kualitas layanan TelkomGroup baik fixed maupun mobile broadband di beberapa wilayah Indonesia.', 'Di masa pandemi yang menuntut orang untuk berada di rumah seperti ini, gangguan internet tentu menjadi masalah besar.', 'Berbagai kegiatan penting seperti Seleksi Kompetensi Dasar (SKD) CPNS mengalami penundaan.', 'Netizen pun banyak berkomentar negatif terkait hal ini.', 'Saat artikel ini dirilis, gangguan tersebut mungkin belum benar-benar terselesaikan.', 'Gangguan tersebut disebabkan oleh masalah pada sistem komunikasi kabel laut JaSuKa (Jawa, Sumatera dan Kalimantan) ruas Batam-Pontianak.', 'Telkom memperkirakan proses perbaikan kabel laut yang terganggu akan berlangsung sekitar sebulan.', 'Meski begitu, Telkom mencoba berbagai alternatif agar jaringan internet tetap dapat berjalan sebaik mungkin, meski tentu tidak sebaik ketika kondisi normal.', 'Bagaimana pun juga, gangguan ini membuat banyak orang bertanya-tanya, “Apa hubungannya kabel di laut dengan internet?”, “Kenapa jaringan internet itu malah lewat kabel laut?”, “Kenapa nggak pakai satelit aja?”, “Kenapa jaringannya tidak segera membaik?”, dan lainnya.', 'Artikel singkat ini akan mencoba membahas sedikit terkait hal itu.', 'Ya, Internet itu ada di Bawah Laut\\n\\nInternet sering diasosiasikan dengan kata cloud atau wireless sehingga kita merasa bahwa internet itu dibawa oleh udara di sekitar kita.', 'Ketika kita mendengar kata “jaringan internet”, yang terbayang mungkin gelombang antara menara pemancar di Bumi dengan satelit di angkasa.', 'Itu tidak sepenuhnya salah.', 'Internet memang ada di sekitar kita dan satelit memegang peran penting untuk itu.', 'Namun, persepsi itu membuat kita melupakan bagian lain dari internet.', 'Bagian terpenting yang sangat vital namun tidak akan pernah kita lihat, yaitu kabel laut.', 'Sebelumnya, perlu kita ketahui bersama bahwa:\\n\\n99% Komunikasi Data Internasional itu Melalui Kabel Laut\\n\\nItu adalah kalimat yang sudah banyak disampaikan di berbagai media massa, namun sepertinya masih belum banyak diketahui masyarakat umum.', 'Lebih detailnya lagi, hanya sekitar 300 kabel bawah laut yang bertanggung jawab terhadap 99% lalu lintas komunikasi data internasional.', 'Jaringan Kabel Laut di Dunia – www.submarinecablemap.com\\n\\nGambar di atas merupakan jaringan kabel laut di dunia yang dapat diakses di www.submarinecablemap.com.', 'Di sana, kita tidak hanya bisa melihat jaringan kabel secara keseluruhan, namun juga melihat lebih detail terkait salah satu kabel yang ada.', 'Dari gambar di atas, jaringannya memang terlihat sangat banyak dan sangat rumit.', 'Namun, kita perlu ingat bahwa komunikasi yang senantiasa terjadi di internet itu juga sangat banyak dan sangat rumit, jauh lebih banyak dan lebih rumit dari yang bisa kita bayangkan.', 'Ketika kita mengirim satu chat ke teman di samping kita misalnya.', 'Bisa jadi chat kita akan menempuh perjalanan yang amat sangat jauh.', 'Mulai dari puluhan kilometer jalur darat secara wireless, kemudian melalui ribuan kilometer kabel laut, menuju ke data center di China atau Amerika, lalu kembali lagi ke Indonesia melalui kabel laut, dan sampai ke teman di samping kita secara wireless.', 'Itu salah satu skenario yang mungkin terjadi, bisa saja jauh lebih pendek atau jauh lebih panjang.', 'Sebagai mahasiswa Teknik Elektro yang pernah sedikit mendalami internet, yang bisa penulis katakan terkait internet adalah “It’s never been simple”\\n\\nMengenal Kabel Laut\\n\\nKetika mendengar bahwa 99% internet itu melewati kabel laut, apa bayangan kita terkait bentuk fisik dari kabel laut itu?', 'Ukurannya mungkin memang sangat bervariasi, namun gambar berikut bisa memberikan gambaran bahwa ukuran kabelnya bisa jadi hanya sekecil ini\\n\\nIsi dari Kabel Laut – 99percentinvisible.org\\n\\nHampir seluruh luasannya digunakan sebagai pelindung.', 'Bagian yang mengalirkan informasi adalah fiber optik yang ukurannya tidak berbeda jauh dari sehelai rambut kita.', 'Meski sangat kecil, dia mampu membawa informasi dengan sangat cepat, mendekati kecepatan cahaya.', 'Itu karena informasi dibawa bukan sebagai sinyal listrik seperti kabel di rumah, namun sebagai sinyal cahaya.', 'Kapasitasnya juga sangat besar, satu helai saja bisa memiliki kapasitas 100 gigabit per sekon.', '[Baca: Dasar Komunikasi Fiber Optik dan FTTH (Fiber To The Home)]\\n\\nDengan itu semua, kabel laut jauh lebih cepat daripada satelit.', 'Itu karena satelit yang biasanya digunakan untuk internet berada puluhan ribu kilometer di atas kita.', 'Sementara itu, jalur melalui laut tidak akan lebih dari belasan ribu kilometer saja.', 'Kapasitas transfer data dari satelit juga jauh lebih sulit untuk ditingkatkan dibanding kabel laut.', 'Maka, meski keduanya memanfaatkan kecepatan cahaya, secara umum kabel laut tetap jauh lebih cepat daripada satelit.', '(Baca: SpaceX Luncurkan 60 Satelit Penyedia Internet Starlink)\\n\\nNamun, kabel laut juga memiliki banyak masalah.', 'Banyak pihak yang menyebutkan bahwa kabel laut yang menjadi tulang punggung internet kita ini sebenarnya sangatlah rentan.', 'Kabel laut dapat mengalami masalah akibat faktor alam, namun ini hanya mencakup 14 persen saja.', 'Association of Sea Cable Communication Systems menyebutkan bahwa sebanyak 47% gangguan kabel laut disebabkan oleh jangkar kapal.', 'Sementara itu, 28% disebabkan oleh sektor perikanan yang menggunakan FAD (fish aggregating devices).', 'Di Indonesia pun, jangkar juga menjadi penyebab gangguan kabel terbesar.', 'Hal itu mengingat lautan Indonesia juga sering dilewati banyak kapal.', 'Jaringan Kabel Laut di Indonesia\\n\\nKabel laut yang ada di negeri kita juga cukup banyak.', 'Hal itu dapat dilihat pada Gambar berikut yang juga didapatkan dari www.submarinecablemap.com.', 'Pada Gambar ini, jaringan kabel JaSuKa yang dimiliki Telkom Indonesia terlihat berwarna biru tua dan menghubungkan berbagai titik di Jawa, Sumatera, dan Kalimantan.', 'JaSuKa memiliki total panjang hampir 11 ribu kilometer dan disebut menjadi salah satu yang terpanjang di dunia.', 'Jaringan Kabel Laut di Indonesia – www.submarinecablemap.com\\n\\nKabel laut memang jauh lebih murah daripada satelit, namun tetap saja tidak mudah dan tidak sederhana.', 'Baik perencanaan maupun pengelolaannya memerlukan banyak pengorbanan.', 'Ini wajar saja mengingat dunia bawah laut sangatlah kompleks dan penuh dengan berbagai hal yang tak terduga.', 'Perlu diketahui pula bahwa setiap beberapa puluh kilometer, perlu terdapat repeater untuk menguatkan kembali sinyal cahaya yang telah melemah.', 'Melihat kompleksitas itu, wajar saja jika perbaikan gangguan tidak bisa selesai dalam satu malam.', 'Meski demikian, sistem yang besar umumnya memiliki berbagai alternatif jika sistem utamanya gagal.', 'Hal ini juga kita dengar dari pihak Telkom, bahwa jalur backup dan alternatif telah diaktifkan untuk destinasi utama tertentu.', 'Berbagai hal teknis yang tidak akan dipahami masyarakat umum pasti juga telah dilakukan.', 'Bagaimana pun juga, gangguan ini menunjukan pada kita semua bahwa sistem internet di Indonesia sebenarnya masih belum kuat dan sangat rentan, apalagi jika kita meninjau Indonesia Timur.', 'Di satu sisi, masyarakat umum perlu menyadari bahwa sistem internet secara fisiknya memang sangat kompleks dan sangat rentan terhadap berbagai gangguan serta tidak bisa diperbaiki dengan mudah.', 'Di sisi lain, berbagai pihak yang berpartisipasi langsung di dalamnya perlu terus melakukan evaluasi dan pengembangan agar sistem internet di negeri kita dapat menjadi lebih handal.', '(Baca: Analisis terhadap Kualitas Jaringan Internet Indonesia yang Memburuk)\\n\\nReferensi\\n\\nNur Fitriatus Shalihah, Sari Hardiyanto.', 'Kronologi Gangguan Indihome dan Telkomsel Selama Beberapa Hari.', 'Diakses dari Kompas: https://www.kompas.com/tren/read/2021/09/22/100958665/kronologi-gangguan-indihome-dan-telkomsel-selama-beberapa-hari?page=all\\n\\nConney Stephanie, Oik Yusuf.', 'Telkom Sebut Perbaikan Kabel Laut Jasuka Butuh Waktu Sebulan.', 'Diakses dari Kompas: https://tekno.kompas.com/read/2021/09/22/19534287/telkom-sebut-perbaikan-kabel-laut-jasuka-butuh-waktu-sebulan\\n\\nSubmarine Cable Map.', 'https://www.submarinecablemap.com\\n\\nKurt Kohlstedt.', 'Underwater Cloud: Inside the Cables Carrying 99% of Transoceanic Data Traffic.', 'Diakses dari 99% Invisible: https://99percentinvisible.org/article/underwater-cloud-inside-cables-carrying-99-international-data-traffic\\n\\nDedi Dinarto.', 'The Security Challenges Facing Indonesia’s Submarine Cable Communication System.', 'Diakses dari The Diplomat: https://thediplomat.com/2021/06/the-security-challenges-facing-indonesias-submarine-cable-communication-system\\n\\nSetelah selesai membaca, yuk berikan artikel ini penilaian!', 'Klik berdasarkan jumlah bintang untuk menilai!', 'Berikan penilaian Rata-rata nilai 5 / 5.', 'Banyaknya vote: 3 Belum ada yang menilai!', 'Yuk jadi yang pertama kali menilai!', 'Baca juga:\\n\\n\\n\\nBagikan ini: Cetak\\n\\nWhatsApp\\n\\nFacebook\\n\\nTwitter\\n\\nTelegram']\n"
          ]
        }
      ]
    },
    {
      "cell_type": "code",
      "metadata": {
        "id": "iq-tYfnBiS06"
      },
      "source": [
        ""
      ],
      "execution_count": null,
      "outputs": []
    },
    {
      "cell_type": "code",
      "metadata": {
        "id": "lYvkaKOHiia2"
      },
      "source": [
        "#a function to return a random greeting response to a users greeting\n",
        "def greeting_response(text):\n",
        "    text = text.lower()\n",
        "    \n",
        "    #Bots greeting respone\n",
        "    bot_greetings = ['halo','hai','yuhuu','*eyebrows up*']\n",
        "    \n",
        "    #Users greeting\n",
        "    user_greetings = ['Haloo','Eh iyaa Haii','Hai','greetings','wassup']\n",
        "    \n",
        "    for word in text.split():\n",
        "        if word in user_greetings:\n",
        "            return random.choice(bot_greetings)\n",
        "        \n",
        "    #Random response to greeting\n",
        "    def gratitude_response(text):\n",
        "        text=text.lower()\n",
        "   \n"
      ],
      "execution_count": null,
      "outputs": []
    },
    {
      "cell_type": "code",
      "metadata": {
        "id": "TZU6BZB3iia7"
      },
      "source": [
        " def index_sort(list_var):\n",
        "    length = len(list_var)\n",
        "    list_index = list(range(0, length))\n",
        "    \n",
        "    x = list_var        \n",
        "    for i in range(length):\n",
        "        for j in range(length):\n",
        "            if x[list_index[i]] > x[list_index[j]]:\n",
        "                #swap\n",
        "                temp = list_index[i]\n",
        "                list_index[i] = list_index[j]\n",
        "                list_index[j] = temp\n",
        "                \n",
        "    return list_index"
      ],
      "execution_count": null,
      "outputs": []
    },
    {
      "cell_type": "code",
      "metadata": {
        "id": "jgD-wmTwiia7"
      },
      "source": [
        "# Creat Bots Response\n",
        "def bot_response(user_input):\n",
        "    user_input=user_input.lower()\n",
        "    sentence_list.append(user_input)\n",
        "    bot_response= ''\n",
        "    cm=CountVectorizer().fit_transform(sentence_list)\n",
        "    similarity_scores=cosine_similarity(cm[-1],cm)\n",
        "    similarity_scores_list=similarity_scores.flatten()\n",
        "    index=index_sort(similarity_scores_list)\n",
        "    index=index[1:]\n",
        "    response_flag=0\n",
        "    \n",
        "    j=0\n",
        "    for i in range(len(index)):\n",
        "        if similarity_scores_list[index[i]]>0.0:\n",
        "            bot_response=bot_response+' '+sentence_list[index[i]]\n",
        "            response_flag=1\n",
        "            j=j+1\n",
        "        if j>2:\n",
        "            break\n",
        "\n",
        "        if response_flag==0:\n",
        "            bot_response=bot_response+\" \"+\"I apologize, I dont understand\"\n",
        "\n",
        "        sentence_list.remove(user_input) \n",
        "\n",
        "        return bot_response"
      ],
      "execution_count": null,
      "outputs": []
    },
    {
      "cell_type": "markdown",
      "metadata": {
        "id": "PVF_g7Xyiia8"
      },
      "source": [
        "# Proses 4 (End Process, Making chat box)"
      ]
    },
    {
      "cell_type": "code",
      "metadata": {
        "colab": {
          "base_uri": "https://localhost:8080/"
        },
        "id": "knRbg2R0iia8",
        "outputId": "41f3d9ae-641e-464f-a22f-de796cfd1b2b"
      },
      "source": [
        "#Start Chat\n",
        "print(\"Doc Bot: Mau nanya apa kamu tentang kabel laut\")\n",
        "\n",
        "exit_list=['exit','bye','keluar','quit', 'sampai jumpa']\n",
        "\n",
        "while(True):\n",
        "    user_input=input()\n",
        "    if user_input.lower() in exit_list:\n",
        "        print('Doc Bot: Bye Bye Sampai jumpa lagi')\n",
        "        break\n",
        "    else:\n",
        "        if greeting_response(user_input)!= None:\n",
        "            print('Doc Bot: '+ greeting_response(user_input))\n",
        "        else:\n",
        "            print('Doc Bot: '+ bot_response(user_input))"
      ],
      "execution_count": null,
      "outputs": [
        {
          "output_type": "stream",
          "name": "stdout",
          "text": [
            "Doc Bot: Mau nanya apa kamu tentang kabel laut\n",
            "keluar\n",
            "Doc Bot: Bye Bye Sampai jumpa lagi\n"
          ]
        }
      ]
    },
    {
      "cell_type": "code",
      "metadata": {
        "id": "H8psLH5Ji4ng"
      },
      "source": [
        "# kabel laut adalah\n",
        "# kabel laut untuk komunikasi internasional adalah"
      ],
      "execution_count": null,
      "outputs": []
    },
    {
      "cell_type": "markdown",
      "metadata": {
        "id": "__m7uZi5s51x"
      },
      "source": [
        "## Activity (3-5 kelompok dalam 30-60 menit)\n",
        "- Buatlah bot sederhana dengan topik tertentu. Data (knowledge base) boleh berasal dari mana saja, disesuaikan dengna topik yang ingin diambil. \n",
        "- Wajib menggunakan versi Bahasa Inggris dan Bahasa Indonesia.\n",
        "- Gunakan beberapa artikel agar bot memiliki pengetahuan yang lebih luas.\n",
        "- Silahkan di improve kode sekreatif kalian agar chatbot memiliki kemampuan yang cukup baik dalam merespon. Gunakan materi atau teknik preprocessing yang sudah kalian pelajari kemarin.\n",
        "- Buat simulasi pertanyaan dan tampilkan hasilnya (contoh output).\n",
        "- Jawaban tidak ada yang benar atau yang salah, yang terpenting bot mampu memberi respon yang baik sesuai dengan topik yang dibahas."
      ]
    }
  ]
}