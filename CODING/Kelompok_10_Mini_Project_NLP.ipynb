{
  "nbformat": 4,
  "nbformat_minor": 0,
  "metadata": {
    "colab": {
      "name": "Kelompok 10_Mini Project NLP.ipynb",
      "provenance": [],
      "collapsed_sections": [
        "-2Fdu13E5DNa",
        "TzppRvAw5DNg",
        "cTHm3vFZ5DNl",
        "my3FJbuC5DNr",
        "vEn7b3dz5DNw",
        "aImN9USW5DN0",
        "G_7U5HYQ9hFa",
        "SViBdI7F9SaZ",
        "pc1_REBT9Z9j",
        "rbHUTw609ziv",
        "HD0ZzsMLAUZd",
        "JrnkY_ByDhsQ",
        "pz3iJizfGOZB",
        "272NNoFNGgCp",
        "YYpFcLPgHlBI",
        "CNNqcKS12rTq",
        "DraYPLXOHrMM",
        "iiz5-asyCOj-",
        "qF6mhfLkCSv-",
        "yPsA1wCfCXYt",
        "_GeGXbH1CeFl",
        "dBqAjnrFCgIn",
        "__VCSPUBCjc0",
        "1OoYBz68Co_k",
        "7PnIjNGAFxdN",
        "0dhCDq4JF4Ed",
        "pNkFWV5RF7L7",
        "QkzCZKLzF91r",
        "xT6jmuyvYxvr",
        "fcDkx-3nY22p",
        "PytrOSj-Y5oh",
        "4sDeSoLVY-ba",
        "JP4TJ9ZNZAs5"
      ]
    },
    "kernelspec": {
      "name": "python3",
      "display_name": "Python 3"
    },
    "language_info": {
      "name": "python"
    }
  },
  "cells": [
    {
      "cell_type": "markdown",
      "metadata": {
        "id": "cdTB8e0zzjr6"
      },
      "source": [
        "**Kelompok 10**\n",
        "\n",
        "Anggota Kelompok:\n",
        "1. Halomoan Filipus Simarmata (Jupyter XXI)\n",
        "2. Diana Eka Riyani (Jupyter XXI)\n",
        "3. Nyayu Chika Marselina (Jupyter XXI)\n",
        "4. Sukma Imelda (Cordoba)\n",
        "5. Athiya Shinta Wulandari (Cordoba)"
      ]
    },
    {
      "cell_type": "markdown",
      "source": [
        "#AI Project Cycle - Analisis Sentimen (Natural Language Processing)"
      ],
      "metadata": {
        "id": "-2Fdu13E5DNa"
      }
    },
    {
      "cell_type": "markdown",
      "source": [
        "##Problem Solving"
      ],
      "metadata": {
        "id": "TzppRvAw5DNg"
      }
    },
    {
      "cell_type": "markdown",
      "source": [
        "1. What? (Apa masalahnya? Apa yg dibutuhkan?) : Pelanggan toko mainan memberi ulasan dan penilaian verified atau not verified pada produk mainan.\n",
        "2. Where? (Dimana / pada saat apa permasalahan ini muncul?) : Saat pelanggan di seluruh dunia memberi ulasan dan penilaian dari toko mainan di Eropa.\n",
        "3. Who? (Stakeholder yang terkait) : Pelanggan dan Toko Mainan.\n",
        "4. Why? (Kenapa masalah ini muncul? Bagaimana solusinya?) : Adanya ulasan dan penilaian dari pelanggan di seluruh dunia pada produk mainan sehingga dapat digunakan untuk mendeteksi sentimen verified atau not verified dalam teks."
      ],
      "metadata": {
        "id": "4hEyxDQ-5DNj"
      }
    },
    {
      "cell_type": "markdown",
      "source": [
        "##Data Acquisition"
      ],
      "metadata": {
        "id": "cTHm3vFZ5DNl"
      }
    },
    {
      "cell_type": "markdown",
      "source": [
        "Data diperoleh dari Kaggle:\n",
        "https://www.kaggle.com/datasets/mafaisal007/product-reviews-and-ratings-sentiment-analysis"
      ],
      "metadata": {
        "id": "d46sgW7S5DNo"
      }
    },
    {
      "cell_type": "markdown",
      "source": [
        "##Data Exploration"
      ],
      "metadata": {
        "id": "my3FJbuC5DNr"
      }
    },
    {
      "cell_type": "markdown",
      "source": [
        "Kumpulan data ini berasal dari toko mainan di Eropa yang berisi ulasan dan penilaian pelanggan yang verified atau not verified di Eropa pada produk mainan yang disimpan di dalam file dengan format csv.\n"
      ],
      "metadata": {
        "id": "v6soKWFZ5DNu"
      }
    },
    {
      "cell_type": "markdown",
      "source": [
        "##Modelling"
      ],
      "metadata": {
        "id": "vEn7b3dz5DNw"
      }
    },
    {
      "cell_type": "markdown",
      "source": [
        "Program dalam mini project ini menggunakan modelling dengan menggunakan Naive Bayes, Random Forest, dan SVM untuk prediksi input suatu review dan mengukur tingkat akurasinya."
      ],
      "metadata": {
        "id": "65K2bgMi5DNy"
      }
    },
    {
      "cell_type": "markdown",
      "source": [
        "##Evaluation"
      ],
      "metadata": {
        "id": "aImN9USW5DN0"
      }
    },
    {
      "cell_type": "markdown",
      "source": [
        "Dari pengolahan data yang kami lakukan seperti:\n",
        "1. Input Data Training\n",
        "2. Preprocessing\n",
        "3. Modelling\n",
        "4. Evaluation\n",
        "5. Prediction\n",
        "\n",
        "Kami memperoleh akurasi, recall, dan presisi dari masing-masing model klasifikasi yang kami gunakan. Dengan menggunakan Random Forest, diperoleh akurasi sebesar 96,09%, recall sebesar 100%, dan presisi sebesar 96,07%. Dengan Naive Bayes, diperoleh akurasi sebesar 67,43%, recall sebesar 70,31%, dan presisi sebesar 94,06%. Sedangkan, pada meodel klasifikasi SVM, diperoleh akurasi senilai 97,07%, recall sebesar 100%, serta presisi senilai 97,02%. Dari ketida model klasifikasi yang digunakan, dapat disimpulkan bahwa model klasifikasi SVM menghasilkan akurasi tertinggi di antara model klasifikasi lainnya. "
      ],
      "metadata": {
        "id": "ym7n_B-b5DN4"
      }
    },
    {
      "cell_type": "markdown",
      "metadata": {
        "id": "G_7U5HYQ9hFa"
      },
      "source": [
        "#Implementasi - Analisis Sentimen dengan TF-IDF"
      ]
    },
    {
      "cell_type": "markdown",
      "metadata": {
        "id": "SViBdI7F9SaZ"
      },
      "source": [
        "## Melakukan Import Library"
      ]
    },
    {
      "cell_type": "code",
      "metadata": {
        "id": "lAcgcQJx9VsX",
        "colab": {
          "base_uri": "https://localhost:8080/"
        },
        "outputId": "6b9c3e55-d9c6-4879-a6b6-b34b89213dc3"
      },
      "source": [
        "import numpy as np \n",
        "import pandas as pd \n",
        "import re  \n",
        "import nltk \n",
        "nltk.download('stopwords')  \n",
        "from nltk.corpus import stopwords\n",
        "import seaborn as sns\n",
        "import matplotlib.pyplot as plt"
      ],
      "execution_count": null,
      "outputs": [
        {
          "output_type": "stream",
          "name": "stdout",
          "text": [
            "[nltk_data] Downloading package stopwords to /root/nltk_data...\n",
            "[nltk_data]   Package stopwords is already up-to-date!\n"
          ]
        }
      ]
    },
    {
      "cell_type": "markdown",
      "metadata": {
        "id": "pc1_REBT9Z9j"
      },
      "source": [
        "## Import Dataset"
      ]
    },
    {
      "cell_type": "markdown",
      "metadata": {
        "id": "7fIcg5HBCGni"
      },
      "source": [
        "Kita menggunakan metode read_csv dari library Pandas untuk memuat dataset ke dalam kerangka data. Dapat juga menggunakan URL online atau mengunduh file dan menggunakan jalur lokal file CSV di mesin.\n",
        "\n",
        "Langkah selanjutnya, muat dataset yang akan digunakan untuk melatih model. Seperti yang dibicarakan sebelumnya, kita akan membangun model analisis sentimen untuk memprediksi sentimen publik tentang ulasan dan penilaian dari pelanggan di Eropa pada produk mainan. Dataset tersedia di Kaggle. Sentimen yang digunakan yaitu hanya verified dan not verified.\n",
        "\n",
        "Gunakan metode read_csv dari library Pandas untuk memuat dataset ke dalam dataframe “datasetkelompok10.csv”. Kita dapat menggunakan URL online atau mengunduh file dan menggunakan lokal path file CSV di drive."
      ]
    },
    {
      "cell_type": "code",
      "source": [
        "from google.colab import files\n",
        "uploaded = files.upload()"
      ],
      "metadata": {
        "colab": {
          "resources": {
            "http://localhost:8080/nbextensions/google.colab/files.js": {
              "data": "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",
              "ok": true,
              "headers": [
                [
                  "content-type",
                  "application/javascript"
                ]
              ],
              "status": 200,
              "status_text": "OK"
            }
          },
          "base_uri": "https://localhost:8080/",
          "height": 75
        },
        "id": "9y-Fibj_qqML",
        "outputId": "8d6ca754-b65c-47d1-a9c0-35e7b05a95c2"
      },
      "execution_count": null,
      "outputs": [
        {
          "output_type": "display_data",
          "data": {
            "text/plain": [
              "<IPython.core.display.HTML object>"
            ],
            "text/html": [
              "\n",
              "     <input type=\"file\" id=\"files-a1096901-d6f6-4775-bb86-6fecac04287b\" name=\"files[]\" multiple disabled\n",
              "        style=\"border:none\" />\n",
              "     <output id=\"result-a1096901-d6f6-4775-bb86-6fecac04287b\">\n",
              "      Upload widget is only available when the cell has been executed in the\n",
              "      current browser session. Please rerun this cell to enable.\n",
              "      </output>\n",
              "      <script src=\"/nbextensions/google.colab/files.js\"></script> "
            ]
          },
          "metadata": {}
        },
        {
          "output_type": "stream",
          "name": "stdout",
          "text": [
            "Saving datasetkelompok10.csv to datasetkelompok10 (1).csv\n"
          ]
        }
      ]
    },
    {
      "cell_type": "code",
      "metadata": {
        "id": "Lj6jqBn09e-o"
      },
      "source": [
        "data = pd.read_csv(\"datasetkelompok10.csv\")\n",
        "t_1 = data[data['Type']=='Verified']\n",
        "t_2 = data[data['Type']=='Not Verified']\n",
        "reviews = pd.concat([t_1, t_2])"
      ],
      "execution_count": null,
      "outputs": []
    },
    {
      "cell_type": "markdown",
      "metadata": {
        "id": "KvXKzblMCMWm"
      },
      "source": [
        "(*) DataFrame adalah struktur data dua dimensi, sehingga data diselaraskan dalam bentuk seperti tabel, yaitu dalam baris dan kolom. Ini umumnya merupakan objek dari Pandas yang paling umum digunakan."
      ]
    },
    {
      "cell_type": "markdown",
      "metadata": {
        "id": "i5KzFK3bCTLB"
      },
      "source": [
        "Untuk melihat bagaimana dataset terlihat, gunakan metode head() dari dataframe Pandas, yang akan menampilkan 5 baris pertama atau metode tail() untuk menampilkan 5 baris terbawah dari dataset seperti yang ditunjukkan di bawah ini:"
      ]
    },
    {
      "cell_type": "code",
      "metadata": {
        "id": "oZCeMEY69y5q",
        "colab": {
          "base_uri": "https://localhost:8080/",
          "height": 206
        },
        "outputId": "285d72ba-15f9-4048-8c3b-eac2ab6e253f"
      },
      "source": [
        "# Cek 5 Dataset teratas\n",
        "reviews.head()"
      ],
      "execution_count": null,
      "outputs": [
        {
          "output_type": "execute_result",
          "data": {
            "text/plain": [
              "    id  Rating Lang      Type Country        Date  Helpful  \\\n",
              "0   72       5   it  Verified   Italy   11/1/2020     43.0   \n",
              "2  107       5   it  Verified   Italy   8/12/2019      2.0   \n",
              "3  109       4   it  Verified   Italy    4/2/2021      1.0   \n",
              "4  113       4   it  Verified   Italy  21/02/2020      2.0   \n",
              "5  115       5   it  Verified   Italy  12/11/2019      3.0   \n",
              "\n",
              "                                          translated  \n",
              "0  What to say? My daughter LOVES him and I with ...  \n",
              "2  An unusual pet, this otter is beautiful! Cute ...  \n",
              "3  Beautiful, soft and very relaxing. It comes wi...  \n",
              "4  Plush tender, my 16-month-old loves it, sleeps...  \n",
              "5  I love it, simply. I bought it after seeing it...  "
            ],
            "text/html": [
              "\n",
              "  <div id=\"df-c7cad96a-90f2-4f29-aa93-1f667b07aefd\">\n",
              "    <div class=\"colab-df-container\">\n",
              "      <div>\n",
              "<style scoped>\n",
              "    .dataframe tbody tr th:only-of-type {\n",
              "        vertical-align: middle;\n",
              "    }\n",
              "\n",
              "    .dataframe tbody tr th {\n",
              "        vertical-align: top;\n",
              "    }\n",
              "\n",
              "    .dataframe thead th {\n",
              "        text-align: right;\n",
              "    }\n",
              "</style>\n",
              "<table border=\"1\" class=\"dataframe\">\n",
              "  <thead>\n",
              "    <tr style=\"text-align: right;\">\n",
              "      <th></th>\n",
              "      <th>id</th>\n",
              "      <th>Rating</th>\n",
              "      <th>Lang</th>\n",
              "      <th>Type</th>\n",
              "      <th>Country</th>\n",
              "      <th>Date</th>\n",
              "      <th>Helpful</th>\n",
              "      <th>translated</th>\n",
              "    </tr>\n",
              "  </thead>\n",
              "  <tbody>\n",
              "    <tr>\n",
              "      <th>0</th>\n",
              "      <td>72</td>\n",
              "      <td>5</td>\n",
              "      <td>it</td>\n",
              "      <td>Verified</td>\n",
              "      <td>Italy</td>\n",
              "      <td>11/1/2020</td>\n",
              "      <td>43.0</td>\n",
              "      <td>What to say? My daughter LOVES him and I with ...</td>\n",
              "    </tr>\n",
              "    <tr>\n",
              "      <th>2</th>\n",
              "      <td>107</td>\n",
              "      <td>5</td>\n",
              "      <td>it</td>\n",
              "      <td>Verified</td>\n",
              "      <td>Italy</td>\n",
              "      <td>8/12/2019</td>\n",
              "      <td>2.0</td>\n",
              "      <td>An unusual pet, this otter is beautiful! Cute ...</td>\n",
              "    </tr>\n",
              "    <tr>\n",
              "      <th>3</th>\n",
              "      <td>109</td>\n",
              "      <td>4</td>\n",
              "      <td>it</td>\n",
              "      <td>Verified</td>\n",
              "      <td>Italy</td>\n",
              "      <td>4/2/2021</td>\n",
              "      <td>1.0</td>\n",
              "      <td>Beautiful, soft and very relaxing. It comes wi...</td>\n",
              "    </tr>\n",
              "    <tr>\n",
              "      <th>4</th>\n",
              "      <td>113</td>\n",
              "      <td>4</td>\n",
              "      <td>it</td>\n",
              "      <td>Verified</td>\n",
              "      <td>Italy</td>\n",
              "      <td>21/02/2020</td>\n",
              "      <td>2.0</td>\n",
              "      <td>Plush tender, my 16-month-old loves it, sleeps...</td>\n",
              "    </tr>\n",
              "    <tr>\n",
              "      <th>5</th>\n",
              "      <td>115</td>\n",
              "      <td>5</td>\n",
              "      <td>it</td>\n",
              "      <td>Verified</td>\n",
              "      <td>Italy</td>\n",
              "      <td>12/11/2019</td>\n",
              "      <td>3.0</td>\n",
              "      <td>I love it, simply. I bought it after seeing it...</td>\n",
              "    </tr>\n",
              "  </tbody>\n",
              "</table>\n",
              "</div>\n",
              "      <button class=\"colab-df-convert\" onclick=\"convertToInteractive('df-c7cad96a-90f2-4f29-aa93-1f667b07aefd')\"\n",
              "              title=\"Convert this dataframe to an interactive table.\"\n",
              "              style=\"display:none;\">\n",
              "        \n",
              "  <svg xmlns=\"http://www.w3.org/2000/svg\" height=\"24px\"viewBox=\"0 0 24 24\"\n",
              "       width=\"24px\">\n",
              "    <path d=\"M0 0h24v24H0V0z\" fill=\"none\"/>\n",
              "    <path d=\"M18.56 5.44l.94 2.06.94-2.06 2.06-.94-2.06-.94-.94-2.06-.94 2.06-2.06.94zm-11 1L8.5 8.5l.94-2.06 2.06-.94-2.06-.94L8.5 2.5l-.94 2.06-2.06.94zm10 10l.94 2.06.94-2.06 2.06-.94-2.06-.94-.94-2.06-.94 2.06-2.06.94z\"/><path d=\"M17.41 7.96l-1.37-1.37c-.4-.4-.92-.59-1.43-.59-.52 0-1.04.2-1.43.59L10.3 9.45l-7.72 7.72c-.78.78-.78 2.05 0 2.83L4 21.41c.39.39.9.59 1.41.59.51 0 1.02-.2 1.41-.59l7.78-7.78 2.81-2.81c.8-.78.8-2.07 0-2.86zM5.41 20L4 18.59l7.72-7.72 1.47 1.35L5.41 20z\"/>\n",
              "  </svg>\n",
              "      </button>\n",
              "      \n",
              "  <style>\n",
              "    .colab-df-container {\n",
              "      display:flex;\n",
              "      flex-wrap:wrap;\n",
              "      gap: 12px;\n",
              "    }\n",
              "\n",
              "    .colab-df-convert {\n",
              "      background-color: #E8F0FE;\n",
              "      border: none;\n",
              "      border-radius: 50%;\n",
              "      cursor: pointer;\n",
              "      display: none;\n",
              "      fill: #1967D2;\n",
              "      height: 32px;\n",
              "      padding: 0 0 0 0;\n",
              "      width: 32px;\n",
              "    }\n",
              "\n",
              "    .colab-df-convert:hover {\n",
              "      background-color: #E2EBFA;\n",
              "      box-shadow: 0px 1px 2px rgba(60, 64, 67, 0.3), 0px 1px 3px 1px rgba(60, 64, 67, 0.15);\n",
              "      fill: #174EA6;\n",
              "    }\n",
              "\n",
              "    [theme=dark] .colab-df-convert {\n",
              "      background-color: #3B4455;\n",
              "      fill: #D2E3FC;\n",
              "    }\n",
              "\n",
              "    [theme=dark] .colab-df-convert:hover {\n",
              "      background-color: #434B5C;\n",
              "      box-shadow: 0px 1px 3px 1px rgba(0, 0, 0, 0.15);\n",
              "      filter: drop-shadow(0px 1px 2px rgba(0, 0, 0, 0.3));\n",
              "      fill: #FFFFFF;\n",
              "    }\n",
              "  </style>\n",
              "\n",
              "      <script>\n",
              "        const buttonEl =\n",
              "          document.querySelector('#df-c7cad96a-90f2-4f29-aa93-1f667b07aefd button.colab-df-convert');\n",
              "        buttonEl.style.display =\n",
              "          google.colab.kernel.accessAllowed ? 'block' : 'none';\n",
              "\n",
              "        async function convertToInteractive(key) {\n",
              "          const element = document.querySelector('#df-c7cad96a-90f2-4f29-aa93-1f667b07aefd');\n",
              "          const dataTable =\n",
              "            await google.colab.kernel.invokeFunction('convertToInteractive',\n",
              "                                                     [key], {});\n",
              "          if (!dataTable) return;\n",
              "\n",
              "          const docLinkHtml = 'Like what you see? Visit the ' +\n",
              "            '<a target=\"_blank\" href=https://colab.research.google.com/notebooks/data_table.ipynb>data table notebook</a>'\n",
              "            + ' to learn more about interactive tables.';\n",
              "          element.innerHTML = '';\n",
              "          dataTable['output_type'] = 'display_data';\n",
              "          await google.colab.output.renderOutput(dataTable, element);\n",
              "          const docLink = document.createElement('div');\n",
              "          docLink.innerHTML = docLinkHtml;\n",
              "          element.appendChild(docLink);\n",
              "        }\n",
              "      </script>\n",
              "    </div>\n",
              "  </div>\n",
              "  "
            ]
          },
          "metadata": {},
          "execution_count": 73
        }
      ]
    },
    {
      "cell_type": "code",
      "metadata": {
        "id": "he3iRAI1VgcQ",
        "colab": {
          "base_uri": "https://localhost:8080/",
          "height": 206
        },
        "outputId": "d0f9a6ea-96c5-48a3-d5ba-1a659fac4b3b"
      },
      "source": [
        "# Cek 5 Dataset terbawah\n",
        "reviews.tail()"
      ],
      "execution_count": null,
      "outputs": [
        {
          "output_type": "execute_result",
          "data": {
            "text/plain": [
              "        id  Rating Lang          Type  Country        Date  Helpful  \\\n",
              "1212  1369       5   de  Not Verified  Germany  25/08/2019      NaN   \n",
              "1213  1372       5   de  Not Verified  Germany  23/09/2019      NaN   \n",
              "1214  1375       5   de  Not Verified  Germany    9/9/2019      1.0   \n",
              "1215  1376       5   de  Not Verified  Germany  19/08/2019      1.0   \n",
              "1216  1378       5   de  Not Verified  Germany  15/01/2020      NaN   \n",
              "\n",
              "                                             translated  \n",
              "1212  Our little one was already able to calm down a...  \n",
              "1213  Babies and small children need closeness and s...  \n",
              "1214  So the workmanship is really very good. Also t...  \n",
              "1215  A very magical music box is that. Win a cutene...  \n",
              "1216  The otter looks high-quality. Very valuable wo...  "
            ],
            "text/html": [
              "\n",
              "  <div id=\"df-63ef9658-066c-4b42-ad61-fda75b238a71\">\n",
              "    <div class=\"colab-df-container\">\n",
              "      <div>\n",
              "<style scoped>\n",
              "    .dataframe tbody tr th:only-of-type {\n",
              "        vertical-align: middle;\n",
              "    }\n",
              "\n",
              "    .dataframe tbody tr th {\n",
              "        vertical-align: top;\n",
              "    }\n",
              "\n",
              "    .dataframe thead th {\n",
              "        text-align: right;\n",
              "    }\n",
              "</style>\n",
              "<table border=\"1\" class=\"dataframe\">\n",
              "  <thead>\n",
              "    <tr style=\"text-align: right;\">\n",
              "      <th></th>\n",
              "      <th>id</th>\n",
              "      <th>Rating</th>\n",
              "      <th>Lang</th>\n",
              "      <th>Type</th>\n",
              "      <th>Country</th>\n",
              "      <th>Date</th>\n",
              "      <th>Helpful</th>\n",
              "      <th>translated</th>\n",
              "    </tr>\n",
              "  </thead>\n",
              "  <tbody>\n",
              "    <tr>\n",
              "      <th>1212</th>\n",
              "      <td>1369</td>\n",
              "      <td>5</td>\n",
              "      <td>de</td>\n",
              "      <td>Not Verified</td>\n",
              "      <td>Germany</td>\n",
              "      <td>25/08/2019</td>\n",
              "      <td>NaN</td>\n",
              "      <td>Our little one was already able to calm down a...</td>\n",
              "    </tr>\n",
              "    <tr>\n",
              "      <th>1213</th>\n",
              "      <td>1372</td>\n",
              "      <td>5</td>\n",
              "      <td>de</td>\n",
              "      <td>Not Verified</td>\n",
              "      <td>Germany</td>\n",
              "      <td>23/09/2019</td>\n",
              "      <td>NaN</td>\n",
              "      <td>Babies and small children need closeness and s...</td>\n",
              "    </tr>\n",
              "    <tr>\n",
              "      <th>1214</th>\n",
              "      <td>1375</td>\n",
              "      <td>5</td>\n",
              "      <td>de</td>\n",
              "      <td>Not Verified</td>\n",
              "      <td>Germany</td>\n",
              "      <td>9/9/2019</td>\n",
              "      <td>1.0</td>\n",
              "      <td>So the workmanship is really very good. Also t...</td>\n",
              "    </tr>\n",
              "    <tr>\n",
              "      <th>1215</th>\n",
              "      <td>1376</td>\n",
              "      <td>5</td>\n",
              "      <td>de</td>\n",
              "      <td>Not Verified</td>\n",
              "      <td>Germany</td>\n",
              "      <td>19/08/2019</td>\n",
              "      <td>1.0</td>\n",
              "      <td>A very magical music box is that. Win a cutene...</td>\n",
              "    </tr>\n",
              "    <tr>\n",
              "      <th>1216</th>\n",
              "      <td>1378</td>\n",
              "      <td>5</td>\n",
              "      <td>de</td>\n",
              "      <td>Not Verified</td>\n",
              "      <td>Germany</td>\n",
              "      <td>15/01/2020</td>\n",
              "      <td>NaN</td>\n",
              "      <td>The otter looks high-quality. Very valuable wo...</td>\n",
              "    </tr>\n",
              "  </tbody>\n",
              "</table>\n",
              "</div>\n",
              "      <button class=\"colab-df-convert\" onclick=\"convertToInteractive('df-63ef9658-066c-4b42-ad61-fda75b238a71')\"\n",
              "              title=\"Convert this dataframe to an interactive table.\"\n",
              "              style=\"display:none;\">\n",
              "        \n",
              "  <svg xmlns=\"http://www.w3.org/2000/svg\" height=\"24px\"viewBox=\"0 0 24 24\"\n",
              "       width=\"24px\">\n",
              "    <path d=\"M0 0h24v24H0V0z\" fill=\"none\"/>\n",
              "    <path d=\"M18.56 5.44l.94 2.06.94-2.06 2.06-.94-2.06-.94-.94-2.06-.94 2.06-2.06.94zm-11 1L8.5 8.5l.94-2.06 2.06-.94-2.06-.94L8.5 2.5l-.94 2.06-2.06.94zm10 10l.94 2.06.94-2.06 2.06-.94-2.06-.94-.94-2.06-.94 2.06-2.06.94z\"/><path d=\"M17.41 7.96l-1.37-1.37c-.4-.4-.92-.59-1.43-.59-.52 0-1.04.2-1.43.59L10.3 9.45l-7.72 7.72c-.78.78-.78 2.05 0 2.83L4 21.41c.39.39.9.59 1.41.59.51 0 1.02-.2 1.41-.59l7.78-7.78 2.81-2.81c.8-.78.8-2.07 0-2.86zM5.41 20L4 18.59l7.72-7.72 1.47 1.35L5.41 20z\"/>\n",
              "  </svg>\n",
              "      </button>\n",
              "      \n",
              "  <style>\n",
              "    .colab-df-container {\n",
              "      display:flex;\n",
              "      flex-wrap:wrap;\n",
              "      gap: 12px;\n",
              "    }\n",
              "\n",
              "    .colab-df-convert {\n",
              "      background-color: #E8F0FE;\n",
              "      border: none;\n",
              "      border-radius: 50%;\n",
              "      cursor: pointer;\n",
              "      display: none;\n",
              "      fill: #1967D2;\n",
              "      height: 32px;\n",
              "      padding: 0 0 0 0;\n",
              "      width: 32px;\n",
              "    }\n",
              "\n",
              "    .colab-df-convert:hover {\n",
              "      background-color: #E2EBFA;\n",
              "      box-shadow: 0px 1px 2px rgba(60, 64, 67, 0.3), 0px 1px 3px 1px rgba(60, 64, 67, 0.15);\n",
              "      fill: #174EA6;\n",
              "    }\n",
              "\n",
              "    [theme=dark] .colab-df-convert {\n",
              "      background-color: #3B4455;\n",
              "      fill: #D2E3FC;\n",
              "    }\n",
              "\n",
              "    [theme=dark] .colab-df-convert:hover {\n",
              "      background-color: #434B5C;\n",
              "      box-shadow: 0px 1px 3px 1px rgba(0, 0, 0, 0.15);\n",
              "      filter: drop-shadow(0px 1px 2px rgba(0, 0, 0, 0.3));\n",
              "      fill: #FFFFFF;\n",
              "    }\n",
              "  </style>\n",
              "\n",
              "      <script>\n",
              "        const buttonEl =\n",
              "          document.querySelector('#df-63ef9658-066c-4b42-ad61-fda75b238a71 button.colab-df-convert');\n",
              "        buttonEl.style.display =\n",
              "          google.colab.kernel.accessAllowed ? 'block' : 'none';\n",
              "\n",
              "        async function convertToInteractive(key) {\n",
              "          const element = document.querySelector('#df-63ef9658-066c-4b42-ad61-fda75b238a71');\n",
              "          const dataTable =\n",
              "            await google.colab.kernel.invokeFunction('convertToInteractive',\n",
              "                                                     [key], {});\n",
              "          if (!dataTable) return;\n",
              "\n",
              "          const docLinkHtml = 'Like what you see? Visit the ' +\n",
              "            '<a target=\"_blank\" href=https://colab.research.google.com/notebooks/data_table.ipynb>data table notebook</a>'\n",
              "            + ' to learn more about interactive tables.';\n",
              "          element.innerHTML = '';\n",
              "          dataTable['output_type'] = 'display_data';\n",
              "          await google.colab.output.renderOutput(dataTable, element);\n",
              "          const docLink = document.createElement('div');\n",
              "          docLink.innerHTML = docLinkHtml;\n",
              "          element.appendChild(docLink);\n",
              "        }\n",
              "      </script>\n",
              "    </div>\n",
              "  </div>\n",
              "  "
            ]
          },
          "metadata": {},
          "execution_count": 74
        }
      ]
    },
    {
      "cell_type": "markdown",
      "metadata": {
        "id": "Zm8Hyul6CbSp"
      },
      "source": [
        "Begitu pula untuk menampilkan atau menemukan jumlah baris dan kolom dalam dataset dapat menggunakan atribut columns dan shape seperti yang ditunjukkan di bawah ini:"
      ]
    },
    {
      "cell_type": "code",
      "metadata": {
        "id": "zYoWEuXX-F82",
        "colab": {
          "base_uri": "https://localhost:8080/",
          "height": 92
        },
        "outputId": "13fbe4b6-6718-4639-bfa2-959aa473a634"
      },
      "source": [
        "# Cek attribut dataset\n",
        "display(reviews.columns)\n",
        "\n",
        "# Cek jumlah baris dan kolom dataset\n",
        "display(reviews.shape)"
      ],
      "execution_count": null,
      "outputs": [
        {
          "output_type": "display_data",
          "data": {
            "text/plain": [
              "Index(['id', 'Rating', 'Lang', 'Type', 'Country', 'Date', 'Helpful',\n",
              "       'translated'],\n",
              "      dtype='object')"
            ]
          },
          "metadata": {}
        },
        {
          "output_type": "display_data",
          "data": {
            "text/plain": [
              "(1535, 8)"
            ]
          },
          "metadata": {}
        }
      ]
    },
    {
      "cell_type": "markdown",
      "metadata": {
        "id": "D-rInDxJCgnF"
      },
      "source": [
        "Dalam output, Kita melihat ada (1535, 8) yang berarti bahwa dataset kami terdiri dari 1535 baris dan 8 kolom. Namun, di antara kolom, kita hanya tertarik pada kolom “type” yang terdiri dari kategori sentimen sebenarnya, dan kolom “translated” yang berisi teks aktual dari ulasan dan penilaian tersebut."
      ]
    },
    {
      "cell_type": "markdown",
      "metadata": {
        "id": "rbHUTw609ziv"
      },
      "source": [
        "## Explorasi Data"
      ]
    },
    {
      "cell_type": "markdown",
      "metadata": {
        "id": "HAFFBjhsCmLU"
      },
      "source": [
        "Jadi, sebelum kita membangun model yang sebenarnya. Mari kita lakukan beberapa eksplorasi analisis data pada model. Untuk melihat jumlah ulasan dan penilaian yang verified dan not verified dalam bentuk plot bar, dengan menjalankan skrip di bawah di mana library python dari Seaborn digunakan untuk menggambar metode countplot."
      ]
    },
    {
      "cell_type": "code",
      "metadata": {
        "id": "URRkQxRK-S6y",
        "colab": {
          "base_uri": "https://localhost:8080/",
          "height": 405
        },
        "outputId": "e882d988-3b83-4df4-8c43-aefd78f8498d"
      },
      "source": [
        "# Cek jumlah review verified dan not verified\n",
        "plt.figure(figsize=(12,5))\n",
        "sns.countplot(x='Type', data=reviews)\n",
        "plt.title('Distribusi class sentiment Airline', fontsize=16)\n",
        "plt.ylabel('Class Counts', fontsize=16)\n",
        "plt.xlabel('Class Label', fontsize=16)\n",
        "plt.xticks(rotation='vertical');"
      ],
      "execution_count": null,
      "outputs": [
        {
          "output_type": "display_data",
          "data": {
            "text/plain": [
              "<Figure size 864x360 with 1 Axes>"
            ],
            "image/png": "[encoded data removed]"
          },
          "metadata": {
            "needs_background": "light"
          }
        }
      ]
    },
    {
      "cell_type": "markdown",
      "metadata": {
        "id": "wuG12_t3Cqm-"
      },
      "source": [
        "Dari output, kita dapat melihat bahwa jumlah ulasan dan penilaian verified jauh lebih tinggi dari pada jumlah ulasan dan penilaian not verified. "
      ]
    },
    {
      "cell_type": "markdown",
      "metadata": {
        "id": "CtYqTl6rCsFe"
      },
      "source": [
        "Demikian pula untuk melihat country mana yang mendapat ulasan dan penilaian tertinggi dengan menjalankan skrip berikut."
      ]
    },
    {
      "cell_type": "code",
      "metadata": {
        "id": "MDZXKeN2-Tb4",
        "colab": {
          "base_uri": "https://localhost:8080/",
          "height": 280
        },
        "outputId": "1be20c14-95c4-4380-cacb-ab8d7cb775d2"
      },
      "source": [
        "# Cek Airline yang mendapat review paling tinggi\n",
        "sns.countplot(x='Country', data=reviews);"
      ],
      "execution_count": null,
      "outputs": [
        {
          "output_type": "display_data",
          "data": {
            "text/plain": [
              "<Figure size 432x288 with 1 Axes>"
            ],
            "image/png": "[encoded data removed]"
          },
          "metadata": {
            "needs_background": "light"
          }
        }
      ]
    },
    {
      "cell_type": "markdown",
      "metadata": {
        "id": "oPMg6tQgCvOY"
      },
      "source": [
        "Dari output, Kita dapat melihat bahwa country “Germany” mendapat jumlah ulasan dan penilaian tertinggi sedangkan “Australia” mendapat jumlah ulasan dan penilaian terendah."
      ]
    },
    {
      "cell_type": "markdown",
      "metadata": {
        "id": "TXKUXgIvC0Dc"
      },
      "source": [
        "Akhirnya, mari kita lihat jumlah reviews dan ratings dari toko mainan setiap country di Eropa. Untuk melakukannya, kita dapat kembali menggunakan metode countplot dari library seaborn."
      ]
    },
    {
      "cell_type": "code",
      "metadata": {
        "id": "z7qNS5b_-gFG",
        "colab": {
          "base_uri": "https://localhost:8080/",
          "height": 279
        },
        "outputId": "8578cab4-a8a3-43e6-deec-eb7d98d90e5f"
      },
      "source": [
        "# Cek jumlah review dari masing-masing Type yang diterima\n",
        "sns.countplot(x='Country', hue=\"Type\", data=reviews);"
      ],
      "execution_count": null,
      "outputs": [
        {
          "output_type": "display_data",
          "data": {
            "text/plain": [
              "<Figure size 432x288 with 1 Axes>"
            ],
            "image/png": "[encoded data removed]"
          },
          "metadata": {
            "needs_background": "light"
          }
        }
      ]
    },
    {
      "cell_type": "markdown",
      "metadata": {
        "id": "bcSzZWvMC37G"
      },
      "source": [
        "Kita dapat melihat bahwa untuk hampir semua country, jumlah ulasan dan penilaian verified lebih besar daripada ulasan dan penilaian not verified."
      ]
    },
    {
      "cell_type": "markdown",
      "metadata": {
        "id": "HD0ZzsMLAUZd"
      },
      "source": [
        "## Pemrosesan Data"
      ]
    },
    {
      "cell_type": "markdown",
      "metadata": {
        "id": "wWw0zLkjAjLU"
      },
      "source": [
        "Pertama, mari kita membagi dataset menjadi feature dan label set. Di feature set, Kita hanya akan menggunakan text reviews sebagai feature. Label yang sesuai akan menjadi sentimen dari review tersebut. Kolom text adalah kolom ke 7 (indeks kolom dimulai dari 0 di panda) dalam dataset dan berisi teks dari review tersebut. Demikian pula \"type\" adalah kolom ketiga yang berisi sentimen. Gunakan metode \"iloc\" dari dataframe panda untuk membuat feature set X dan label set y, seperti yang ditunjukkan di bawah ini."
      ]
    },
    {
      "cell_type": "code",
      "metadata": {
        "id": "Wy2RNLgs-1dB",
        "colab": {
          "base_uri": "https://localhost:8080/"
        },
        "outputId": "cf982aaa-a85b-4e2d-d103-fee813040794"
      },
      "source": [
        "from sklearn.preprocessing import LabelEncoder\n",
        "\n",
        "X = reviews.iloc[:, 7].values  \n",
        "le = LabelEncoder()\n",
        "le.fit([\"Verified\", \"Not Verified\"])\n",
        "\n",
        "print(list(le.classes_))\n",
        "y = le.transform(reviews.iloc[:, 3].values)\n",
        "\n",
        "#y = reviews.iloc[:, 3].values\n",
        "print(X.shape)\n",
        "print(X[0])\n",
        "print(y.shape)\n",
        "print(y[0])"
      ],
      "execution_count": null,
      "outputs": [
        {
          "output_type": "stream",
          "name": "stdout",
          "text": [
            "['Not Verified', 'Verified']\n",
            "(1535,)\n",
            "What to say? My daughter LOVES him and I with her. Very soft, zero visible seams, tender and especially functional. It reproduces according to the choice of music, white noise, the sound of the Breath or heartbeat. Also the otter tummy lights up and moves as if breathing. For the newborn is a real comfort in the cradle, always kept in safety, I place it away from his face so that he can perceive it even just by touching it with his hand. Wonderful purchase, we are really happy!\n",
            "(1535,)\n",
            "1\n"
          ]
        }
      ]
    },
    {
      "cell_type": "markdown",
      "metadata": {
        "id": "67i00fArA8k5"
      },
      "source": [
        "Dataset tersebut berisi banyak karakter khusus dan ruang kosong. Kita harus menghapusnya agar memiliki dataset yang bersih. Berikut script untuk melakukan itu:"
      ]
    },
    {
      "cell_type": "code",
      "metadata": {
        "id": "iB09_ADdAoIZ"
      },
      "source": [
        "# Membuat empty List\n",
        "processed_reviews = []\n",
        "\n",
        "for reviews in range(0, len(X)):  \n",
        "    # Hapus semua special characters\n",
        "    processed_review = re.sub(r'\\W', ' ', str(X[reviews]))\n",
        "\n",
        "    # Hapus semua single characters\n",
        "    processed_review = re.sub(r'\\s+[a-zA-Z]\\s+', ' ', processed_review)\n",
        "\n",
        "    # Hapus single characters dari awal\n",
        "    processed_review = re.sub(r'\\^[a-zA-Z]\\s+', ' ', processed_review) \n",
        "\n",
        "    # Substitusi multiple spaces dengan single space\n",
        "    processed_review = re.sub(r'\\s+', ' ', processed_review, flags=re.I)\n",
        "\n",
        "    # Hapus prefixed 'b'\n",
        "    processed_review = re.sub(r'^b\\s+', '', processed_review)\n",
        "\n",
        "    # Ubah menjadi Lowercase\n",
        "    processed_review = processed_review.lower()\n",
        "\n",
        "    # Masukkan ke list kosong yang telah dibuat sebelumnya\n",
        "    processed_reviews.append(processed_review)"
      ],
      "execution_count": null,
      "outputs": []
    },
    {
      "cell_type": "code",
      "metadata": {
        "id": "VCpteX5ll1VL",
        "colab": {
          "base_uri": "https://localhost:8080/"
        },
        "outputId": "e0788d4a-a286-448f-89c7-accfd54ac3ae"
      },
      "source": [
        "# Cek sebelum cleaning data\n",
        "print(str(X[:5]))\n",
        "print()\n",
        "\n",
        "# Cek setelah cleaning data\n",
        "processed_reviews[:5]"
      ],
      "execution_count": null,
      "outputs": [
        {
          "output_type": "stream",
          "name": "stdout",
          "text": [
            "['What to say? My daughter LOVES him and I with her. Very soft, zero visible seams, tender and especially functional. It reproduces according to the choice of music, white noise, the sound of the Breath or heartbeat. Also the otter tummy lights up and moves as if breathing. For the newborn is a real comfort in the cradle, always kept in safety, I place it away from his face so that he can perceive it even just by touching it with his hand. Wonderful purchase, we are really happy!'\n",
            " 'An unusual pet, this otter is beautiful! Cute melodies, light in the tummy and fantastic \"breath\" mode.. I bought it to put it near my 2 month old baby when sleeps because he likes contact very much, it didn\\'t work but we love it when wake up!!:) only flaws the price a little \\'high even if much lower than the store'\n",
            " \"Beautiful, soft and very relaxing. It comes with behind (back) the keys you can select (-/+ for the volume, the notes for the type of music to select, the type of noise you want to put (heart beat, white noise etc, the belly moving or not, the light on or off).. all these keys are great and customizable depending on what the baby wants. My (10 months) is used to sleeping with the music box all night long and otter has a duration of 30 Min, but alas I wouldn't know if she might like it since she doesn't sleep absolutely with puppets.. but I can say that to this she has become fond of in a hurry (which is very strange).. we will see in the next nights if I can introduce her into the dwarfs!! Anyway recommended purchase, the only flaw is that 5.99 euro shipping is too much!!! At the end it costs less in the store!!\"\n",
            " 'Plush tender, my 16-month-old loves it, sleeps hugged and cuddles him even when he wakes up. I put four stars because unfortunately, at least in my case, the mechanism that makes the belly of the puppet raise and lower emits an annoying hum. However, it remains effective in the function of the white noises and of the breath, that reconcile the sleep to my baby accompanying her towards a deep sleep and now is for her an indispensable companion! It does not do miracles, if sleeplessness or agitation are due to other ailments (e.g. identification) you have to intervene to solve those, but even in these cases the plush helps the child at least to relax and comfort, along with the cuddles of mom and dad, obviously!'\n",
            " 'I love it, simply. I bought it after seeing it in a shop, I fell in love with it right away. Very soft and relaxing. The sounds are lovely and the heart movement is simply divine!!']\n",
            "\n"
          ]
        },
        {
          "output_type": "execute_result",
          "data": {
            "text/plain": [
              "['what to say my daughter loves him and with her very soft zero visible seams tender and especially functional it reproduces according to the choice of music white noise the sound of the breath or heartbeat also the otter tummy lights up and moves as if breathing for the newborn is real comfort in the cradle always kept in safety place it away from his face so that he can perceive it even just by touching it with his hand wonderful purchase we are really happy ',\n",
              " 'an unusual pet this otter is beautiful cute melodies light in the tummy and fantastic breath mode bought it to put it near my 2 month old baby when sleeps because he likes contact very much it didn work but we love it when wake up only flaws the price little high even if much lower than the store',\n",
              " 'beautiful soft and very relaxing it comes with behind back the keys you can select for the volume the notes for the type of music to select the type of noise you want to put heart beat white noise etc the belly moving or not the light on or off all these keys are great and customizable depending on what the baby wants my 10 months is used to sleeping with the music box all night long and otter has duration of 30 min but alas wouldn know if she might like it since she doesn sleep absolutely with puppets but can say that to this she has become fond of in hurry which is very strange we will see in the next nights if can introduce her into the dwarfs anyway recommended purchase the only flaw is that 5 99 euro shipping is too much at the end it costs less in the store ',\n",
              " 'plush tender my 16 month old loves it sleeps hugged and cuddles him even when he wakes up put four stars because unfortunately at least in my case the mechanism that makes the belly of the puppet raise and lower emits an annoying hum however it remains effective in the function of the white noises and of the breath that reconcile the sleep to my baby accompanying her towards deep sleep and now is for her an indispensable companion it does not do miracles if sleeplessness or agitation are due to other ailments g identification you have to intervene to solve those but even in these cases the plush helps the child at least to relax and comfort along with the cuddles of mom and dad obviously ',\n",
              " 'i love it simply bought it after seeing it in shop fell in love with it right away very soft and relaxing the sounds are lovely and the heart movement is simply divine ']"
            ]
          },
          "metadata": {},
          "execution_count": 81
        }
      ]
    },
    {
      "cell_type": "markdown",
      "metadata": {
        "id": "JrnkY_ByDhsQ"
      },
      "source": [
        "### TF-IDF"
      ]
    },
    {
      "cell_type": "markdown",
      "source": [
        "Feature engineering: mengubah kata jadi angka."
      ],
      "metadata": {
        "id": "ZybjqQw8MfGD"
      }
    },
    {
      "cell_type": "code",
      "metadata": {
        "id": "e8YwLIfgApr8"
      },
      "source": [
        "from sklearn.feature_extraction.text import TfidfVectorizer\n",
        "tfidfconverter = TfidfVectorizer(max_features=2000, min_df=5, max_df=0.7, stop_words=stopwords.words('english'),ngram_range=(1,3))\n",
        "X1 = tfidfconverter.fit_transform(processed_reviews).toarray()"
      ],
      "execution_count": null,
      "outputs": []
    },
    {
      "cell_type": "markdown",
      "metadata": {
        "id": "cMMsVmkwEHqW"
      },
      "source": [
        "**Atribut `max_features` menentukan jumlah kata yang paling banyak muncul di mana Anda ingin membuat feature vektor**. Kata-kata yang jarang muncul tidak memainkan peran utama dalam klasifikasi. Karenanya kami hanya menyimpan 2000 kata yang paling sering muncul dalam dataset. **Nilai `min_df` dari 5 menentukan bahwa kata tersebut harus muncul di setidaknya 5 dokumen**. Demikian pula, nilai **`max_df` sebesar 0,7 menetapkan bahwa kata tersebut tidak boleh muncul di lebih dari 70 persen dokumen. Alasan di balik memilih 70 persen sebagai ambang batas adalah bahwa kata-kata yang muncul di lebih dari 70 persen dokumen terlalu umum dan kecil kemungkinannya untuk berperan dalam klasifikasi sentimen.**\n",
        "\n",
        "Terakhir, untuk mengonversi dataset menjadi feature vektor TF-IDF yang sesuai, Kita perlu memanggil metode `fit_transform` pada kelas `TfidfVectorizer` dan meneruskannya dengan dataset yang telah kami proses sebelumnya."
      ]
    },
    {
      "cell_type": "markdown",
      "metadata": {
        "id": "pz3iJizfGOZB"
      },
      "source": [
        "## Membagi Data ke Training dan Test Set"
      ]
    },
    {
      "cell_type": "markdown",
      "metadata": {
        "id": "wYjm1EVIGTys"
      },
      "source": [
        "Sebelum membangun model analisis sentimen yang sebenarnya, bagi dataset ke training dan test set. Model akan melatih pada training set dan dievaluasi pada test set. Berikut script untuk membagi data menjadi training dan test set:"
      ]
    },
    {
      "cell_type": "code",
      "metadata": {
        "id": "u4Izr0lzEGgf"
      },
      "source": [
        "from sklearn.model_selection import train_test_split  \n",
        "X_train, X_test, y_train, y_test = train_test_split(X1, y, test_size=0.2, random_state=0) #20% data testing"
      ],
      "execution_count": null,
      "outputs": []
    },
    {
      "cell_type": "markdown",
      "metadata": {
        "id": "272NNoFNGgCp"
      },
      "source": [
        "## Pelatihan dan Evaluasi dari Model Klasifikasi Teks"
      ]
    },
    {
      "cell_type": "markdown",
      "metadata": {
        "id": "P9YzCXQeGkVt"
      },
      "source": [
        "Kita telah membagi data ke dalam training dan test set, langkah selanjutnya adalah melatih model pada training set dan mengevaluasi kinerjanya pada test set. Sekarang, gunakan `RandomForestClassifier, Naive Bayes dan SVM` dari modul `sklearn` untuk melatih model. Kita dapat menggunakan classifier lainnya sesuai pilihan. Untuk melatih model, Kita perlu memanggil metode \"fit\" pada objek classifier dan meneruskannya ke training feature set dan training label set seperti yang ditunjukkan di bawah ini:"
      ]
    },
    {
      "cell_type": "code",
      "metadata": {
        "id": "7ZwFF6ZXGfBj"
      },
      "source": [
        "import time\n",
        "\n",
        "from sklearn.ensemble import RandomForestClassifier\n",
        "\n",
        "text_classifier_en = RandomForestClassifier(n_estimators=100, random_state=0)\n",
        "t0_en = time.time()\n",
        "text_classifier_en.fit(X_train, y_train)\n",
        "t1_en = time.time()"
      ],
      "execution_count": null,
      "outputs": []
    },
    {
      "cell_type": "code",
      "metadata": {
        "id": "jizQpxeuJF_r"
      },
      "source": [
        "from sklearn.naive_bayes import GaussianNB\n",
        "text_classifier_nb = GaussianNB()  \n",
        "t0_nb = time.time()\n",
        "text_classifier_nb.fit(X_train, y_train)\n",
        "t1_nb = time.time()"
      ],
      "execution_count": null,
      "outputs": []
    },
    {
      "cell_type": "code",
      "metadata": {
        "id": "plO0fYm4zsyL"
      },
      "source": [
        "from sklearn.svm import SVC\n",
        "text_classifier_svm = SVC(kernel='linear')\n",
        "t0_svm = time.time()\n",
        "text_classifier_svm.fit(X_train, y_train)\n",
        "t1_svm = time.time()"
      ],
      "execution_count": null,
      "outputs": []
    },
    {
      "cell_type": "markdown",
      "metadata": {
        "id": "rH4yMdfVG0Tp"
      },
      "source": [
        "Untuk membuat prediksi pada test set, Kita harus melewati test set ke metode \"predict\" seperti yang ditunjukkan di bawah ini:"
      ]
    },
    {
      "cell_type": "code",
      "metadata": {
        "id": "ulqqo7MEGwsp",
        "colab": {
          "base_uri": "https://localhost:8080/"
        },
        "outputId": "99a71299-63aa-421d-ae43-5a23bac4c886"
      },
      "source": [
        "predictions_en = text_classifier_en.predict(X_test)\n",
        "t2_en = time.time()\n",
        "time_linear_train_en = t1_en-t0_en\n",
        "time_linear_predict_en = t2_en-t1_en\n",
        "\n",
        "predictions_nb = text_classifier_nb.predict(X_test)\n",
        "t2_nb = time.time()\n",
        "time_linear_train_nb = t1_nb-t0_nb\n",
        "time_linear_predict_nb = t2_nb-t1_nb\n",
        "\n",
        "predictions_svm = text_classifier_svm.predict(X_test)\n",
        "t2_svm = time.time()\n",
        "time_linear_train_svm = t1_svm-t0_svm\n",
        "time_linear_predict_svm = t2_svm-t1_svm\n",
        "\n",
        "# results\n",
        "print(\"EN Training time: %fs; Prediction time: %fs\" % (time_linear_train_en, time_linear_predict_en))\n",
        "print(\"NB Training time: %fs; Prediction time: %fs\" % (time_linear_train_nb, time_linear_predict_nb))\n",
        "print(\"SVM Training time: %fs; Prediction time: %fs\" % (time_linear_train_svm, time_linear_predict_svm))"
      ],
      "execution_count": null,
      "outputs": [
        {
          "output_type": "stream",
          "name": "stdout",
          "text": [
            "EN Training time: 0.591864s; Prediction time: 0.391807s\n",
            "NB Training time: 0.025266s; Prediction time: 0.357373s\n",
            "SVM Training time: 0.298535s; Prediction time: 0.095824s\n"
          ]
        }
      ]
    },
    {
      "cell_type": "markdown",
      "metadata": {
        "id": "YYpFcLPgHlBI"
      },
      "source": [
        "## Results"
      ]
    },
    {
      "cell_type": "markdown",
      "metadata": {
        "id": "Vt4e_45oG542"
      },
      "source": [
        "Terakhir, untuk mengevaluasi model klasifikasi yang digunakan, Kita dapat menggunakan *classification_report, confusion_matrix, accuracy_score, recall_score, precision_score,* dan *f1_score, roc_auc_score* sebagai performance metrics. Metrics ini dapat dihitung menggunakan class dari modul `sklearn.metrics` seperti yang ditunjukkan di bawah ini:"
      ]
    },
    {
      "cell_type": "code",
      "metadata": {
        "id": "M6U6-y21-qpF",
        "colab": {
          "base_uri": "https://localhost:8080/"
        },
        "outputId": "507fc59e-64e0-4207-be17-2cfe6dcda71b"
      },
      "source": [
        "from sklearn.metrics import classification_report, confusion_matrix, accuracy_score, recall_score, precision_score, f1_score, roc_auc_score\n",
        "\n",
        "print(\"Random Forest\")\n",
        "print('Accuracy  = ', round(accuracy_score(y_test, predictions_en)*100,2),'%')\n",
        "print('Recall    = ', round(recall_score(y_test, predictions_en)*100,2),'%')\n",
        "print('Precision = ', round(precision_score(y_test, predictions_en)*100,2),'%')\n",
        "print('F1-Score  = ', round(f1_score(y_test, predictions_en)*100,2),'%')\n",
        "print('ROC AUC   = ', roc_auc_score(y_test, predictions_en))\n",
        "print(\"\")\n",
        "print(\"Naive Bayes\")\n",
        "print('Accuracy  = ', round(accuracy_score(y_test, predictions_nb)*100,2),'%')\n",
        "print('Recall    = ', round(recall_score(y_test, predictions_nb)*100,2),'%')\n",
        "print('Precision = ', round(precision_score(y_test, predictions_nb)*100,2),'%')\n",
        "print('F1-Score  = ', round(f1_score(y_test, predictions_nb)*100,2),'%')\n",
        "print('ROC AUC   = ', roc_auc_score(y_test, predictions_nb))\n",
        "print(\"\")\n",
        "print(\"Support Vector Machine\")\n",
        "print('Accuracy  = ', round(accuracy_score(y_test, predictions_svm)*100,2),'%')\n",
        "print('Recall    = ', round(recall_score(y_test, predictions_svm)*100,2),'%')\n",
        "print('Precision = ', round(precision_score(y_test, predictions_svm)*100,2),'%')\n",
        "print('F1-Score  = ', round(f1_score(y_test, predictions_svm)*100,2),'%')\n",
        "print('ROC AUC   = ', roc_auc_score(y_test, predictions_svm))\n",
        "print(\"\")\n",
        "\n",
        "print(\"Random Forest\")\n",
        "print(confusion_matrix(y_test,predictions_en))  \n",
        "print(\"\")\n",
        "print(\"Naive Bayes\")\n",
        "print(confusion_matrix(y_test,predictions_nb))  \n",
        "print(\"\")\n",
        "print(\"Support Vector Machine\")\n",
        "print(confusion_matrix(y_test,predictions_svm))  \n",
        "print(\"\")\n",
        "\n",
        "print(\"Random Forest\")\n",
        "print(classification_report(y_test,predictions_en))  \n",
        "print(\"\")\n",
        "print(\"Naive Bayes\")\n",
        "print(classification_report(y_test,predictions_nb))  \n",
        "print(\"\")\n",
        "print(\"Support Vector Machine\")\n",
        "print(classification_report(y_test,predictions_svm))"
      ],
      "execution_count": null,
      "outputs": [
        {
          "output_type": "stream",
          "name": "stdout",
          "text": [
            "Random Forest\n",
            "Accuracy  =  96.09 %\n",
            "Recall    =  100.0 %\n",
            "Precision =  96.07 %\n",
            "F1-Score  =  97.99 %\n",
            "ROC AUC   =  0.5714285714285714\n",
            "\n",
            "Naive Bayes\n",
            "Accuracy  =  67.43 %\n",
            "Recall    =  70.31 %\n",
            "Precision =  94.06 %\n",
            "F1-Score  =  80.47 %\n",
            "ROC AUC   =  0.3872501218917601\n",
            "\n",
            "Support Vector Machine\n",
            "Accuracy  =  97.07 %\n",
            "Recall    =  100.0 %\n",
            "Precision =  97.02 %\n",
            "F1-Score  =  98.49 %\n",
            "ROC AUC   =  0.6785714285714286\n",
            "\n",
            "Random Forest\n",
            "[[  2  12]\n",
            " [  0 293]]\n",
            "\n",
            "Naive Bayes\n",
            "[[  1  13]\n",
            " [ 87 206]]\n",
            "\n",
            "Support Vector Machine\n",
            "[[  5   9]\n",
            " [  0 293]]\n",
            "\n",
            "Random Forest\n",
            "              precision    recall  f1-score   support\n",
            "\n",
            "           0       1.00      0.14      0.25        14\n",
            "           1       0.96      1.00      0.98       293\n",
            "\n",
            "    accuracy                           0.96       307\n",
            "   macro avg       0.98      0.57      0.61       307\n",
            "weighted avg       0.96      0.96      0.95       307\n",
            "\n",
            "\n",
            "Naive Bayes\n",
            "              precision    recall  f1-score   support\n",
            "\n",
            "           0       0.01      0.07      0.02        14\n",
            "           1       0.94      0.70      0.80       293\n",
            "\n",
            "    accuracy                           0.67       307\n",
            "   macro avg       0.48      0.39      0.41       307\n",
            "weighted avg       0.90      0.67      0.77       307\n",
            "\n",
            "\n",
            "Support Vector Machine\n",
            "              precision    recall  f1-score   support\n",
            "\n",
            "           0       1.00      0.36      0.53        14\n",
            "           1       0.97      1.00      0.98       293\n",
            "\n",
            "    accuracy                           0.97       307\n",
            "   macro avg       0.99      0.68      0.76       307\n",
            "weighted avg       0.97      0.97      0.96       307\n",
            "\n"
          ]
        }
      ]
    },
    {
      "cell_type": "markdown",
      "metadata": {
        "id": "CNNqcKS12rTq"
      },
      "source": [
        "## Testing Prediksi"
      ]
    },
    {
      "cell_type": "code",
      "metadata": {
        "id": "QC5bjvv6K2T8",
        "colab": {
          "base_uri": "https://localhost:8080/"
        },
        "outputId": "7e40e9b5-0fc3-47ec-b5b8-42f5edf5a85d"
      },
      "source": [
        "# Random Forest\n",
        "# Input text\n",
        "review = \"beautiful product\"\n",
        "\n",
        "review_vector = tfidfconverter.transform([review]).toarray() # vectorizing\n",
        "pred_text = text_classifier_en.predict(review_vector)\n",
        "pred_text = le.inverse_transform(pred_text)\n",
        "print(pred_text)"
      ],
      "execution_count": null,
      "outputs": [
        {
          "output_type": "stream",
          "name": "stdout",
          "text": [
            "['Verified']\n"
          ]
        }
      ]
    },
    {
      "cell_type": "code",
      "metadata": {
        "colab": {
          "base_uri": "https://localhost:8080/"
        },
        "id": "bJ5d9sT9sJHM",
        "outputId": "a9a71514-cf4e-4a1f-f4c5-45303c98b46a"
      },
      "source": [
        "# Naive Bayes\n",
        "# Input text\n",
        "review = \"My first impression was that it didn't really look like the picture and that something looked wrong with it\"\n",
        "\n",
        "review_vector = tfidfconverter.transform([review]).toarray() # vectorizing\n",
        "pred_text = text_classifier_nb.predict(review_vector)\n",
        "pred_text = le.inverse_transform(pred_text)\n",
        "print(pred_text)"
      ],
      "execution_count": null,
      "outputs": [
        {
          "output_type": "stream",
          "name": "stdout",
          "text": [
            "['Not Verified']\n"
          ]
        }
      ]
    },
    {
      "cell_type": "code",
      "metadata": {
        "colab": {
          "base_uri": "https://localhost:8080/"
        },
        "id": "Kq7kfKf2sToy",
        "outputId": "010bda6b-d3d0-4fdb-e09b-27b8216c4a48"
      },
      "source": [
        "# SVM\n",
        "# Input text\n",
        "review = \"My first impression was that it didn't really look like the picture and that something looked wrong with it\"\n",
        "\n",
        "review_vector = tfidfconverter.transform([review]).toarray() # vectorizing\n",
        "pred_text = text_classifier_svm.predict(review_vector)\n",
        "pred_text = le.inverse_transform(pred_text)\n",
        "print(pred_text)"
      ],
      "execution_count": null,
      "outputs": [
        {
          "output_type": "stream",
          "name": "stdout",
          "text": [
            "['Verified']\n"
          ]
        }
      ]
    },
    {
      "cell_type": "markdown",
      "metadata": {
        "id": "DraYPLXOHrMM"
      },
      "source": [
        "## Kesimpulan"
      ]
    },
    {
      "cell_type": "markdown",
      "metadata": {
        "id": "qiZrDPnbHv_w"
      },
      "source": [
        "Sentiment Analysis adalah salah satu tugas utama dalam proses natural language. Untuk menerapkan teknik statistik untuk Sentiment Analysis perlu mengubah teks menjadi angka. Pada pembahasan ini, melihat bagaimana pendekatan TF-IDF dapat digunakan untuk membuat vektor fitur numerik dari teks. Model Sentiment Analysis tertinggi diatas mencapai akurasi sekitar 97.07 % untuk prediksi sentimen menggunakan SVM."
      ]
    },
    {
      "cell_type": "markdown",
      "source": [
        "#AI Project Cycle - ChatBot (Natural Language Processing)"
      ],
      "metadata": {
        "id": "iiz5-asyCOj-"
      }
    },
    {
      "cell_type": "markdown",
      "source": [
        "##Problem Solving"
      ],
      "metadata": {
        "id": "qF6mhfLkCSv-"
      }
    },
    {
      "cell_type": "markdown",
      "source": [
        "1. What? (Apa masalahnya? Apa yg dibutuhkan?) : User yang ingin tau mengenai suatu topik tertentu dan membutuhkan jawaban dalam kurun waktu relatif singkat. Oleh karena itu, dibutuhkannya AI ChatBot yang merespon jawaban default yang ingin user ketahui lebih lanjut.\n",
        "2. Where? (Dimana / pada saat apa permasalahan ini muncul?) : Saat dimana pengguna membutuhkan tanggapan sesegera mungkin tanpa menunggu dalam jangka waktu tertentu. Dalam hal ini, tanggapan yang diberikan lebih ke pertanyaan yang sederhana dan mendasar, seperti halnya dalam online shop \"apakah barang ini tersedia?\", maka chatbot olshop tersebut akan menjawab \"barang tersedia sesuai dengan jumlah yang tertera di web tokonya\".\n",
        "3. Who? (Stakeholder yang terkait) : AI ChatBot dan pengguna. \n",
        "4. Why? (Kenapa masalah ini muncul? Bagaimana solusinya?) : Masalah ini muncul karena banyak user yang mempertanyakan pertanyaan yang sama pada suatu chat tertentu dan dalam beberapa hal menginginkan respon sesegera mungkin, sehingga chatbot ini dapat dijadikan salah satu alternatif solusi untuk mengatasi hal tersebut. Dengan adanya chatbot, user dapat melakukan percakapan melalui teks atau ucapan dan akan ditanggapi secara fast respon (hanya untuk pertanyaan umum, tidak berlaku untuk pertanyaan yang lebih mendetail)."
      ],
      "metadata": {
        "id": "pu4ums6XCWa1"
      }
    },
    {
      "cell_type": "markdown",
      "source": [
        "##Data Acquisition"
      ],
      "metadata": {
        "id": "yPsA1wCfCXYt"
      }
    },
    {
      "cell_type": "markdown",
      "source": [
        "Data ini diperoleh dari laman website linisehat dan nature: \n",
        "1. https://linisehat.com/kenali-academic-burnout-dan-cara-mengatasinya/ (untuk chatbot bahasa indonesia)\n",
        "2. https://www.nature.com/articles/d41586-021-00663-2 (untuk chatbot bahasa inggris)"
      ],
      "metadata": {
        "id": "ha1ZZJE8Cdwe"
      }
    },
    {
      "cell_type": "markdown",
      "source": [
        "##Data Exploration"
      ],
      "metadata": {
        "id": "_GeGXbH1CeFl"
      }
    },
    {
      "cell_type": "markdown",
      "source": [
        "Data berupa artikel teks mengenai Academic Burnout."
      ],
      "metadata": {
        "id": "tqftaUiICf6V"
      }
    },
    {
      "cell_type": "markdown",
      "source": [
        "##Modelling"
      ],
      "metadata": {
        "id": "dBqAjnrFCgIn"
      }
    },
    {
      "cell_type": "markdown",
      "source": [
        "Program dalam Mini Project ini menggunakan Cosine Similarity dalam penerapan AI ChatBot."
      ],
      "metadata": {
        "id": "DBtriKUmCjCG"
      }
    },
    {
      "cell_type": "markdown",
      "source": [
        "##Evaluation"
      ],
      "metadata": {
        "id": "__VCSPUBCjc0"
      }
    },
    {
      "cell_type": "markdown",
      "source": [
        "Dari pengolahan data yang kami lakukan seperti:\n",
        "1. Making Corpus\n",
        "2. Tokenization\n",
        "3. Bot Response\n",
        "4. Making Chatbot\n",
        "\n",
        "Kami memperoleh AI ChatBot yang merespon sesuai dengan corpus artikel yang kami gunakan."
      ],
      "metadata": {
        "id": "oL1gkUhPCl4P"
      }
    },
    {
      "cell_type": "markdown",
      "source": [
        "#Implementasi - AI ChatBot (Bahasa Indonesia)"
      ],
      "metadata": {
        "id": "1OoYBz68Co_k"
      }
    },
    {
      "cell_type": "code",
      "source": [
        "!pip install newspaper3k #untuk scraping artikel pada web"
      ],
      "metadata": {
        "colab": {
          "base_uri": "https://localhost:8080/"
        },
        "id": "5pRuPdxxF3l7",
        "outputId": "f7739c32-2ecb-466f-9d2a-764781fd5641"
      },
      "execution_count": null,
      "outputs": [
        {
          "output_type": "stream",
          "name": "stdout",
          "text": [
            "Collecting newspaper3k\n",
            "  Downloading newspaper3k-0.2.8-py3-none-any.whl (211 kB)\n",
            "\u001b[K     |████████████████████████████████| 211 kB 5.2 MB/s \n",
            "\u001b[?25hCollecting feedparser>=5.2.1\n",
            "  Downloading feedparser-6.0.8-py3-none-any.whl (81 kB)\n",
            "\u001b[K     |████████████████████████████████| 81 kB 4.5 MB/s \n",
            "\u001b[?25hRequirement already satisfied: nltk>=3.2.1 in /usr/local/lib/python3.7/dist-packages (from newspaper3k) (3.2.5)\n",
            "Requirement already satisfied: requests>=2.10.0 in /usr/local/lib/python3.7/dist-packages (from newspaper3k) (2.23.0)\n",
            "Requirement already satisfied: python-dateutil>=2.5.3 in /usr/local/lib/python3.7/dist-packages (from newspaper3k) (2.8.2)\n",
            "Requirement already satisfied: Pillow>=3.3.0 in /usr/local/lib/python3.7/dist-packages (from newspaper3k) (7.1.2)\n",
            "Requirement already satisfied: lxml>=3.6.0 in /usr/local/lib/python3.7/dist-packages (from newspaper3k) (4.2.6)\n",
            "Collecting jieba3k>=0.35.1\n",
            "  Downloading jieba3k-0.35.1.zip (7.4 MB)\n",
            "\u001b[K     |████████████████████████████████| 7.4 MB 66.9 MB/s \n",
            "\u001b[?25hCollecting cssselect>=0.9.2\n",
            "  Downloading cssselect-1.1.0-py2.py3-none-any.whl (16 kB)\n",
            "Collecting feedfinder2>=0.0.4\n",
            "  Downloading feedfinder2-0.0.4.tar.gz (3.3 kB)\n",
            "Collecting tinysegmenter==0.3\n",
            "  Downloading tinysegmenter-0.3.tar.gz (16 kB)\n",
            "Requirement already satisfied: beautifulsoup4>=4.4.1 in /usr/local/lib/python3.7/dist-packages (from newspaper3k) (4.6.3)\n",
            "Collecting tldextract>=2.0.1\n",
            "  Downloading tldextract-3.2.0-py3-none-any.whl (87 kB)\n",
            "\u001b[K     |████████████████████████████████| 87 kB 6.2 MB/s \n",
            "\u001b[?25hRequirement already satisfied: PyYAML>=3.11 in /usr/local/lib/python3.7/dist-packages (from newspaper3k) (3.13)\n",
            "Requirement already satisfied: six in /usr/local/lib/python3.7/dist-packages (from feedfinder2>=0.0.4->newspaper3k) (1.15.0)\n",
            "Collecting sgmllib3k\n",
            "  Downloading sgmllib3k-1.0.0.tar.gz (5.8 kB)\n",
            "Requirement already satisfied: chardet<4,>=3.0.2 in /usr/local/lib/python3.7/dist-packages (from requests>=2.10.0->newspaper3k) (3.0.4)\n",
            "Requirement already satisfied: urllib3!=1.25.0,!=1.25.1,<1.26,>=1.21.1 in /usr/local/lib/python3.7/dist-packages (from requests>=2.10.0->newspaper3k) (1.24.3)\n",
            "Requirement already satisfied: idna<3,>=2.5 in /usr/local/lib/python3.7/dist-packages (from requests>=2.10.0->newspaper3k) (2.10)\n",
            "Requirement already satisfied: certifi>=2017.4.17 in /usr/local/lib/python3.7/dist-packages (from requests>=2.10.0->newspaper3k) (2021.10.8)\n",
            "Requirement already satisfied: filelock>=3.0.8 in /usr/local/lib/python3.7/dist-packages (from tldextract>=2.0.1->newspaper3k) (3.6.0)\n",
            "Collecting requests-file>=1.4\n",
            "  Downloading requests_file-1.5.1-py2.py3-none-any.whl (3.7 kB)\n",
            "Building wheels for collected packages: tinysegmenter, feedfinder2, jieba3k, sgmllib3k\n",
            "  Building wheel for tinysegmenter (setup.py) ... \u001b[?25l\u001b[?25hdone\n",
            "  Created wheel for tinysegmenter: filename=tinysegmenter-0.3-py3-none-any.whl size=13553 sha256=2007939a320cfba7b0e9686dc51f9d7849a749790ae9ccfa772da845b959a269\n",
            "  Stored in directory: /root/.cache/pip/wheels/df/67/41/faca10fa501ca010be41b49d40360c2959e1c4f09bcbfa37fa\n",
            "  Building wheel for feedfinder2 (setup.py) ... \u001b[?25l\u001b[?25hdone\n",
            "  Created wheel for feedfinder2: filename=feedfinder2-0.0.4-py3-none-any.whl size=3357 sha256=0d91468490d296001ce1195247913a0bb20fbda06f141c8d3565d10955c42fc6\n",
            "  Stored in directory: /root/.cache/pip/wheels/7f/d4/8f/6e2ca54744c9d7292d88ddb8d42876bcdab5e6d84a21c10346\n",
            "  Building wheel for jieba3k (setup.py) ... \u001b[?25l\u001b[?25hdone\n",
            "  Created wheel for jieba3k: filename=jieba3k-0.35.1-py3-none-any.whl size=7398404 sha256=276cd92298952d56451ecabb78218f15e28eb15787afdf4cf257abdd9ca42d06\n",
            "  Stored in directory: /root/.cache/pip/wheels/4c/91/46/3c208287b726df325a5979574324878b679116e4baae1af3c3\n",
            "  Building wheel for sgmllib3k (setup.py) ... \u001b[?25l\u001b[?25hdone\n",
            "  Created wheel for sgmllib3k: filename=sgmllib3k-1.0.0-py3-none-any.whl size=6066 sha256=ea01f5fe63b3518630889728da4d61de7c763b61293bb271a7963cfaeb705348\n",
            "  Stored in directory: /root/.cache/pip/wheels/73/ad/a4/0dff4a6ef231fc0dfa12ffbac2a36cebfdddfe059f50e019aa\n",
            "Successfully built tinysegmenter feedfinder2 jieba3k sgmllib3k\n",
            "Installing collected packages: sgmllib3k, requests-file, tldextract, tinysegmenter, jieba3k, feedparser, feedfinder2, cssselect, newspaper3k\n",
            "Successfully installed cssselect-1.1.0 feedfinder2-0.0.4 feedparser-6.0.8 jieba3k-0.35.1 newspaper3k-0.2.8 requests-file-1.5.1 sgmllib3k-1.0.0 tinysegmenter-0.3 tldextract-3.2.0\n"
          ]
        }
      ]
    },
    {
      "cell_type": "code",
      "source": [
        "# Import library\n",
        "from newspaper import Article\n",
        "import random #membantu dalam membuat list kata agar chattbot yang dibuat tidak monoton dengan respon jawabannya\n",
        "import nltk #untuk tokenisasi (library yang menyediakan corpus yang akan kita pakai dalam membuat chattbot)\n",
        "import string #untuk keperluan data bertype string\n",
        "from sklearn.feature_extraction.text import CountVectorizer #untuk ekstraksi fitur (atau vektorisasi) \n",
        "from sklearn.metrics.pairwise import cosine_similarity\n",
        "import numpy as np #library Python dasar untuk perhitungan matematis dan ilmiah.\n",
        "import warnings #mendeteksi program jika terjadi error\n",
        "warnings.filterwarnings('ignore') #mendeteksi program jika terjadi error"
      ],
      "metadata": {
        "id": "u0-RGvLGGb0T"
      },
      "execution_count": null,
      "outputs": []
    },
    {
      "cell_type": "code",
      "source": [
        "nltk.download('punkt', quiet=True)"
      ],
      "metadata": {
        "colab": {
          "base_uri": "https://localhost:8080/"
        },
        "id": "5-DRiC4uHCbP",
        "outputId": "5392b7ff-5d00-4172-fe46-49fd00d7a5c5"
      },
      "execution_count": null,
      "outputs": [
        {
          "output_type": "execute_result",
          "data": {
            "text/plain": [
              "True"
            ]
          },
          "metadata": {},
          "execution_count": 94
        }
      ]
    },
    {
      "cell_type": "markdown",
      "source": [
        "##Making Corpus"
      ],
      "metadata": {
        "id": "7PnIjNGAFxdN"
      }
    },
    {
      "cell_type": "code",
      "source": [
        "article = Article('https://linisehat.com/kenali-academic-burnout-dan-cara-mengatasinya/')\n",
        "article.download() \n",
        "article.parse() \n",
        "article.nlp()\n",
        "corpus = article.text\n",
        "print(corpus)"
      ],
      "metadata": {
        "colab": {
          "base_uri": "https://localhost:8080/"
        },
        "id": "8-nM-wxYHK0L",
        "outputId": "e9acc4a0-176e-4854-aa77-2dffe1d8f020"
      },
      "execution_count": null,
      "outputs": [
        {
          "output_type": "stream",
          "name": "stdout",
          "text": [
            "Burnout merupakan bentuk reaksi terhadap stres yang ngga bisa ditangani. Stres dapat berasosiasi dengan pekerjaan, akademik, keluarga, atletik dan krisis global, seperti pandemik Covid-19. Setiap pelajar hampir dipastikan pernah mengalami academic burnout. Mulai dari sekolah, guru, orang tua, hingga sahabat bisa menjadi alasan langsung ataupun ngga langsung pemicu academic burnout. Pernahkah kamu merasa sangat lelah terhadap kehidupan akademik?\n",
            "\n",
            "Definisi dan Penyebab Academic Burnout\n",
            "\n",
            "Academic burnout didefinisikan sebagai reaksi negatif secara emosional, fisik dan mental terhadap pembelajaran sebagai dampak dari kelelahan, frustasi, serta berkurangnya motivasi dan kemampuan belajar. Ini bisa dikarenakan adanya tekanan akademik, ekspektasi, tuntutan dan persyaratan terkait pendidikan.\n",
            "\n",
            "Academic burnout disebabkan berbagai hal, diantaranya waktu belajar sangat lama, membandingkan kesuksesan akademik dengan sejawat, terlalu banyak kursus atau matakuliah, maupun penurunan nilai tak terduga. Seringkali memprioritaskan kesuksesan akademik di atas segalanya membawa risiko pada kesehatan emosi dan fisik. Kondisi ini bisa berlangsung jangka panjang, semakin lama dibiarkan maka semakin sulit untuk keluar dari situasi ini dan bisanya berisiko membawa berbagai dampak negatif.\n",
            "\n",
            "Gejala Academic Burnout\n",
            "\n",
            "Academic burnout dikenal juga sebagai ‘study burnout’ yang bisanya ditandai dengan depresi, kelelahan, nilai menurun, perasaan frustasi, perubahan emosi ekstrim, perasaan hopeless, motivasi menurun, berkurangnya perhatian detail, menurunnya tingkat imunitas, hingga penyalahngunaan obat penenang.\n",
            "\n",
            "Indikasi academic burnout adalah kurangnya ketertarikan pada isu-isu akademik, menjauhi kegiatan kelas, merasa kegiatan akademik ngga berarti, dan ketidakmampuan untuk memahami isu akademik.\n",
            "\n",
            "Efek Negatif Academic Burnout\n",
            "\n",
            "Academic burnout diasosiasikan dengan penurunan capaian akademik dan motivasi belajar serta membawa efek negatif pada lingkungan pergaulan dan kondisi pribadi. kondisi ini juga erat kaitannya dengan efikasi diri (kepercayaan terhadap diri sendiri dapat sukses). Ketika burnout, efikasi diri cenderung menurun, penurunan kepercayaan diri, kelelahan emosional, dan penurunan prestasi. Penurunan efikasi diri menjadikan seseorang pesimis dan apatis terhadap dunia akademik, menurunkan motivasi belajar dan academic engagement, serta berakibat pada terisolir dari lingkungan pertemanannya.\n",
            "\n",
            "Dilansir dari vidrecruiter.com berikut beberapa langkah untuk mematahkan siklus academic burnout:\n",
            "\n",
            "Break di tengah waktu belajar\n",
            "\n",
            "Istirahat sejenak untuk membuat fisik dan pikiran lebih rileks. Cara ini bisa membantu membuat pikiran kamu lebih bertenaga sehingga meningkatkan fokus. Tidur adalah langkap terbaik, cara lain dengan istirahat 15-20 menit setelah belajar 1 jam. Kamu bisa mencoba teknik Podomoro untuk meningkatkan produktivitas dan mengefisienkan waktu istirahat.\n",
            "\n",
            "Sosialiasi dengan teman dan keluarga\n",
            "\n",
            "Bersosialisasi memberikan tenaga dan meningkatkan mood. Berkumpul dengan sahabat atau keluarga dapat menjadi pilihan yang tepat. Bagi orang dengan karakter introvert, mungkin bersosialisasi akan menguras tenaga. Coba gunakan waktu untuk re-charge lewat me time.\n",
            "\n",
            "Berolahraga\n",
            "\n",
            "Berolahraga ngga hanya baik bagi kesehatan tubuh, tapi juga meningkatkan mood. salah satunya dengan melakukan aerobik yang bisa memicu sekresi hormon endorfin. yang berperan dalam meningkatkan rasa senang.\n",
            "\n",
            "Tidur cukup\n",
            "\n",
            "Tidur cukup sangat berperngaruh pada kesehatan dan juga cara yang dapat ditempuh untuk menekan academic burnout. Tidur cukup akan meingkatkan mood, memperkuat jantung, meningkatkan fokus dan produktivitas, serta meningkatkan ingatan. Seperti yang diketahui bahwa academic burnout juga ditandai kesulitan tidur, jadi dengan mendapatkan tidur cukup maka dapat membalikkan efek.\n",
            "\n",
            "Kehidupan akademik terkadang sangat menekan, dan bila mengalami academic burnout ngga perlu merasa malu ya, Sahabat Sehat.\n",
            "\n",
            "Editor & Proofreader: Zafira Raharjanti, STP\n"
          ]
        }
      ]
    },
    {
      "cell_type": "markdown",
      "source": [
        "##Tokenization"
      ],
      "metadata": {
        "id": "0dhCDq4JF4Ed"
      }
    },
    {
      "cell_type": "code",
      "source": [
        "# Tokenization\n",
        "text = corpus\n",
        "sentence_list = nltk.sent_tokenize(text) \n",
        "\n",
        "# Print the list of sentences\n",
        "print(sentence_list)\n"
      ],
      "metadata": {
        "colab": {
          "base_uri": "https://localhost:8080/"
        },
        "id": "8zRNAsiUF6w7",
        "outputId": "0ca29842-851d-48aa-9d39-a6e413a95f4a"
      },
      "execution_count": null,
      "outputs": [
        {
          "output_type": "stream",
          "name": "stdout",
          "text": [
            "['Burnout merupakan bentuk reaksi terhadap stres yang ngga bisa ditangani.', 'Stres dapat berasosiasi dengan pekerjaan, akademik, keluarga, atletik dan krisis global, seperti pandemik Covid-19.', 'Setiap pelajar hampir dipastikan pernah mengalami academic burnout.', 'Mulai dari sekolah, guru, orang tua, hingga sahabat bisa menjadi alasan langsung ataupun ngga langsung pemicu academic burnout.', 'Pernahkah kamu merasa sangat lelah terhadap kehidupan akademik?', 'Definisi dan Penyebab Academic Burnout\\n\\nAcademic burnout didefinisikan sebagai reaksi negatif secara emosional, fisik dan mental terhadap pembelajaran sebagai dampak dari kelelahan, frustasi, serta berkurangnya motivasi dan kemampuan belajar.', 'Ini bisa dikarenakan adanya tekanan akademik, ekspektasi, tuntutan dan persyaratan terkait pendidikan.', 'Academic burnout disebabkan berbagai hal, diantaranya waktu belajar sangat lama, membandingkan kesuksesan akademik dengan sejawat, terlalu banyak kursus atau matakuliah, maupun penurunan nilai tak terduga.', 'Seringkali memprioritaskan kesuksesan akademik di atas segalanya membawa risiko pada kesehatan emosi dan fisik.', 'Kondisi ini bisa berlangsung jangka panjang, semakin lama dibiarkan maka semakin sulit untuk keluar dari situasi ini dan bisanya berisiko membawa berbagai dampak negatif.', 'Gejala Academic Burnout\\n\\nAcademic burnout dikenal juga sebagai ‘study burnout’ yang bisanya ditandai dengan depresi, kelelahan, nilai menurun, perasaan frustasi, perubahan emosi ekstrim, perasaan hopeless, motivasi menurun, berkurangnya perhatian detail, menurunnya tingkat imunitas, hingga penyalahngunaan obat penenang.', 'Indikasi academic burnout adalah kurangnya ketertarikan pada isu-isu akademik, menjauhi kegiatan kelas, merasa kegiatan akademik ngga berarti, dan ketidakmampuan untuk memahami isu akademik.', 'Efek Negatif Academic Burnout\\n\\nAcademic burnout diasosiasikan dengan penurunan capaian akademik dan motivasi belajar serta membawa efek negatif pada lingkungan pergaulan dan kondisi pribadi.', 'kondisi ini juga erat kaitannya dengan efikasi diri (kepercayaan terhadap diri sendiri dapat sukses).', 'Ketika burnout, efikasi diri cenderung menurun, penurunan kepercayaan diri, kelelahan emosional, dan penurunan prestasi.', 'Penurunan efikasi diri menjadikan seseorang pesimis dan apatis terhadap dunia akademik, menurunkan motivasi belajar dan academic engagement, serta berakibat pada terisolir dari lingkungan pertemanannya.', 'Dilansir dari vidrecruiter.com berikut beberapa langkah untuk mematahkan siklus academic burnout:\\n\\nBreak di tengah waktu belajar\\n\\nIstirahat sejenak untuk membuat fisik dan pikiran lebih rileks.', 'Cara ini bisa membantu membuat pikiran kamu lebih bertenaga sehingga meningkatkan fokus.', 'Tidur adalah langkap terbaik, cara lain dengan istirahat 15-20 menit setelah belajar 1 jam.', 'Kamu bisa mencoba teknik Podomoro untuk meningkatkan produktivitas dan mengefisienkan waktu istirahat.', 'Sosialiasi dengan teman dan keluarga\\n\\nBersosialisasi memberikan tenaga dan meningkatkan mood.', 'Berkumpul dengan sahabat atau keluarga dapat menjadi pilihan yang tepat.', 'Bagi orang dengan karakter introvert, mungkin bersosialisasi akan menguras tenaga.', 'Coba gunakan waktu untuk re-charge lewat me time.', 'Berolahraga\\n\\nBerolahraga ngga hanya baik bagi kesehatan tubuh, tapi juga meningkatkan mood.', 'salah satunya dengan melakukan aerobik yang bisa memicu sekresi hormon endorfin.', 'yang berperan dalam meningkatkan rasa senang.', 'Tidur cukup\\n\\nTidur cukup sangat berperngaruh pada kesehatan dan juga cara yang dapat ditempuh untuk menekan academic burnout.', 'Tidur cukup akan meingkatkan mood, memperkuat jantung, meningkatkan fokus dan produktivitas, serta meningkatkan ingatan.', 'Seperti yang diketahui bahwa academic burnout juga ditandai kesulitan tidur, jadi dengan mendapatkan tidur cukup maka dapat membalikkan efek.', 'Kehidupan akademik terkadang sangat menekan, dan bila mengalami academic burnout ngga perlu merasa malu ya, Sahabat Sehat.', 'Editor & Proofreader: Zafira Raharjanti, STP']\n"
          ]
        }
      ]
    },
    {
      "cell_type": "markdown",
      "source": [
        "##Bot Response"
      ],
      "metadata": {
        "id": "pNkFWV5RF7L7"
      }
    },
    {
      "cell_type": "code",
      "source": [
        "def greeting_response(text):\n",
        "    text = text.lower()\n",
        "\n",
        "    #Users greeting\n",
        "    user_greetings = ['hi','hey','hello','yo','p']\n",
        "    \n",
        "    #Bots greeting respone\n",
        "    bot_greetings = ['hello','hey','hi','hola','ya?']\n",
        "    \n",
        "    for word in text.split():    \n",
        "        if word in user_greetings:\n",
        "            return random.choice(bot_greetings)\n",
        "   "
      ],
      "metadata": {
        "id": "TEA6GnkFF9mr"
      },
      "execution_count": null,
      "outputs": []
    },
    {
      "cell_type": "code",
      "source": [
        "#Sorting List\n",
        "def index_sort(list_var):\n",
        "  length = len(list_var)\n",
        "  list_index = list(range(0, length))\n",
        "  \n",
        "  x = list_var        \n",
        "  for i in range(length):\n",
        "      for j in range(length):\n",
        "          if x[list_index[i]] > x[list_index[j]]:\n",
        "              #swap\n",
        "              temp = list_index[i]\n",
        "              list_index[i] = list_index[j]\n",
        "              list_index[j] = temp\n",
        "              \n",
        "  return list_index"
      ],
      "metadata": {
        "id": "YReqFqcPNteH"
      },
      "execution_count": null,
      "outputs": []
    },
    {
      "cell_type": "code",
      "source": [
        "#Cosine Similarity\n",
        "# Creat Bots Response\n",
        "def bot_response(user_input):\n",
        "    user_input=user_input.lower() #mengambil input user diubah menjadi huruf kecil semua\n",
        "    sentence_list.append(user_input) #proses menambahkan input user kedalam corpus kalimat artikel\n",
        "    bot_response= ''\n",
        "    cm=CountVectorizer().fit_transform(sentence_list) #mengubah teks ke bentuk vector\n",
        "    similarity_scores=cosine_similarity(cm[-1],cm) #Membandingkan kedekatan kalimat antara input dan sentence list\n",
        "    similarity_scores_list=similarity_scores.flatten() #mengubah vector cosim menjadi total nilai similarity \n",
        "    index=index_sort(similarity_scores_list) #pakai fungsi index sort untuk mengurutkan index terbesar ke terkecil\n",
        "    index=index[1:] #mengambil data dengan nilai cosim terbesar\n",
        "    response_flag=0\n",
        "    \n",
        "    j=0\n",
        "    for i in range(len(index)): #ngecheck jika kalimat di dalam index lebih dari 0 maka memiliki kesamaan dengan corpus sentence list, dan menentukan bot responnya\n",
        "        if similarity_scores_list[index[i]]>0.0:\n",
        "            bot_response=bot_response+' '+sentence_list[index[i]]\n",
        "            response_flag=1\n",
        "            j=j+1\n",
        "        if j>2:\n",
        "            break\n",
        "\n",
        "        if response_flag==0:\n",
        "            bot_response=bot_response+\" \"+\"Maaf, saya tidak mengerti.\"\n",
        "\n",
        "        sentence_list.remove(user_input) \n",
        "\n",
        "        return bot_response"
      ],
      "metadata": {
        "id": "NCDUK72MNwoj"
      },
      "execution_count": null,
      "outputs": []
    },
    {
      "cell_type": "markdown",
      "source": [
        "##End Process, Making Chatbot"
      ],
      "metadata": {
        "id": "QkzCZKLzF91r"
      }
    },
    {
      "cell_type": "code",
      "source": [
        "#Start Chat\n",
        "#DiCHiSA = Diana + Chika + Halomoan + Sukma + Athiya\n",
        "print(\"\"\"AI ChatBot: Halo! Perkenalkan aku DiCHiSA. Aku akan menjawab semua pertanyaanmu seputar Burnout Akademik.\n",
        "Jika kamu ingin mengakhiri chat, silahkan ketikkan 'selesai'.\"\"\")\n",
        "\n",
        "exit_list=['selesai','akhiri','sampai jumpa','keluar','see ya!','dadah']\n",
        "\n",
        "while(True):\n",
        "    user_input=input()\n",
        "    if user_input.lower() in exit_list:\n",
        "        print('AI ChatBot: Terima kasih dan sampai jumpa!^^')\n",
        "        break\n",
        "    else:\n",
        "        if greeting_response(user_input)!= None:\n",
        "            print('AI ChatBot: '+ greeting_response(user_input))\n",
        "        else:\n",
        "            print('AI ChatBot: '+ bot_response(user_input))"
      ],
      "metadata": {
        "colab": {
          "base_uri": "https://localhost:8080/"
        },
        "id": "cMONVwYvGESs",
        "outputId": "8d1d6960-5cd0-441e-cca7-82c90862e9f6"
      },
      "execution_count": null,
      "outputs": [
        {
          "output_type": "stream",
          "name": "stdout",
          "text": [
            "AI ChatBot: Halo! Perkenalkan aku DiCHiSA. Aku akan menjawab semua pertanyaanmu seputar Burnout Akademik.\n",
            "Jika kamu ingin mengakhiri chat, silahkan ketikkan 'selesai'.\n",
            "burnout\n",
            "AI ChatBot:  Gejala Academic Burnout\n",
            "\n",
            "Academic burnout dikenal juga sebagai ‘study burnout’ yang bisanya ditandai dengan depresi, kelelahan, nilai menurun, perasaan frustasi, perubahan emosi ekstrim, perasaan hopeless, motivasi menurun, berkurangnya perhatian detail, menurunnya tingkat imunitas, hingga penyalahngunaan obat penenang.\n",
            "cara mengatasi\n",
            "AI ChatBot:  Cara ini bisa membantu membuat pikiran kamu lebih bertenaga sehingga meningkatkan fokus.\n",
            "dadah\n",
            "AI ChatBot: Terima kasih dan sampai jumpa!^^\n"
          ]
        }
      ]
    },
    {
      "cell_type": "markdown",
      "source": [
        "#Implementasi - AI ChatBot (Bahasa Inggris)"
      ],
      "metadata": {
        "id": "xT6jmuyvYxvr"
      }
    },
    {
      "cell_type": "markdown",
      "source": [
        "##Making Corpus"
      ],
      "metadata": {
        "id": "fcDkx-3nY22p"
      }
    },
    {
      "cell_type": "code",
      "source": [
        "article = Article('https://www.nature.com/articles/d41586-021-00663-2')\n",
        "article.download() \n",
        "article.parse() \n",
        "article.nlp()\n",
        "corpus = article.text\n",
        "print(corpus)"
      ],
      "metadata": {
        "colab": {
          "base_uri": "https://localhost:8080/"
        },
        "id": "0hyQ7r3LZGHh",
        "outputId": "27042903-3a23-4e79-b628-df7e39639d49"
      },
      "execution_count": null,
      "outputs": [
        {
          "output_type": "stream",
          "name": "stdout",
          "text": [
            "Credit: Alamy\n",
            "\n",
            "A year into the coronavirus pandemic, many in the academic scientific workforce are experiencing a state of chronic exhaustion known as burnout. Although it is not a medical condition and can occur in any workplace where there is stress, burnout is recognized by the World Health Organization as a syndrome. Its symptoms are physical and emotional, and include feelings of energy depletion or exhaustion; increased mental distance from and feelings of negativity or cynicism towards one’s job; and a reduced ability to do one’s work.\n",
            "\n",
            "At its core, burnout is caused by work that demands continuous, long-term physical, cognitive or emotional effort.\n",
            "\n",
            "Indicators of the syndrome have risen sharply in some higher-education institutions over the past year, according to surveys in the United States and Europe. In a poll of 1,122 US faculty members that focused on the effects of the pandemic, almost 70% of respondents said they felt stressed in 2020, more than double the number in 2019 (32%). The survey, conducted last October by The Chronicle of Higher Education and financial-services firm Fidelity Investments in Boston, Massachusetts, also found that more than two-thirds of respondents felt fatigued, compared with less than one-third in 2019. During 2020, 35% felt angry, whereas just 12% said that in 2019. The results were released last month.\n",
            "\n",
            "More than half of people surveyed said they were seriously considering changing their career or retiring early. Emotional and other effects of pandemic-related burnout were worse for female faculty members: 75% of women reported feeling stressed, compared with 59% of men. By contrast, in 2019, that number was 34% for female respondents. Around eight out of ten women also indicated that their workload had increased as a result of the pandemic, compared with seven out of ten men. Almost three-quarters of female faculty members reported that their work–life balance deteriorated in 2020, compared with just less than two-thirds of male respondents.\n",
            "\n",
            "A similar survey in Europe offers an equally grim snapshot, showing a drastic increase in the rates of stress and mental-health concerns in the academic scientific workforce. Ominously, the pandemic’s toll now also includes rampant career uncertainty.\n",
            "\n",
            "As universities struggle with the economic fallout of repeated closures, burnout among academic researchers will probably continue for some time amid lay-offs or hiring freezes, say higher-education researchers. There are no quick or easy solutions to burnout, especially with no end in sight to its underlying structural causes; academic scientists are often largely left to muddle through as best they can (see ‘Managing burnout’).\n",
            "\n",
            "Managing burnout Academic researchers who are experiencing symptoms of burnout in connection with the pandemic can take some steps to help themselves feel better. Here are suggestions for mitigating distress. Don’t internalize burnout as failure. Burnout is a consequence of a system that expects people to work long hours and sacrifice their personal lives. That same system often sends the message that a 40-hour working week is not enough, says clinical psychologist Desiree Dickerson, who works as an academic mental-health consultant in Valencia, Spain. Too often, Dickerson says, academics internalize burnout as failure. “That’s inaccurate and harmful,” she says. In addition to focusing on the pillars of mental health — sleep, good nutrition, exercise, socializing in a safe way — Dickerson encourages academics to find a forum through which they can express the grief, loss, uncertainty, worry and fear that so many are feeling. “[Academia] is an ultra marathon, not a sprint. You have to pace yourself,” she says. Create ways to detach from stress. The key to effective recovery periods is doing activities that give you a sense of detachment — reading fiction, cooking or going for a run, says Rajvinder Samra, senior lecturer in health at the Open University in Milton Keynes, UK. “If you are using social media to talk to friends or family and it brings up stressful things, that isn’t detachment,” she notes. Prioritize and normalize conversations about mental health. The pandemic has made conversations around mental health the norm. “Maintaining our mental health and engaging in self-care should be a priority in a way that we haven’t fully recognized in the past,” says Lisa Jaremka, director of the Close Relationships and Health Lab at the University of Delaware in Newark. “Two or three times a semester, I talk to students about taking time off, and encourage them to do so,” she says. “I’ve openly shared that I’ve been to a therapist many times in my life, and how to utilize mental-health resources if they need to.” Fight the isolation. Bioinformatician Emma Bell — who identifies as a person from a gender minority, a person of colour, queer, an immigrant and a first-generation academic — has been grappling with pandemic-related burnout during their postdoc at the Princess Margaret Cancer Centre in Toronto, Canada. When the pandemic took hold in Canada in March 2020, Bell had lived in Toronto for just a year, and had lost important sources of support, including a bioinformatics club for women and members of marginalized gender identities that faltered in a digital setting. Bell set up a weekly meeting with another postdoc in the group to provide structure and peer support, and to lift moods. But Bell says that they tackled stress and uncertainty best by getting a new puppy. “I’ve made a point of having animals in my apartment to fight isolation,” Bell says. “We need to be kind to ourselves right now.”\n",
            "\n",
            "Mid-career minefield\n",
            "\n",
            "A European poll of academic journal and book authors by De Gruyter, a scholarly publishing house in Berlin, found that mid-career researchers, particularly women, have been hit the hardest by work-related stress. According to its December 2020 report, Locked Down, Burned Out: “For many academics the pandemic has [been], and continues to be, a time of great stress, insecurity and pressure.”\n",
            "\n",
            "Researchers have got busier as the pandemic continues, says Deirdre Watchorn, senior manager of De Gruyter’s insights and analysis team. The publisher conducted two surveys: one last May, involving 3,214 respondents from 103 countries, and another last October, in which 1,100 people responded from 78 countries. “One of the biggest shifts was how many hours people were working day to day,” says Watchorn: most people’s hours increased, largely caused by the global transition to digital learning. The need for academics to conduct teaching online can roughly triple the preparation time for a one-hour lecture, says Liz Morrish, who researches higher-education policy as a visiting fellow at York St John University in York, UK. That leaves less time for research.\n",
            "\n",
            "In addition to online teaching demands, Watchorn says, survey respondents identified two other impediments to conducting academic research as normal: disrupted professional networks and working from home, often while caring for children. Academic researchers feel that their careers are on hold, and long-term collaborations are suffering as a result of the network disruptions and the inability to work together in person. “We saw the reported usage of Twitter increase as a result of the pandemic, and people trying to find collaborators,” Watchorn says.\n",
            "\n",
            "Pile-up effect\n",
            "\n",
            "Thomas Kannampallil, who studies clinical decision-making at the Washington University School of Medicine in St Louis, Missouri, conducted three surveys of physician trainees in mid-2020 to determine whether burnout was exacerbated by their exposure to people who had been hospitalized with COVID-19. In the first survey, involving 393 trainees working in two US hospitals in April last year, he and his colleagues found that those who were involved in front-line medical responses to the pandemic experienced more stress and burnout than did those not caring for people with COVID-19 (T. Kannampallil et al. PLoS ONE 15, e0237301; 2020).\n",
            "\n",
            "Kannampallil says that greater job-related stressors affect one’s ability to dissociate from work, resulting in a lower likelihood of engaging in activities such as exercise, sleep and self-care that help with recovery. The heavier workload, along with less ability to recover, produces a vicious cycle, Kannampallil says. “You are emotionally exhausted yet disconnected, which creates an inability to recover and leads to a ‘pile-up effect’,” he says.\n",
            "\n",
            "An inherent problem\n",
            "\n",
            "Even before the pandemic, many researchers in academia were struggling with poor mental health. Desiree Dickerson, an academic mental-health consultant in Valencia, Spain, says that burnout is a problem inherent in the academic system: because of how narrowly it defines excellence, and how it categorizes and rewards success. “We need to reward and value the right things,” she says.\n",
            "\n",
            "Mental-health consultant Desiree Dickerson says that burnout is inherent in the academic system.Credit: Vicent Botella Soler\n",
            "\n",
            "Lisa Jaremka, director of the Close Relationships and Health Lab at the University of Delaware in Newark, says that pressures leading to burnout are institutional and that academic structures must change. Those in power, including university administrators, members of hiring committees and department chairs, need to change expectations and set new ones, Jaremka says.\n",
            "\n",
            "Yet evidence of empathetic leadership at the institutional level is in short supply, says Richard Watermeyer, a higher-education researcher at the University of Bristol, UK, who has been conducting surveys to monitor impacts of the pandemic on academia. Performative advice from employers to look after oneself or to leave one day a week free of meetings to catch up on work is pretty superficial, he says. Such counsel does not reduce work allocation, he points out.\n",
            "\n",
            "The pandemic has exacerbated the existing inequalities in academia, says Mangala Srinivas, a clinical-imaging scientist who is outgoing chair of the Young Academy of Europe, an advocacy and networking group of leading young scientists and scholars. Dickerson expects a disproportionate increase in burnout in academic researchers from marginalized groups — among them, women, international students, carers and people from sexual and gender minorities (LGBT+) — alongside the increases in anxiety and depression already seen in those scientists. Rajvinder Samra, a senior lecturer in health at the Open University in Milton Keynes, UK, recommends that members of marginalized groups forge connections with those who might have similar vulnerabilities. This might help individuals to create a sense of belonging and to build confidence when raising concerns with people in senior positions.\n",
            "\n",
            "And although many funders have granted extensions to help ease deadline pressures, often there is no extra money, Srinivas adds. On the upside, however, the pandemic has brought a greater institutional acceptance of flexible working hours and provided more opportunities to write or spend time with family, she says.\n",
            "\n",
            "Morrish is not optimistic that workloads will ease any time soon. “Every university will be under financial stringency, which means fewer faculty members and more workload,” she says. Redundancies have been under way since last year in many institutions, including a reported 17,000 job cuts in Australia, alongside lay-offs in the United States, Canada and the United Kingdom.\n",
            "\n",
            "For academic researchers who have the benefit of union representation in their institutions, Morrish recommends joining a union and participating in meetings. For other scientists, she says, it is important to review contracts. “Be vigilant, know your contract, and make sure the institution doesn’t ride roughshod over you.” Samra advises that academic scientists update their CVs with new skill sets they’ve had to learn as a consequence of pandemic-related changes. “Acknowledge and get credit for the skills you are developing,” she says — it could lead to enhanced job prospects in the future.\n",
            "\n",
            "Watermeyer thinks that early-career researchers, in particular, need to make clear decisions now about their future career prospects in academia. “Precarity”, he warns, “is bound to increase.”\n"
          ]
        }
      ]
    },
    {
      "cell_type": "markdown",
      "source": [
        "##Tokenization"
      ],
      "metadata": {
        "id": "PytrOSj-Y5oh"
      }
    },
    {
      "cell_type": "code",
      "source": [
        "# Tokenization\n",
        "text = corpus\n",
        "sentence_list = nltk.sent_tokenize(text) \n",
        "\n",
        "# Print the list of sentences\n",
        "print(sentence_list)\n"
      ],
      "metadata": {
        "colab": {
          "base_uri": "https://localhost:8080/"
        },
        "id": "ZJWg2FBjbELp",
        "outputId": "94875faf-d5f9-482a-af4a-03b2ff44a038"
      },
      "execution_count": null,
      "outputs": [
        {
          "output_type": "stream",
          "name": "stdout",
          "text": [
            "['Credit: Alamy\\n\\nA year into the coronavirus pandemic, many in the academic scientific workforce are experiencing a state of chronic exhaustion known as burnout.', 'Although it is not a medical condition and can occur in any workplace where there is stress, burnout is recognized by the World Health Organization as a syndrome.', 'Its symptoms are physical and emotional, and include feelings of energy depletion or exhaustion; increased mental distance from and feelings of negativity or cynicism towards one’s job; and a reduced ability to do one’s work.', 'At its core, burnout is caused by work that demands continuous, long-term physical, cognitive or emotional effort.', 'Indicators of the syndrome have risen sharply in some higher-education institutions over the past year, according to surveys in the United States and Europe.', 'In a poll of 1,122 US faculty members that focused on the effects of the pandemic, almost 70% of respondents said they felt stressed in 2020, more than double the number in 2019 (32%).', 'The survey, conducted last October by The Chronicle of Higher Education and financial-services firm Fidelity Investments in Boston, Massachusetts, also found that more than two-thirds of respondents felt fatigued, compared with less than one-third in 2019.', 'During 2020, 35% felt angry, whereas just 12% said that in 2019.', 'The results were released last month.', 'More than half of people surveyed said they were seriously considering changing their career or retiring early.', 'Emotional and other effects of pandemic-related burnout were worse for female faculty members: 75% of women reported feeling stressed, compared with 59% of men.', 'By contrast, in 2019, that number was 34% for female respondents.', 'Around eight out of ten women also indicated that their workload had increased as a result of the pandemic, compared with seven out of ten men.', 'Almost three-quarters of female faculty members reported that their work–life balance deteriorated in 2020, compared with just less than two-thirds of male respondents.', 'A similar survey in Europe offers an equally grim snapshot, showing a drastic increase in the rates of stress and mental-health concerns in the academic scientific workforce.', 'Ominously, the pandemic’s toll now also includes rampant career uncertainty.', 'As universities struggle with the economic fallout of repeated closures, burnout among academic researchers will probably continue for some time amid lay-offs or hiring freezes, say higher-education researchers.', 'There are no quick or easy solutions to burnout, especially with no end in sight to its underlying structural causes; academic scientists are often largely left to muddle through as best they can (see ‘Managing burnout’).', 'Managing burnout Academic researchers who are experiencing symptoms of burnout in connection with the pandemic can take some steps to help themselves feel better.', 'Here are suggestions for mitigating distress.', 'Don’t internalize burnout as failure.', 'Burnout is a consequence of a system that expects people to work long hours and sacrifice their personal lives.', 'That same system often sends the message that a 40-hour working week is not enough, says clinical psychologist Desiree Dickerson, who works as an academic mental-health consultant in Valencia, Spain.', 'Too often, Dickerson says, academics internalize burnout as failure.', '“That’s inaccurate and harmful,” she says.', 'In addition to focusing on the pillars of mental health — sleep, good nutrition, exercise, socializing in a safe way — Dickerson encourages academics to find a forum through which they can express the grief, loss, uncertainty, worry and fear that so many are feeling.', '“[Academia] is an ultra marathon, not a sprint.', 'You have to pace yourself,” she says.', 'Create ways to detach from stress.', 'The key to effective recovery periods is doing activities that give you a sense of detachment — reading fiction, cooking or going for a run, says Rajvinder Samra, senior lecturer in health at the Open University in Milton Keynes, UK.', '“If you are using social media to talk to friends or family and it brings up stressful things, that isn’t detachment,” she notes.', 'Prioritize and normalize conversations about mental health.', 'The pandemic has made conversations around mental health the norm.', '“Maintaining our mental health and engaging in self-care should be a priority in a way that we haven’t fully recognized in the past,” says Lisa Jaremka, director of the Close Relationships and Health Lab at the University of Delaware in Newark.', '“Two or three times a semester, I talk to students about taking time off, and encourage them to do so,” she says.', '“I’ve openly shared that I’ve been to a therapist many times in my life, and how to utilize mental-health resources if they need to.” Fight the isolation.', 'Bioinformatician Emma Bell — who identifies as a person from a gender minority, a person of colour, queer, an immigrant and a first-generation academic — has been grappling with pandemic-related burnout during their postdoc at the Princess Margaret Cancer Centre in Toronto, Canada.', 'When the pandemic took hold in Canada in March 2020, Bell had lived in Toronto for just a year, and had lost important sources of support, including a bioinformatics club for women and members of marginalized gender identities that faltered in a digital setting.', 'Bell set up a weekly meeting with another postdoc in the group to provide structure and peer support, and to lift moods.', 'But Bell says that they tackled stress and uncertainty best by getting a new puppy.', '“I’ve made a point of having animals in my apartment to fight isolation,” Bell says.', '“We need to be kind to ourselves right now.”\\n\\nMid-career minefield\\n\\nA European poll of academic journal and book authors by De Gruyter, a scholarly publishing house in Berlin, found that mid-career researchers, particularly women, have been hit the hardest by work-related stress.', 'According to its December 2020 report, Locked Down, Burned Out: “For many academics the pandemic has [been], and continues to be, a time of great stress, insecurity and pressure.”\\n\\nResearchers have got busier as the pandemic continues, says Deirdre Watchorn, senior manager of De Gruyter’s insights and analysis team.', 'The publisher conducted two surveys: one last May, involving 3,214 respondents from 103 countries, and another last October, in which 1,100 people responded from 78 countries.', '“One of the biggest shifts was how many hours people were working day to day,” says Watchorn: most people’s hours increased, largely caused by the global transition to digital learning.', 'The need for academics to conduct teaching online can roughly triple the preparation time for a one-hour lecture, says Liz Morrish, who researches higher-education policy as a visiting fellow at York St John University in York, UK.', 'That leaves less time for research.', 'In addition to online teaching demands, Watchorn says, survey respondents identified two other impediments to conducting academic research as normal: disrupted professional networks and working from home, often while caring for children.', 'Academic researchers feel that their careers are on hold, and long-term collaborations are suffering as a result of the network disruptions and the inability to work together in person.', '“We saw the reported usage of Twitter increase as a result of the pandemic, and people trying to find collaborators,” Watchorn says.', 'Pile-up effect\\n\\nThomas Kannampallil, who studies clinical decision-making at the Washington University School of Medicine in St Louis, Missouri, conducted three surveys of physician trainees in mid-2020 to determine whether burnout was exacerbated by their exposure to people who had been hospitalized with COVID-19.', 'In the first survey, involving 393 trainees working in two US hospitals in April last year, he and his colleagues found that those who were involved in front-line medical responses to the pandemic experienced more stress and burnout than did those not caring for people with COVID-19 (T. Kannampallil et al.', 'PLoS ONE 15, e0237301; 2020).', 'Kannampallil says that greater job-related stressors affect one’s ability to dissociate from work, resulting in a lower likelihood of engaging in activities such as exercise, sleep and self-care that help with recovery.', 'The heavier workload, along with less ability to recover, produces a vicious cycle, Kannampallil says.', '“You are emotionally exhausted yet disconnected, which creates an inability to recover and leads to a ‘pile-up effect’,” he says.', 'An inherent problem\\n\\nEven before the pandemic, many researchers in academia were struggling with poor mental health.', 'Desiree Dickerson, an academic mental-health consultant in Valencia, Spain, says that burnout is a problem inherent in the academic system: because of how narrowly it defines excellence, and how it categorizes and rewards success.', '“We need to reward and value the right things,” she says.', 'Mental-health consultant Desiree Dickerson says that burnout is inherent in the academic system.Credit: Vicent Botella Soler\\n\\nLisa Jaremka, director of the Close Relationships and Health Lab at the University of Delaware in Newark, says that pressures leading to burnout are institutional and that academic structures must change.', 'Those in power, including university administrators, members of hiring committees and department chairs, need to change expectations and set new ones, Jaremka says.', 'Yet evidence of empathetic leadership at the institutional level is in short supply, says Richard Watermeyer, a higher-education researcher at the University of Bristol, UK, who has been conducting surveys to monitor impacts of the pandemic on academia.', 'Performative advice from employers to look after oneself or to leave one day a week free of meetings to catch up on work is pretty superficial, he says.', 'Such counsel does not reduce work allocation, he points out.', 'The pandemic has exacerbated the existing inequalities in academia, says Mangala Srinivas, a clinical-imaging scientist who is outgoing chair of the Young Academy of Europe, an advocacy and networking group of leading young scientists and scholars.', 'Dickerson expects a disproportionate increase in burnout in academic researchers from marginalized groups — among them, women, international students, carers and people from sexual and gender minorities (LGBT+) — alongside the increases in anxiety and depression already seen in those scientists.', 'Rajvinder Samra, a senior lecturer in health at the Open University in Milton Keynes, UK, recommends that members of marginalized groups forge connections with those who might have similar vulnerabilities.', 'This might help individuals to create a sense of belonging and to build confidence when raising concerns with people in senior positions.', 'And although many funders have granted extensions to help ease deadline pressures, often there is no extra money, Srinivas adds.', 'On the upside, however, the pandemic has brought a greater institutional acceptance of flexible working hours and provided more opportunities to write or spend time with family, she says.', 'Morrish is not optimistic that workloads will ease any time soon.', '“Every university will be under financial stringency, which means fewer faculty members and more workload,” she says.', 'Redundancies have been under way since last year in many institutions, including a reported 17,000 job cuts in Australia, alongside lay-offs in the United States, Canada and the United Kingdom.', 'For academic researchers who have the benefit of union representation in their institutions, Morrish recommends joining a union and participating in meetings.', 'For other scientists, she says, it is important to review contracts.', '“Be vigilant, know your contract, and make sure the institution doesn’t ride roughshod over you.” Samra advises that academic scientists update their CVs with new skill sets they’ve had to learn as a consequence of pandemic-related changes.', '“Acknowledge and get credit for the skills you are developing,” she says — it could lead to enhanced job prospects in the future.', 'Watermeyer thinks that early-career researchers, in particular, need to make clear decisions now about their future career prospects in academia.', '“Precarity”, he warns, “is bound to increase.”']\n"
          ]
        }
      ]
    },
    {
      "cell_type": "markdown",
      "source": [
        "##Bot Response"
      ],
      "metadata": {
        "id": "4sDeSoLVY-ba"
      }
    },
    {
      "cell_type": "code",
      "source": [
        "def greeting_response(text):\n",
        "    text = text.lower()\n",
        "\n",
        "    #Users greeting\n",
        "    user_greetings = ['hi','hey','hello','greetings','wassup','punten']\n",
        "    \n",
        "    #Bots greeting respone\n",
        "    bot_greetings = ['howdy','hi','hello','hola','mangga']\n",
        "    \n",
        "    for word in text.split():    \n",
        "        if word in user_greetings:\n",
        "            return random.choice(bot_greetings)"
      ],
      "metadata": {
        "id": "_qEZnFuAbEqD"
      },
      "execution_count": null,
      "outputs": []
    },
    {
      "cell_type": "code",
      "source": [
        " def index_sort(list_var):\n",
        "    length = len(list_var)\n",
        "    list_index = list(range(0, length))\n",
        "    \n",
        "    x = list_var        \n",
        "    for i in range(length):\n",
        "        for j in range(length):\n",
        "            if x[list_index[i]] > x[list_index[j]]:\n",
        "                #swap\n",
        "                temp = list_index[i]\n",
        "                list_index[i] = list_index[j]\n",
        "                list_index[j] = temp\n",
        "                \n",
        "    return list_index"
      ],
      "metadata": {
        "id": "IwGM9AvMbhTx"
      },
      "execution_count": null,
      "outputs": []
    },
    {
      "cell_type": "code",
      "source": [
        "#Cosine Similarity\n",
        "# Creat Bots Response\n",
        "def bot_response(user_input):\n",
        "    user_input=user_input.lower() #mengambil input user diubah menjadi huruf kecil semua\n",
        "    sentence_list.append(user_input) #proses menambahkan input user kedalam corpus kalimat artikel\n",
        "    bot_response= ''\n",
        "    cm=CountVectorizer().fit_transform(sentence_list) #mengubah teks ke bentuk vector\n",
        "    similarity_scores=cosine_similarity(cm[-1],cm) #Membandingkan kedekatan kalimat antara input dan sentence list\n",
        "    similarity_scores_list=similarity_scores.flatten() #mengubah vector cosim menjadi total nilai similarity \n",
        "    index=index_sort(similarity_scores_list) #pakai fungsi index sort untuk mengurutkan index terbesar ke terkecil\n",
        "    index=index[1:] #mengambil data dengan nilai cosim terbesar\n",
        "    response_flag=0\n",
        "    \n",
        "    j=0\n",
        "    for i in range(len(index)): #ngecheck jika kalimat di dalam index lebih dari 0 maka memiliki kesamaan dengan corpus sentence list, dan menentukan bot responnya\n",
        "        if similarity_scores_list[index[i]]>0.0:\n",
        "            bot_response=bot_response+' '+sentence_list[index[i]]\n",
        "            response_flag=1\n",
        "            j=j+1\n",
        "        if j>2:\n",
        "            break\n",
        "\n",
        "        if response_flag==0:\n",
        "            bot_response=bot_response+\" \"+\"I apologize, I dont understand\"\n",
        "\n",
        "        sentence_list.remove(user_input) \n",
        "\n",
        "        return bot_response"
      ],
      "metadata": {
        "id": "5XWaIxAPbjrA"
      },
      "execution_count": null,
      "outputs": []
    },
    {
      "cell_type": "markdown",
      "source": [
        "##End Process, Making Chatbot"
      ],
      "metadata": {
        "id": "JP4TJ9ZNZAs5"
      }
    },
    {
      "cell_type": "code",
      "source": [
        "#Start Chat\n",
        "print(\"\"\"AI ChatBot: I am DiCHiSA bot and I will answer your queries about academic burnout, \n",
        "if you want to exit, type 'bye' or 'exit'.\"\"\")\n",
        "\n",
        "exit_list=['exit','bye','see you later','quit','see ya']\n",
        "\n",
        "while(True):\n",
        "    user_input=input()\n",
        "    if user_input.lower() in exit_list:\n",
        "        print('AI ChatBot: Thank you and see you later!')\n",
        "        break\n",
        "    else:\n",
        "        if greeting_response(user_input)!= None:\n",
        "            print('AI ChatBot: '+ greeting_response(user_input))\n",
        "        else:\n",
        "            print('AI ChatBot: '+ bot_response(user_input))"
      ],
      "metadata": {
        "colab": {
          "base_uri": "https://localhost:8080/"
        },
        "id": "pZxZ_5m5bFWa",
        "outputId": "ee543b23-9ef7-4727-b584-70b699e8b8c3"
      },
      "execution_count": null,
      "outputs": [
        {
          "output_type": "stream",
          "name": "stdout",
          "text": [
            "AI ChatBot: I am DiCHiSA bot and I will answer your queries about academic burnout, \n",
            "if you want to exit, type 'bye' or 'exit'.\n",
            " burnout\n",
            "AI ChatBot:  Don’t internalize burnout as failure.\n",
            "Burnout is \n",
            "AI ChatBot:  Although it is not a medical condition and can occur in any workplace where there is stress, burnout is recognized by the World Health Organization as a syndrome.\n",
            "The key to effective recovery periods\n",
            "AI ChatBot:  The key to effective recovery periods is doing activities that give you a sense of detachment — reading fiction, cooking or going for a run, says Rajvinder Samra, senior lecturer in health at the Open University in Milton Keynes, UK.\n",
            "academic burnout\n",
            "AI ChatBot:  Managing burnout Academic researchers who are experiencing symptoms of burnout in connection with the pandemic can take some steps to help themselves feel better.\n",
            "exit\n",
            "AI ChatBot: Thank you and see you later!\n"
          ]
        }
      ]
    }
  ]
}